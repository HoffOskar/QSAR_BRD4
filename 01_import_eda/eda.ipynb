{
 "cells": [
  {
   "cell_type": "markdown",
   "id": "8f14fd62-1ec1-4543-935c-d04b1e536567",
   "metadata": {},
   "source": [
    "# BRD-4 Exploratory Data Analysis"
   ]
  },
  {
   "cell_type": "markdown",
   "id": "494c6b89",
   "metadata": {},
   "source": [
    "# Setup Code\n",
    "## Environment"
   ]
  },
  {
   "cell_type": "code",
   "execution_count": 1,
   "id": "5e94d767",
   "metadata": {},
   "outputs": [
    {
     "name": "stdout",
     "output_type": "stream",
     "text": [
      "/home/oskar/anaconda3/envs/brd4/bin/python\n"
     ]
    }
   ],
   "source": [
    "import sys\n",
    "\n",
    "print(sys.executable)"
   ]
  },
  {
   "cell_type": "markdown",
   "id": "50267fcc",
   "metadata": {},
   "source": [
    "## Imports"
   ]
  },
  {
   "cell_type": "code",
   "execution_count": 2,
   "id": "a5a8ec44",
   "metadata": {},
   "outputs": [],
   "source": [
    "### Standard imports\n",
    "import copy\n",
    "import os\n",
    "\n",
    "import matplotlib.pyplot as plt\n",
    "import numpy as np\n",
    "import pandas as pd\n",
    "import seaborn as sns\n",
    "\n",
    "### Access ChEMBL\n",
    "from chembl_webresource_client.new_client import new_client\n",
    "\n",
    "### Standard Cheminformatics imports\n",
    "from rdkit import Chem, RDLogger\n",
    "from rdkit.Chem import Descriptors, PandasTools\n",
    "from tqdm import tqdm"
   ]
  },
  {
   "cell_type": "markdown",
   "id": "198b0795",
   "metadata": {},
   "source": [
    "## Jupyter Settings"
   ]
  },
  {
   "cell_type": "code",
   "execution_count": 3,
   "id": "f9fd69a8",
   "metadata": {},
   "outputs": [],
   "source": [
    "### Suppress RDKit logs\n",
    "RDLogger.DisableLog(\"rdApp.*\")\n",
    "\n",
    "### Re-enable logging if needed\n",
    "# RDLogger.EnableLog('rdApp.*')\n",
    "\n",
    "\n",
    "### NumPy arrays - floats\n",
    "np.set_printoptions(\n",
    "    precision=2,  # round values\n",
    "    suppress=True,\n",
    ")  # avoid scientific notation\n",
    "\n",
    "### pandas DataFrames\n",
    "pd.set_option(\"display.float_format\", \"{:.3f}\".format)  # Round to 2 decimal places\n",
    "\n",
    "### To track progress of slow code\n",
    "tqdm.pandas()  # Initialize tqdm for pandas"
   ]
  },
  {
   "cell_type": "markdown",
   "id": "96b724d0",
   "metadata": {},
   "source": [
    "## Utils\n",
    "- `utils/pd_mol.py` contains individual functions for processing rdkit mol objects in pandas DataFrames"
   ]
  },
  {
   "cell_type": "code",
   "execution_count": 4,
   "id": "40a45dcd",
   "metadata": {},
   "outputs": [],
   "source": [
    "### Add the utils directory to the path\n",
    "sys.path.append(os.path.abspath(\"../utils\"))\n",
    "import pd_mol\n",
    "from pd_mol import render_mol"
   ]
  },
  {
   "cell_type": "markdown",
   "id": "c41f8d2e",
   "metadata": {},
   "source": [
    "## Functions"
   ]
  },
  {
   "cell_type": "code",
   "execution_count": 5,
   "id": "55e031e7",
   "metadata": {},
   "outputs": [],
   "source": [
    "def keep_closest_to_median(group, act_column=\"standard_value\"):\n",
    "    \"\"\"\n",
    "    Selects the row where the activity value is closest to the median\n",
    "    for a given group.\n",
    "\n",
    "    Parameters:\n",
    "        group (pd.DataFrame): A DataFrame containing multiple rows corresponding to a single `molecule_chembl_id` group.\n",
    "        act_column (str) The name of the column containing the bioactivity values.\n",
    "\n",
    "    Returns:\n",
    "        row (pd.Series): The row with the activity value closest to the median of the group.\n",
    "    \"\"\"\n",
    "    median_value = group[act_column].median()  # Compute median for the group\n",
    "    return group.loc[(group[act_column] - median_value).abs().idxmin()]\n"
   ]
  },
  {
   "cell_type": "markdown",
   "id": "77064f9b-844a-403c-b3c6-6ed6fb67cb82",
   "metadata": {
    "tags": []
   },
   "source": [
    "# Import BRD4 Data from ChEMBL"
   ]
  },
  {
   "cell_type": "code",
   "execution_count": 6,
   "id": "59117126-b2be-40c7-a83e-99e06eff7b96",
   "metadata": {
    "scrolled": true,
    "tags": []
   },
   "outputs": [
    {
     "name": "stdout",
     "output_type": "stream",
     "text": [
      "activity\n",
      "activity_supplementary_data_by_activity\n",
      "assay\n",
      "assay_class\n",
      "atc_class\n",
      "binding_site\n",
      "biotherapeutic\n",
      "cell_line\n",
      "chembl_id_lookup\n",
      "chembl_release\n",
      "compound_record\n",
      "compound_structural_alert\n",
      "description\n",
      "document\n",
      "document_similarity\n",
      "drug\n",
      "drug_indication\n",
      "drug_warning\n",
      "go_slim\n",
      "image\n",
      "mechanism\n",
      "metabolism\n",
      "molecule\n",
      "molecule_form\n",
      "official\n",
      "organism\n",
      "protein_classification\n",
      "similarity\n",
      "source\n",
      "substructure\n",
      "target\n",
      "target_component\n",
      "target_relation\n",
      "tissue\n",
      "xref_source\n"
     ]
    }
   ],
   "source": [
    "### List all tables\n",
    "available_resources = [\n",
    "    resource for resource in dir(new_client) if not resource.startswith(\"_\")\n",
    "]\n",
    "print(\"\\n\".join(available_resources))"
   ]
  },
  {
   "cell_type": "code",
   "execution_count": 7,
   "id": "fb9911b8-09c9-49ae-967b-e28ff7c58291",
   "metadata": {
    "tags": []
   },
   "outputs": [
    {
     "data": {
      "text/plain": [
       "chembl_webresource_client.query_set.QuerySet"
      ]
     },
     "execution_count": 7,
     "metadata": {},
     "output_type": "execute_result"
    }
   ],
   "source": [
    "### Create resource objects for API access\n",
    "targets_api = new_client.target\n",
    "compounds_api = new_client.molecule\n",
    "bioactivities_api = new_client.activity\n",
    "type(targets_api)"
   ]
  },
  {
   "cell_type": "markdown",
   "id": "c4289afd-63ad-483b-9682-761d1a6019b2",
   "metadata": {
    "tags": []
   },
   "source": [
    "## Get target data\n",
    "\n",
    "* Get UniProt ID of the target of interest from [UniProt website](https://www.uniprot.org/)\n",
    "* Use UniProt ID to get target information"
   ]
  },
  {
   "cell_type": "code",
   "execution_count": 8,
   "id": "1a6fd09c-c650-453b-9820-faa4d816a437",
   "metadata": {
    "tags": []
   },
   "outputs": [],
   "source": [
    "### UniProtID for BRD4\n",
    "uniprot_id = \"O60885\""
   ]
  },
  {
   "cell_type": "code",
   "execution_count": 9,
   "id": "d15fae35-3fd9-43a7-937e-a8d69978399e",
   "metadata": {
    "tags": []
   },
   "outputs": [
    {
     "name": "stdout",
     "output_type": "stream",
     "text": [
      "The type of the targets is \"<class 'chembl_webresource_client.query_set.QuerySet'>\"\n"
     ]
    }
   ],
   "source": [
    "### Get target information from ChEMBL but restrict it to specified values only\n",
    "targets = targets_api.get(target_components__accession=uniprot_id).only(\n",
    "    \"target_chembl_id\", \"organism\", \"pref_name\", \"target_type\"\n",
    ")\n",
    "print(f'The type of the targets is \"{type(targets)}\"')"
   ]
  },
  {
   "cell_type": "code",
   "execution_count": 10,
   "id": "6e72ebd0-bab8-4b62-863c-da12aa47a4dd",
   "metadata": {
    "tags": []
   },
   "outputs": [
    {
     "data": {
      "application/vnd.microsoft.datawrangler.viewer.v0+json": {
       "columns": [
        {
         "name": "index",
         "rawType": "int64",
         "type": "integer"
        },
        {
         "name": "organism",
         "rawType": "object",
         "type": "string"
        },
        {
         "name": "pref_name",
         "rawType": "object",
         "type": "string"
        },
        {
         "name": "target_chembl_id",
         "rawType": "object",
         "type": "string"
        },
        {
         "name": "target_type",
         "rawType": "object",
         "type": "string"
        }
       ],
       "conversionMethod": "pd.DataFrame",
       "ref": "23ae8b4a-d91b-451c-85e2-4b53e272d161",
       "rows": [
        [
         "0",
         "Homo sapiens",
         "Bromodomain-containing protein 4",
         "CHEMBL1163125",
         "SINGLE PROTEIN"
        ],
        [
         "1",
         "Homo sapiens",
         "Bromodomain-containing protein 4",
         "CHEMBL1163125",
         "SINGLE PROTEIN"
        ],
        [
         "2",
         "Homo sapiens",
         "BRD4/HDAC1",
         "CHEMBL4106143",
         "PROTEIN COMPLEX"
        ],
        [
         "3",
         "Homo sapiens",
         "Cereblon/Cullin-4A/Bromodomain-containing protein 4",
         "CHEMBL4296133",
         "PROTEIN-PROTEIN INTERACTION"
        ],
        [
         "4",
         "Homo sapiens",
         "Cereblon/Bromodomain-containing protein 4",
         "CHEMBL4296138",
         "PROTEIN-PROTEIN INTERACTION"
        ]
       ],
       "shape": {
        "columns": 4,
        "rows": 5
       }
      },
      "text/html": [
       "<div>\n",
       "<style scoped>\n",
       "    .dataframe tbody tr th:only-of-type {\n",
       "        vertical-align: middle;\n",
       "    }\n",
       "\n",
       "    .dataframe tbody tr th {\n",
       "        vertical-align: top;\n",
       "    }\n",
       "\n",
       "    .dataframe thead th {\n",
       "        text-align: right;\n",
       "    }\n",
       "</style>\n",
       "<table border=\"1\" class=\"dataframe\">\n",
       "  <thead>\n",
       "    <tr style=\"text-align: right;\">\n",
       "      <th></th>\n",
       "      <th>organism</th>\n",
       "      <th>pref_name</th>\n",
       "      <th>target_chembl_id</th>\n",
       "      <th>target_type</th>\n",
       "    </tr>\n",
       "  </thead>\n",
       "  <tbody>\n",
       "    <tr>\n",
       "      <th>0</th>\n",
       "      <td>Homo sapiens</td>\n",
       "      <td>Bromodomain-containing protein 4</td>\n",
       "      <td>CHEMBL1163125</td>\n",
       "      <td>SINGLE PROTEIN</td>\n",
       "    </tr>\n",
       "    <tr>\n",
       "      <th>1</th>\n",
       "      <td>Homo sapiens</td>\n",
       "      <td>Bromodomain-containing protein 4</td>\n",
       "      <td>CHEMBL1163125</td>\n",
       "      <td>SINGLE PROTEIN</td>\n",
       "    </tr>\n",
       "    <tr>\n",
       "      <th>2</th>\n",
       "      <td>Homo sapiens</td>\n",
       "      <td>BRD4/HDAC1</td>\n",
       "      <td>CHEMBL4106143</td>\n",
       "      <td>PROTEIN COMPLEX</td>\n",
       "    </tr>\n",
       "    <tr>\n",
       "      <th>3</th>\n",
       "      <td>Homo sapiens</td>\n",
       "      <td>Cereblon/Cullin-4A/Bromodomain-containing prot...</td>\n",
       "      <td>CHEMBL4296133</td>\n",
       "      <td>PROTEIN-PROTEIN INTERACTION</td>\n",
       "    </tr>\n",
       "    <tr>\n",
       "      <th>4</th>\n",
       "      <td>Homo sapiens</td>\n",
       "      <td>Cereblon/Bromodomain-containing protein 4</td>\n",
       "      <td>CHEMBL4296138</td>\n",
       "      <td>PROTEIN-PROTEIN INTERACTION</td>\n",
       "    </tr>\n",
       "  </tbody>\n",
       "</table>\n",
       "</div>"
      ],
      "text/plain": [
       "       organism                                          pref_name  \\\n",
       "0  Homo sapiens                   Bromodomain-containing protein 4   \n",
       "1  Homo sapiens                   Bromodomain-containing protein 4   \n",
       "2  Homo sapiens                                         BRD4/HDAC1   \n",
       "3  Homo sapiens  Cereblon/Cullin-4A/Bromodomain-containing prot...   \n",
       "4  Homo sapiens          Cereblon/Bromodomain-containing protein 4   \n",
       "\n",
       "  target_chembl_id                  target_type  \n",
       "0    CHEMBL1163125               SINGLE PROTEIN  \n",
       "1    CHEMBL1163125               SINGLE PROTEIN  \n",
       "2    CHEMBL4106143              PROTEIN COMPLEX  \n",
       "3    CHEMBL4296133  PROTEIN-PROTEIN INTERACTION  \n",
       "4    CHEMBL4296138  PROTEIN-PROTEIN INTERACTION  "
      ]
     },
     "execution_count": 10,
     "metadata": {},
     "output_type": "execute_result"
    }
   ],
   "source": [
    "### List all ChEMBL targets associated with the given UniProtID\n",
    "targets_df = pd.DataFrame.from_records(targets)\n",
    "targets_df.head()"
   ]
  },
  {
   "cell_type": "code",
   "execution_count": 11,
   "id": "ead78c37-a22c-4a75-aabe-fccd65427162",
   "metadata": {
    "tags": []
   },
   "outputs": [
    {
     "data": {
      "text/plain": [
       "organism                                Homo sapiens\n",
       "pref_name           Bromodomain-containing protein 4\n",
       "target_chembl_id                       CHEMBL1163125\n",
       "target_type                           SINGLE PROTEIN\n",
       "Name: 0, dtype: object"
      ]
     },
     "execution_count": 11,
     "metadata": {},
     "output_type": "execute_result"
    }
   ],
   "source": [
    "### Select target (target_ChEMBL_ID) - it's usually the first one\n",
    "target_df = targets_df.iloc[0]\n",
    "target_df"
   ]
  },
  {
   "cell_type": "code",
   "execution_count": 12,
   "id": "366b2ece-1f45-4c58-87e4-9343c68f4349",
   "metadata": {
    "tags": []
   },
   "outputs": [
    {
     "name": "stdout",
     "output_type": "stream",
     "text": [
      "The target ChEMBL ID is CHEMBL1163125\n"
     ]
    }
   ],
   "source": [
    "### Save selected ChEMBL ID\n",
    "chembl_id = target_df.target_chembl_id\n",
    "print(f\"The target ChEMBL ID is {chembl_id}\")"
   ]
  },
  {
   "cell_type": "markdown",
   "id": "1e0bc506-f360-4f82-b177-8063fc7652be",
   "metadata": {
    "toc-hr-collapsed": true
   },
   "source": [
    "## Get bioactivity data"
   ]
  },
  {
   "cell_type": "markdown",
   "id": "982947bc-5135-4f37-a8de-5df33d648e54",
   "metadata": {},
   "source": [
    "Fetch the bioactivity data and filter it to only consider\n",
    "\n",
    "* human proteins, \n",
    "* bioactivity type IC50, \n",
    "* exact measurements (relation `'='`), and\n",
    "* binding data (assay type `'B'`)."
   ]
  },
  {
   "cell_type": "code",
   "execution_count": 13,
   "id": "7194425e-bb8e-4bbe-82d7-59144f1465df",
   "metadata": {
    "tags": []
   },
   "outputs": [
    {
     "name": "stdout",
     "output_type": "stream",
     "text": [
      "Length and type of bioactivities object: 4252, <class 'chembl_webresource_client.query_set.QuerySet'>\n"
     ]
    }
   ],
   "source": [
    "bioactivities = bioactivities_api.filter(\n",
    "    target_chembl_id=chembl_id, type=\"IC50\", relation=\"=\", assay_type=\"B\"\n",
    ").only(\n",
    "    \"activity_id\",\n",
    "    \"assay_chembl_id\",\n",
    "    \"assay_description\",\n",
    "    \"assay_type\",\n",
    "    \"molecule_chembl_id\",\n",
    "    \"type\",\n",
    "    \"standard_units\",\n",
    "    \"relation\",\n",
    "    \"standard_value\",\n",
    "    \"target_chembl_id\",\n",
    "    \"target_organism\",\n",
    ")\n",
    "\n",
    "print(\n",
    "    f\"Length and type of bioactivities object: {len(bioactivities)}, {type(bioactivities)}\"\n",
    ")"
   ]
  },
  {
   "cell_type": "markdown",
   "id": "9e598ceb-4841-4f13-9e27-8021f2734b21",
   "metadata": {},
   "source": [
    "Each entry in our bioactivity set holds the following information:"
   ]
  },
  {
   "cell_type": "code",
   "execution_count": 14,
   "id": "c31c2a2d-14ef-4d15-a566-c5614789ab05",
   "metadata": {
    "tags": []
   },
   "outputs": [
    {
     "name": "stdout",
     "output_type": "stream",
     "text": [
      "Length and type of first element: 13, <class 'dict'>\n"
     ]
    },
    {
     "data": {
      "text/plain": [
       "{'activity_id': 6364731,\n",
       " 'assay_chembl_id': 'CHEMBL1832996',\n",
       " 'assay_description': 'Displacement of H4Ac4 peptide from first bromodomain of human BRD4 by peptide displacement assay',\n",
       " 'assay_type': 'B',\n",
       " 'molecule_chembl_id': 'CHEMBL1828978',\n",
       " 'relation': '=',\n",
       " 'standard_units': 'nM',\n",
       " 'standard_value': '4800.0',\n",
       " 'target_chembl_id': 'CHEMBL1163125',\n",
       " 'target_organism': 'Homo sapiens',\n",
       " 'type': 'IC50',\n",
       " 'units': 'uM',\n",
       " 'value': '4.8'}"
      ]
     },
     "execution_count": 14,
     "metadata": {},
     "output_type": "execute_result"
    }
   ],
   "source": [
    "print(\n",
    "    f\"Length and type of first element: {len(bioactivities[0])}, {type(bioactivities[0])}\"\n",
    ")\n",
    "bioactivities[0]"
   ]
  },
  {
   "cell_type": "markdown",
   "id": "209d07eb-08f2-4c7d-b9ad-2b95b6d635b7",
   "metadata": {},
   "source": [
    "Download the `QuerySet` in the form of a `pandas` `DataFrame`. \n",
    "\n",
    "> **Note**: This step should not take more than 2 minutes, if so try to rerun all cells in this chapter"
   ]
  },
  {
   "cell_type": "code",
   "execution_count": 15,
   "id": "b69a9664-c329-4b27-ab5d-71a636d32d3f",
   "metadata": {
    "tags": []
   },
   "outputs": [
    {
     "name": "stdout",
     "output_type": "stream",
     "text": [
      "DataFrame shape: (4252, 13)\n"
     ]
    },
    {
     "data": {
      "application/vnd.microsoft.datawrangler.viewer.v0+json": {
       "columns": [
        {
         "name": "index",
         "rawType": "int64",
         "type": "integer"
        },
        {
         "name": "activity_id",
         "rawType": "int64",
         "type": "integer"
        },
        {
         "name": "assay_chembl_id",
         "rawType": "object",
         "type": "string"
        },
        {
         "name": "assay_description",
         "rawType": "object",
         "type": "string"
        },
        {
         "name": "assay_type",
         "rawType": "object",
         "type": "string"
        },
        {
         "name": "molecule_chembl_id",
         "rawType": "object",
         "type": "string"
        },
        {
         "name": "relation",
         "rawType": "object",
         "type": "string"
        },
        {
         "name": "standard_units",
         "rawType": "object",
         "type": "string"
        },
        {
         "name": "standard_value",
         "rawType": "object",
         "type": "string"
        },
        {
         "name": "target_chembl_id",
         "rawType": "object",
         "type": "string"
        },
        {
         "name": "target_organism",
         "rawType": "object",
         "type": "string"
        },
        {
         "name": "type",
         "rawType": "object",
         "type": "string"
        }
       ],
       "conversionMethod": "pd.DataFrame",
       "ref": "82b22add-1ed2-4680-8062-17b5b3643582",
       "rows": [
        [
         "0",
         "6364731",
         "CHEMBL1832996",
         "Displacement of H4Ac4 peptide from first bromodomain of human BRD4 by peptide displacement assay",
         "B",
         "CHEMBL1828978",
         "=",
         "nM",
         "4800.0",
         "CHEMBL1163125",
         "Homo sapiens",
         "IC50"
        ],
        [
         "1",
         "6364732",
         "CHEMBL1832996",
         "Displacement of H4Ac4 peptide from first bromodomain of human BRD4 by peptide displacement assay",
         "B",
         "CHEMBL1828979",
         "=",
         "nM",
         "84200.0",
         "CHEMBL1163125",
         "Homo sapiens",
         "IC50"
        ],
        [
         "2",
         "6364733",
         "CHEMBL1832996",
         "Displacement of H4Ac4 peptide from first bromodomain of human BRD4 by peptide displacement assay",
         "B",
         "CHEMBL1828980",
         "=",
         "nM",
         "24600.0",
         "CHEMBL1163125",
         "Homo sapiens",
         "IC50"
        ],
        [
         "3",
         "6364734",
         "CHEMBL1832996",
         "Displacement of H4Ac4 peptide from first bromodomain of human BRD4 by peptide displacement assay",
         "B",
         "CHEMBL1828981",
         "=",
         "nM",
         "23200.0",
         "CHEMBL1163125",
         "Homo sapiens",
         "IC50"
        ],
        [
         "4",
         "6364735",
         "CHEMBL1832996",
         "Displacement of H4Ac4 peptide from first bromodomain of human BRD4 by peptide displacement assay",
         "B",
         "CHEMBL1828982",
         "=",
         "nM",
         "9700.0",
         "CHEMBL1163125",
         "Homo sapiens",
         "IC50"
        ]
       ],
       "shape": {
        "columns": 11,
        "rows": 5
       }
      },
      "text/html": [
       "<div>\n",
       "<style scoped>\n",
       "    .dataframe tbody tr th:only-of-type {\n",
       "        vertical-align: middle;\n",
       "    }\n",
       "\n",
       "    .dataframe tbody tr th {\n",
       "        vertical-align: top;\n",
       "    }\n",
       "\n",
       "    .dataframe thead th {\n",
       "        text-align: right;\n",
       "    }\n",
       "</style>\n",
       "<table border=\"1\" class=\"dataframe\">\n",
       "  <thead>\n",
       "    <tr style=\"text-align: right;\">\n",
       "      <th></th>\n",
       "      <th>activity_id</th>\n",
       "      <th>assay_chembl_id</th>\n",
       "      <th>assay_description</th>\n",
       "      <th>assay_type</th>\n",
       "      <th>molecule_chembl_id</th>\n",
       "      <th>relation</th>\n",
       "      <th>standard_units</th>\n",
       "      <th>standard_value</th>\n",
       "      <th>target_chembl_id</th>\n",
       "      <th>target_organism</th>\n",
       "      <th>type</th>\n",
       "    </tr>\n",
       "  </thead>\n",
       "  <tbody>\n",
       "    <tr>\n",
       "      <th>0</th>\n",
       "      <td>6364731</td>\n",
       "      <td>CHEMBL1832996</td>\n",
       "      <td>Displacement of H4Ac4 peptide from first bromo...</td>\n",
       "      <td>B</td>\n",
       "      <td>CHEMBL1828978</td>\n",
       "      <td>=</td>\n",
       "      <td>nM</td>\n",
       "      <td>4800.0</td>\n",
       "      <td>CHEMBL1163125</td>\n",
       "      <td>Homo sapiens</td>\n",
       "      <td>IC50</td>\n",
       "    </tr>\n",
       "    <tr>\n",
       "      <th>1</th>\n",
       "      <td>6364732</td>\n",
       "      <td>CHEMBL1832996</td>\n",
       "      <td>Displacement of H4Ac4 peptide from first bromo...</td>\n",
       "      <td>B</td>\n",
       "      <td>CHEMBL1828979</td>\n",
       "      <td>=</td>\n",
       "      <td>nM</td>\n",
       "      <td>84200.0</td>\n",
       "      <td>CHEMBL1163125</td>\n",
       "      <td>Homo sapiens</td>\n",
       "      <td>IC50</td>\n",
       "    </tr>\n",
       "    <tr>\n",
       "      <th>2</th>\n",
       "      <td>6364733</td>\n",
       "      <td>CHEMBL1832996</td>\n",
       "      <td>Displacement of H4Ac4 peptide from first bromo...</td>\n",
       "      <td>B</td>\n",
       "      <td>CHEMBL1828980</td>\n",
       "      <td>=</td>\n",
       "      <td>nM</td>\n",
       "      <td>24600.0</td>\n",
       "      <td>CHEMBL1163125</td>\n",
       "      <td>Homo sapiens</td>\n",
       "      <td>IC50</td>\n",
       "    </tr>\n",
       "    <tr>\n",
       "      <th>3</th>\n",
       "      <td>6364734</td>\n",
       "      <td>CHEMBL1832996</td>\n",
       "      <td>Displacement of H4Ac4 peptide from first bromo...</td>\n",
       "      <td>B</td>\n",
       "      <td>CHEMBL1828981</td>\n",
       "      <td>=</td>\n",
       "      <td>nM</td>\n",
       "      <td>23200.0</td>\n",
       "      <td>CHEMBL1163125</td>\n",
       "      <td>Homo sapiens</td>\n",
       "      <td>IC50</td>\n",
       "    </tr>\n",
       "    <tr>\n",
       "      <th>4</th>\n",
       "      <td>6364735</td>\n",
       "      <td>CHEMBL1832996</td>\n",
       "      <td>Displacement of H4Ac4 peptide from first bromo...</td>\n",
       "      <td>B</td>\n",
       "      <td>CHEMBL1828982</td>\n",
       "      <td>=</td>\n",
       "      <td>nM</td>\n",
       "      <td>9700.0</td>\n",
       "      <td>CHEMBL1163125</td>\n",
       "      <td>Homo sapiens</td>\n",
       "      <td>IC50</td>\n",
       "    </tr>\n",
       "  </tbody>\n",
       "</table>\n",
       "</div>"
      ],
      "text/plain": [
       "   activity_id assay_chembl_id  \\\n",
       "0      6364731   CHEMBL1832996   \n",
       "1      6364732   CHEMBL1832996   \n",
       "2      6364733   CHEMBL1832996   \n",
       "3      6364734   CHEMBL1832996   \n",
       "4      6364735   CHEMBL1832996   \n",
       "\n",
       "                                   assay_description assay_type  \\\n",
       "0  Displacement of H4Ac4 peptide from first bromo...          B   \n",
       "1  Displacement of H4Ac4 peptide from first bromo...          B   \n",
       "2  Displacement of H4Ac4 peptide from first bromo...          B   \n",
       "3  Displacement of H4Ac4 peptide from first bromo...          B   \n",
       "4  Displacement of H4Ac4 peptide from first bromo...          B   \n",
       "\n",
       "  molecule_chembl_id relation standard_units standard_value target_chembl_id  \\\n",
       "0      CHEMBL1828978        =             nM         4800.0    CHEMBL1163125   \n",
       "1      CHEMBL1828979        =             nM        84200.0    CHEMBL1163125   \n",
       "2      CHEMBL1828980        =             nM        24600.0    CHEMBL1163125   \n",
       "3      CHEMBL1828981        =             nM        23200.0    CHEMBL1163125   \n",
       "4      CHEMBL1828982        =             nM         9700.0    CHEMBL1163125   \n",
       "\n",
       "  target_organism  type  \n",
       "0    Homo sapiens  IC50  \n",
       "1    Homo sapiens  IC50  \n",
       "2    Homo sapiens  IC50  \n",
       "3    Homo sapiens  IC50  \n",
       "4    Homo sapiens  IC50  "
      ]
     },
     "execution_count": 15,
     "metadata": {},
     "output_type": "execute_result"
    }
   ],
   "source": [
    "### Download data - read above\n",
    "bioactivities_df = pd.DataFrame.from_dict(bioactivities)\n",
    "print(f\"DataFrame shape: {bioactivities_df.shape}\")\n",
    "\n",
    "### Drop redundant columns\n",
    "bioactivities_df.drop([\"units\", \"value\"], axis=1, inplace=True)\n",
    "bioactivities_df.head()"
   ]
  },
  {
   "cell_type": "code",
   "execution_count": 16,
   "id": "f3b2e49b-4f2f-47dc-807e-3efe57dd39ec",
   "metadata": {
    "tags": []
   },
   "outputs": [
    {
     "data": {
      "text/plain": [
       "array(['nM', '10^2 uM'], dtype=object)"
      ]
     },
     "execution_count": 16,
     "metadata": {},
     "output_type": "execute_result"
    }
   ],
   "source": [
    "bioactivities_df[\"standard_units\"].unique()"
   ]
  },
  {
   "cell_type": "markdown",
   "id": "afb111fd-f560-4dad-8b79-11e2627d7553",
   "metadata": {},
   "source": [
    "### Preprocess and filter bioactivity data\n",
    "\n",
    "1. Convert `standard_value`'s datatype from `object` to `float`\n",
    "2. Delete entries with missing values\n",
    "3. Keep only entries with `standard_unit == nM`\n",
    "4. Delete duplicate molecules\n",
    "5. Reset `DataFrame` index\n",
    "6. Rename columns"
   ]
  },
  {
   "cell_type": "markdown",
   "id": "689cac06-8400-49cd-b4d5-d6c83fbc32b2",
   "metadata": {},
   "source": [
    "**1. Convert datatype of \"standard_value\" from \"object\" to \"float\"**\n",
    "\n",
    "The field `standard_value` holds standardized (here IC50) values. In order to make these values usable in calculations later on, convert values to floats."
   ]
  },
  {
   "cell_type": "code",
   "execution_count": 17,
   "id": "11125ef4-5782-499e-bce3-10121dc3bfd0",
   "metadata": {
    "tags": []
   },
   "outputs": [
    {
     "data": {
      "text/plain": [
       "activity_id             int64\n",
       "assay_chembl_id        object\n",
       "assay_description      object\n",
       "assay_type             object\n",
       "molecule_chembl_id     object\n",
       "relation               object\n",
       "standard_units         object\n",
       "standard_value        float64\n",
       "target_chembl_id       object\n",
       "target_organism        object\n",
       "type                   object\n",
       "dtype: object"
      ]
     },
     "execution_count": 17,
     "metadata": {},
     "output_type": "execute_result"
    }
   ],
   "source": [
    "bioactivities_df = bioactivities_df.astype({\"standard_value\": \"float64\"})\n",
    "bioactivities_df.dtypes"
   ]
  },
  {
   "cell_type": "markdown",
   "id": "4cd567ee-7b15-4dda-b5a7-b00eab6ee5f9",
   "metadata": {},
   "source": [
    "**2. Delete entries with missing values**"
   ]
  },
  {
   "cell_type": "code",
   "execution_count": 18,
   "id": "94ae9b10-f822-4f36-969f-feebbe6b8a2e",
   "metadata": {
    "tags": []
   },
   "outputs": [
    {
     "name": "stdout",
     "output_type": "stream",
     "text": [
      "DataFrame shape: (4252, 11)\n"
     ]
    }
   ],
   "source": [
    "bioactivities_df.dropna(axis=0, how=\"any\", inplace=True)\n",
    "print(f\"DataFrame shape: {bioactivities_df.shape}\")"
   ]
  },
  {
   "cell_type": "markdown",
   "id": "2153cf0c-3c9a-444e-8597-029f5b247f82",
   "metadata": {},
   "source": [
    "**3. Keep only entries with \"standard_unit == nM\"** "
   ]
  },
  {
   "cell_type": "code",
   "execution_count": 19,
   "id": "7bd27515-fafe-4c11-8838-7d63a72cc721",
   "metadata": {
    "tags": []
   },
   "outputs": [
    {
     "name": "stdout",
     "output_type": "stream",
     "text": [
      "Units in downloaded data: ['nM' '10^2 uM']\n",
      "Number of non-nM entries:    13\n",
      "DataFrame shape after subsetting: (4239, 11)\n"
     ]
    }
   ],
   "source": [
    "### Metrics on units\n",
    "print(f\"Units in downloaded data: {bioactivities_df['standard_units'].unique()}\")\n",
    "print(\n",
    "    f\"Number of non-nM entries:\\\n",
    "    {bioactivities_df[bioactivities_df['standard_units'] != 'nM'].shape[0]}\"\n",
    ")\n",
    "\n",
    "### Drop non-nM entries\n",
    "bioactivities_df = bioactivities_df[bioactivities_df[\"standard_units\"] == \"nM\"]\n",
    "print(f\"DataFrame shape after subsetting: {bioactivities_df.shape}\")"
   ]
  },
  {
   "cell_type": "markdown",
   "id": "14da4af0-dfb3-4f3d-be3c-b317d9cee881",
   "metadata": {},
   "source": [
    "**4. Delete duplicate molecules**\n",
    "\n",
    "Often the same molecule (`molecule_chembl_id`) has been tested more than once. In these cases, the entry closest to the median for this id is kept.\n",
    "\n",
    "`Note:` other choices could be to keep the first entry, the one with the best/lowest value or a mean/median value of all assay results for the respective compound."
   ]
  },
  {
   "cell_type": "code",
   "execution_count": 20,
   "id": "76857521",
   "metadata": {},
   "outputs": [
    {
     "name": "stdout",
     "output_type": "stream",
     "text": [
      "Number of molecule_chembl_id values: 3057\n",
      "DataFrame shape after filtering: (3057, 11)\n"
     ]
    },
    {
     "name": "stderr",
     "output_type": "stream",
     "text": [
      "/tmp/ipykernel_22496/3765842411.py:10: DeprecationWarning: DataFrameGroupBy.apply operated on the grouping columns. This behavior is deprecated, and in a future version of pandas the grouping columns will be excluded from the operation. Either pass `include_groups=False` to exclude the groupings or explicitly select the grouping columns after groupby to silence this warning.\n",
      "  ).apply(keep_closest_to_median)\n"
     ]
    },
    {
     "data": {
      "application/vnd.microsoft.datawrangler.viewer.v0+json": {
       "columns": [
        {
         "name": "index",
         "rawType": "int64",
         "type": "integer"
        },
        {
         "name": "activity_id",
         "rawType": "int64",
         "type": "integer"
        },
        {
         "name": "assay_chembl_id",
         "rawType": "object",
         "type": "string"
        },
        {
         "name": "assay_description",
         "rawType": "object",
         "type": "string"
        },
        {
         "name": "assay_type",
         "rawType": "object",
         "type": "string"
        },
        {
         "name": "molecule_chembl_id",
         "rawType": "object",
         "type": "string"
        },
        {
         "name": "relation",
         "rawType": "object",
         "type": "string"
        },
        {
         "name": "standard_units",
         "rawType": "object",
         "type": "string"
        },
        {
         "name": "standard_value",
         "rawType": "float64",
         "type": "float"
        },
        {
         "name": "target_chembl_id",
         "rawType": "object",
         "type": "string"
        },
        {
         "name": "target_organism",
         "rawType": "object",
         "type": "string"
        },
        {
         "name": "type",
         "rawType": "object",
         "type": "string"
        }
       ],
       "conversionMethod": "pd.DataFrame",
       "ref": "03f75f5a-ea19-4d0d-82f1-14655d7006a3",
       "rows": [
        [
         "0",
         "25445894",
         "CHEMBL5317664",
         "Inhibition of BRD4-BD1 (unknown origin) by fluorescence polarization assay",
         "B",
         "CHEMBL1097107",
         "=",
         "nM",
         "556.2",
         "CHEMBL1163125",
         "Homo sapiens",
         "IC50"
        ],
        [
         "1",
         "12134097",
         "CHEMBL2183681",
         "Inhibition of BRD4 isoform 1 by AlphaScreen assay",
         "B",
         "CHEMBL1230189",
         "=",
         "nM",
         "39000.0",
         "CHEMBL1163125",
         "Homo sapiens",
         "IC50"
        ],
        [
         "2",
         "15613371",
         "CHEMBL3584940",
         "Displacement of FAM-labeled ZBA248 from BRD4 BD2 (333 to 460 amino acid residues) (unknown origin) expressed in Rosetta2 DE3 cells after 30 mins by fluorescence polarization assay",
         "B",
         "CHEMBL1232461",
         "=",
         "nM",
         "98.4",
         "CHEMBL1163125",
         "Homo sapiens",
         "IC50"
        ],
        [
         "3",
         "25521641",
         "CHEMBL5337544",
         "Inhibition of BRD4 (unknown origin) using BET peptide as substrate preincubated for 15 mins followed by substrate addition and measured after 60 mins by HTRF assay",
         "B",
         "CHEMBL1233528",
         "=",
         "nM",
         "119.8",
         "CHEMBL1163125",
         "Homo sapiens",
         "IC50"
        ],
        [
         "4",
         "13972330",
         "CHEMBL3136026",
         "Inhibition of BRD4(1) (unknown origin) by Alpha screen binding assay",
         "B",
         "CHEMBL12543",
         "=",
         "nM",
         "6000000.0",
         "CHEMBL1163125",
         "Homo sapiens",
         "IC50"
        ],
        [
         "5",
         "16844128",
         "CHEMBL3877181",
         "Inhibition of N-terminal 6His-tagged human BRD4 bromodomain 1 (44 to 168 residues) expressed in Escherichia coli BL21 (DE3) using biotinylated histone H4 peptide (1 to 21 residues) containing KAc (K5/8/12/16Ac) as substrate by Alpha screen assay",
         "B",
         "CHEMBL1287853",
         "=",
         "nM",
         "290.0",
         "CHEMBL1163125",
         "Homo sapiens",
         "IC50"
        ],
        [
         "6",
         "18742072",
         "CHEMBL4262433",
         "Inhibition of SGRG-K(Ac)-GG-K(Ac)-GLGK(Ac)-GGA-K(Ac)-RHRKVGG-K(Biotin) binding to N-terminal 6xHis-tagged human BRD4 bromodomain 1 expressed in Escherichia coli BL21 (DE3) preincubated for 10 mins followed by peptide addition and measured after 10 mins by AlphaScreen assay",
         "B",
         "CHEMBL1313432",
         "=",
         "nM",
         "6600.0",
         "CHEMBL1163125",
         "Homo sapiens",
         "IC50"
        ],
        [
         "7",
         "19057695",
         "CHEMBL4357123",
         "Displacement of tetra-acetylated histone H4 peptide (1-21) from recombinant human N-terminal His-tagged BRD4 BD1 (44 to 170 residues) expressed in Escherichia coli incubated for 30 mins followed by further incubation with tetra-acetylated histone H4 peptide (1-21) for 30 mins by Alphascreen assay",
         "B",
         "CHEMBL1344420",
         "=",
         "nM",
         "15530.0",
         "CHEMBL1163125",
         "Homo sapiens",
         "IC50"
        ],
        [
         "8",
         "18951362",
         "CHEMBL4331530",
         "Inhibition of BRD4 BD1 (unknown origin) using biotin labelled NeC: SGRG-K(Ac)-GG-K(Ac)-GLG-K(Ac)-GGA-K(Ac)-RHRKVGG-K as substrate preincubated for 15 mins followed by substrate addition measured after 30 mins by alpha screen assay",
         "B",
         "CHEMBL1361699",
         "=",
         "nM",
         "101.0",
         "CHEMBL1163125",
         "Homo sapiens",
         "IC50"
        ],
        [
         "9",
         "18742077",
         "CHEMBL4262433",
         "Inhibition of SGRG-K(Ac)-GG-K(Ac)-GLGK(Ac)-GGA-K(Ac)-RHRKVGG-K(Biotin) binding to N-terminal 6xHis-tagged human BRD4 bromodomain 1 expressed in Escherichia coli BL21 (DE3) preincubated for 10 mins followed by peptide addition and measured after 10 mins by AlphaScreen assay",
         "B",
         "CHEMBL1362741",
         "=",
         "nM",
         "8500.0",
         "CHEMBL1163125",
         "Homo sapiens",
         "IC50"
        ],
        [
         "10",
         "16844169",
         "CHEMBL3877171",
         "Inhibition of immobilized N-LY294002 bead binding to C-terminal Flag-tagged BRD4 (unknown origin) expressed in HEK293T cell nuclear extract incubated for 1 hr by LC-MS/MS analysis",
         "B",
         "CHEMBL1363184",
         "=",
         "nM",
         "9050.0",
         "CHEMBL1163125",
         "Homo sapiens",
         "IC50"
        ],
        [
         "11",
         "18056828",
         "CHEMBL4012419",
         "Inhibition of human BRD4-BD1 (49 to 170 residues) expressed in Escherichia coli BL21(DE3) using N-C:SGRG-K(Ac)-GG-K(Ac)-GLG-K(Ac)-GGA-K(Ac)-RHRKVGG-K(biotin) as substrate preincubated for 15 mins followed by substrate addition measured after 5 mins by AlphaScreen assay",
         "B",
         "CHEMBL1381011",
         "=",
         "nM",
         "10980.0",
         "CHEMBL1163125",
         "Homo sapiens",
         "IC50"
        ],
        [
         "12",
         "18871544",
         "CHEMBL4310083",
         "Inhibition of BRD4 bromodomain 1 (unknown origin) expressed in Escherichia coli Bl21(DE3) by fluorescence anisotropy",
         "B",
         "CHEMBL13880",
         "=",
         "nM",
         "2900.0",
         "CHEMBL1163125",
         "Homo sapiens",
         "IC50"
        ],
        [
         "13",
         "16444168",
         "CHEMBL3757071",
         "Displacement of biotinylated H4(1 to 24 amino acid residues)-K5/8/12/16Ac from human N-terminal His6-tagged BRD4 bromodomain-1 expressed in Escherichia coli BL21(DE3) cells by alpha screen assay",
         "B",
         "CHEMBL14212",
         "=",
         "nM",
         "2500.0",
         "CHEMBL1163125",
         "Homo sapiens",
         "IC50"
        ],
        [
         "14",
         "18587614",
         "CHEMBL4223756",
         "Inhibition of His-tagged human BRD4-BD1 using H4K5acK8acK12acK16ac as substrate preincubated for 30 mins followed by substrate addition measured after 30 mins by AlphaScreen assay",
         "B",
         "CHEMBL1443641",
         "=",
         "nM",
         "71000.0",
         "CHEMBL1163125",
         "Homo sapiens",
         "IC50"
        ],
        [
         "15",
         "18293400",
         "CHEMBL4122993",
         "Inhibition of recombinant human N-terminal His6-tagged BRD4 by TR-FRET assay",
         "B",
         "CHEMBL1444120",
         "=",
         "nM",
         "2500.0",
         "CHEMBL1163125",
         "Homo sapiens",
         "IC50"
        ],
        [
         "16",
         "18951346",
         "CHEMBL4331530",
         "Inhibition of BRD4 BD1 (unknown origin) using biotin labelled NeC: SGRG-K(Ac)-GG-K(Ac)-GLG-K(Ac)-GGA-K(Ac)-RHRKVGG-K as substrate preincubated for 15 mins followed by substrate addition measured after 30 mins by alpha screen assay",
         "B",
         "CHEMBL1452711",
         "=",
         "nM",
         "2100.0",
         "CHEMBL1163125",
         "Homo sapiens",
         "IC50"
        ],
        [
         "17",
         "18951340",
         "CHEMBL4331530",
         "Inhibition of BRD4 BD1 (unknown origin) using biotin labelled NeC: SGRG-K(Ac)-GG-K(Ac)-GLG-K(Ac)-GGA-K(Ac)-RHRKVGG-K as substrate preincubated for 15 mins followed by substrate addition measured after 30 mins by alpha screen assay",
         "B",
         "CHEMBL1454910",
         "=",
         "nM",
         "980.0",
         "CHEMBL1163125",
         "Homo sapiens",
         "IC50"
        ],
        [
         "18",
         "18871543",
         "CHEMBL4310083",
         "Inhibition of BRD4 bromodomain 1 (unknown origin) expressed in Escherichia coli Bl21(DE3) by fluorescence anisotropy",
         "B",
         "CHEMBL14682",
         "=",
         "nM",
         "24000.0",
         "CHEMBL1163125",
         "Homo sapiens",
         "IC50"
        ],
        [
         "19",
         "18056823",
         "CHEMBL4012419",
         "Inhibition of human BRD4-BD1 (49 to 170 residues) expressed in Escherichia coli BL21(DE3) using N-C:SGRG-K(Ac)-GG-K(Ac)-GLG-K(Ac)-GGA-K(Ac)-RHRKVGG-K(biotin) as substrate preincubated for 15 mins followed by substrate addition measured after 5 mins by AlphaScreen assay",
         "B",
         "CHEMBL1480862",
         "=",
         "nM",
         "5360.0",
         "CHEMBL1163125",
         "Homo sapiens",
         "IC50"
        ],
        [
         "20",
         "18951401",
         "CHEMBL4331530",
         "Inhibition of BRD4 BD1 (unknown origin) using biotin labelled NeC: SGRG-K(Ac)-GG-K(Ac)-GLG-K(Ac)-GGA-K(Ac)-RHRKVGG-K as substrate preincubated for 15 mins followed by substrate addition measured after 30 mins by alpha screen assay",
         "B",
         "CHEMBL1481742",
         "=",
         "nM",
         "4800.0",
         "CHEMBL1163125",
         "Homo sapiens",
         "IC50"
        ],
        [
         "21",
         "16521672",
         "CHEMBL3782657",
         "Inhibition of human His6-tagged BRD4 bromodomain 1 (N44 to E168 residues) expressed in Escherichia coli BL21(DE3) cells using biotin-H4KAc4 as substrate incubated for 2 hrs by alphascreen assay",
         "B",
         "CHEMBL1485571",
         "=",
         "nM",
         "1000.0",
         "CHEMBL1163125",
         "Homo sapiens",
         "IC50"
        ],
        [
         "22",
         "18951342",
         "CHEMBL4331530",
         "Inhibition of BRD4 BD1 (unknown origin) using biotin labelled NeC: SGRG-K(Ac)-GG-K(Ac)-GLG-K(Ac)-GGA-K(Ac)-RHRKVGG-K as substrate preincubated for 15 mins followed by substrate addition measured after 30 mins by alpha screen assay",
         "B",
         "CHEMBL1497792",
         "=",
         "nM",
         "18000.0",
         "CHEMBL1163125",
         "Homo sapiens",
         "IC50"
        ],
        [
         "23",
         "18056841",
         "CHEMBL4012419",
         "Inhibition of human BRD4-BD1 (49 to 170 residues) expressed in Escherichia coli BL21(DE3) using N-C:SGRG-K(Ac)-GG-K(Ac)-GLG-K(Ac)-GGA-K(Ac)-RHRKVGG-K(biotin) as substrate preincubated for 15 mins followed by substrate addition measured after 5 mins by AlphaScreen assay",
         "B",
         "CHEMBL1507539",
         "=",
         "nM",
         "13300.0",
         "CHEMBL1163125",
         "Homo sapiens",
         "IC50"
        ],
        [
         "24",
         "18293399",
         "CHEMBL4122993",
         "Inhibition of recombinant human N-terminal His6-tagged BRD4 by TR-FRET assay",
         "B",
         "CHEMBL1535485",
         "=",
         "nM",
         "15800.0",
         "CHEMBL1163125",
         "Homo sapiens",
         "IC50"
        ],
        [
         "25",
         "14661059",
         "CHEMBL3267582",
         "Displacement of histone peptide from His-tagged BRD4(1) (unknown origin) expressed in Escherichia coli BL21(DE3) by alpha-screen assay",
         "B",
         "CHEMBL1620811",
         "=",
         "nM",
         "7500.0",
         "CHEMBL1163125",
         "Homo sapiens",
         "IC50"
        ],
        [
         "26",
         "20640669",
         "CHEMBL4612966",
         "Inhibition of BRD4 bromodomain 1 (unknown origin) by AlphaScreen displacement assay",
         "B",
         "CHEMBL1673039",
         "=",
         "nM",
         "888.0",
         "CHEMBL1163125",
         "Homo sapiens",
         "IC50"
        ],
        [
         "27",
         "20640671",
         "CHEMBL4612966",
         "Inhibition of BRD4 bromodomain 1 (unknown origin) by AlphaScreen displacement assay",
         "B",
         "CHEMBL1673048",
         "=",
         "nM",
         "4170.0",
         "CHEMBL1163125",
         "Homo sapiens",
         "IC50"
        ],
        [
         "28",
         "18056830",
         "CHEMBL4012419",
         "Inhibition of human BRD4-BD1 (49 to 170 residues) expressed in Escherichia coli BL21(DE3) using N-C:SGRG-K(Ac)-GG-K(Ac)-GLG-K(Ac)-GGA-K(Ac)-RHRKVGG-K(biotin) as substrate preincubated for 15 mins followed by substrate addition measured after 5 mins by AlphaScreen assay",
         "B",
         "CHEMBL1698814",
         "=",
         "nM",
         "69230.0",
         "CHEMBL1163125",
         "Homo sapiens",
         "IC50"
        ],
        [
         "29",
         "18056835",
         "CHEMBL4012419",
         "Inhibition of human BRD4-BD1 (49 to 170 residues) expressed in Escherichia coli BL21(DE3) using N-C:SGRG-K(Ac)-GG-K(Ac)-GLG-K(Ac)-GGA-K(Ac)-RHRKVGG-K(biotin) as substrate preincubated for 15 mins followed by substrate addition measured after 5 mins by AlphaScreen assay",
         "B",
         "CHEMBL1708496",
         "=",
         "nM",
         "2870.0",
         "CHEMBL1163125",
         "Homo sapiens",
         "IC50"
        ],
        [
         "30",
         "18742074",
         "CHEMBL4262433",
         "Inhibition of SGRG-K(Ac)-GG-K(Ac)-GLGK(Ac)-GGA-K(Ac)-RHRKVGG-K(Biotin) binding to N-terminal 6xHis-tagged human BRD4 bromodomain 1 expressed in Escherichia coli BL21 (DE3) preincubated for 10 mins followed by peptide addition and measured after 10 mins by AlphaScreen assay",
         "B",
         "CHEMBL1719168",
         "=",
         "nM",
         "11000.0",
         "CHEMBL1163125",
         "Homo sapiens",
         "IC50"
        ],
        [
         "31",
         "18056825",
         "CHEMBL4012419",
         "Inhibition of human BRD4-BD1 (49 to 170 residues) expressed in Escherichia coli BL21(DE3) using N-C:SGRG-K(Ac)-GG-K(Ac)-GLG-K(Ac)-GGA-K(Ac)-RHRKVGG-K(biotin) as substrate preincubated for 15 mins followed by substrate addition measured after 5 mins by AlphaScreen assay",
         "B",
         "CHEMBL1722357",
         "=",
         "nM",
         "1110.0",
         "CHEMBL1163125",
         "Homo sapiens",
         "IC50"
        ],
        [
         "32",
         "12161673",
         "CHEMBL2182558",
         "Inhibition of His6-tagged BRD4-BD12 expressed in Escherichia coli assessed as inhibition of binding to SGRG-K(Ac)-GG-K(Ac)-GLG-K(Ac)-GGA-K(Ac)-RHGSGSK-biotin after 1 hr by TR-FRET assay",
         "B",
         "CHEMBL1738926",
         "=",
         "nM",
         "140.0",
         "CHEMBL1163125",
         "Homo sapiens",
         "IC50"
        ],
        [
         "33",
         "6365475",
         "CHEMBL1833001",
         "Inhibition of first bromodomain of BRD4",
         "B",
         "CHEMBL1828978",
         "=",
         "nM",
         "7000.0",
         "CHEMBL1163125",
         "Homo sapiens",
         "IC50"
        ],
        [
         "34",
         "15121201",
         "CHEMBL3380069",
         "Inhibition of BRD4 (unknown origin) by biotinylated-JQ1 based AlphaScreen BRD binding assay",
         "B",
         "CHEMBL1828979",
         "=",
         "nM",
         "65000.0",
         "CHEMBL1163125",
         "Homo sapiens",
         "IC50"
        ],
        [
         "35",
         "6364733",
         "CHEMBL1832996",
         "Displacement of H4Ac4 peptide from first bromodomain of human BRD4 by peptide displacement assay",
         "B",
         "CHEMBL1828980",
         "=",
         "nM",
         "24600.0",
         "CHEMBL1163125",
         "Homo sapiens",
         "IC50"
        ],
        [
         "36",
         "6364734",
         "CHEMBL1832996",
         "Displacement of H4Ac4 peptide from first bromodomain of human BRD4 by peptide displacement assay",
         "B",
         "CHEMBL1828981",
         "=",
         "nM",
         "23200.0",
         "CHEMBL1163125",
         "Homo sapiens",
         "IC50"
        ],
        [
         "37",
         "6364735",
         "CHEMBL1832996",
         "Displacement of H4Ac4 peptide from first bromodomain of human BRD4 by peptide displacement assay",
         "B",
         "CHEMBL1828982",
         "=",
         "nM",
         "9700.0",
         "CHEMBL1163125",
         "Homo sapiens",
         "IC50"
        ],
        [
         "38",
         "6364736",
         "CHEMBL1832996",
         "Displacement of H4Ac4 peptide from first bromodomain of human BRD4 by peptide displacement assay",
         "B",
         "CHEMBL1828983",
         "=",
         "nM",
         "7700.0",
         "CHEMBL1163125",
         "Homo sapiens",
         "IC50"
        ],
        [
         "39",
         "6364737",
         "CHEMBL1832996",
         "Displacement of H4Ac4 peptide from first bromodomain of human BRD4 by peptide displacement assay",
         "B",
         "CHEMBL1828984",
         "=",
         "nM",
         "51200.0",
         "CHEMBL1163125",
         "Homo sapiens",
         "IC50"
        ],
        [
         "40",
         "6364738",
         "CHEMBL1832996",
         "Displacement of H4Ac4 peptide from first bromodomain of human BRD4 by peptide displacement assay",
         "B",
         "CHEMBL1828985",
         "=",
         "nM",
         "7500.0",
         "CHEMBL1163125",
         "Homo sapiens",
         "IC50"
        ],
        [
         "41",
         "6364739",
         "CHEMBL1832996",
         "Displacement of H4Ac4 peptide from first bromodomain of human BRD4 by peptide displacement assay",
         "B",
         "CHEMBL1828986",
         "=",
         "nM",
         "4800.0",
         "CHEMBL1163125",
         "Homo sapiens",
         "IC50"
        ],
        [
         "42",
         "16844129",
         "CHEMBL3877181",
         "Inhibition of N-terminal 6His-tagged human BRD4 bromodomain 1 (44 to 168 residues) expressed in Escherichia coli BL21 (DE3) using biotinylated histone H4 peptide (1 to 21 residues) containing KAc (K5/8/12/16Ac) as substrate by Alpha screen assay",
         "B",
         "CHEMBL188678",
         "=",
         "nM",
         "1000.0",
         "CHEMBL1163125",
         "Homo sapiens",
         "IC50"
        ],
        [
         "43",
         "8034563",
         "CHEMBL1953108",
         "Inhibition of His-6 tagged BRD4 expressed in Escherichia coli after 60 mins by fluorescence anisotropic analysis",
         "B",
         "CHEMBL1950956",
         "=",
         "nM",
         "10000.0",
         "CHEMBL1163125",
         "Homo sapiens",
         "IC50"
        ],
        [
         "44",
         "8034577",
         "CHEMBL1953108",
         "Inhibition of His-6 tagged BRD4 expressed in Escherichia coli after 60 mins by fluorescence anisotropic analysis",
         "B",
         "CHEMBL1950957",
         "=",
         "nM",
         "30000.0",
         "CHEMBL1163125",
         "Homo sapiens",
         "IC50"
        ],
        [
         "45",
         "13457055",
         "CHEMBL2433084",
         "Inhibition of BRD4 in human Raji cells assessed as reduction of MYC expression after 4 hrs",
         "B",
         "CHEMBL1957266",
         "=",
         "nM",
         "69.0",
         "CHEMBL1163125",
         "Homo sapiens",
         "IC50"
        ],
        [
         "46",
         "18951333",
         "CHEMBL4331528",
         "Inhibition of recombinant full length human N-terminal His6-tagged BRD4 (2 to 1362 residues) expressed in baculovirus infected insect cells using histone H4 peptide as substrate by alpha screen assay",
         "B",
         "CHEMBL1968380",
         "=",
         "nM",
         "25.0",
         "CHEMBL1163125",
         "Homo sapiens",
         "IC50"
        ],
        [
         "47",
         "24962194",
         "CHEMBL5216112",
         "Inhibition of BRD4 (unknown origin) expressed in Escherichia coli BL21 (DE3) using [Lys(Ac)5/8/12/16]-histone H4 (1 to 21residues)-GGK as substrate incubated for 30 mins by TR-FRET assay",
         "B",
         "CHEMBL197512",
         "=",
         "nM",
         "72000.0",
         "CHEMBL1163125",
         "Homo sapiens",
         "IC50"
        ],
        [
         "48",
         "16844127",
         "CHEMBL3877181",
         "Inhibition of N-terminal 6His-tagged human BRD4 bromodomain 1 (44 to 168 residues) expressed in Escherichia coli BL21 (DE3) using biotinylated histone H4 peptide (1 to 21 residues) containing KAc (K5/8/12/16Ac) as substrate by Alpha screen assay",
         "B",
         "CHEMBL1995703",
         "=",
         "nM",
         "130.0",
         "CHEMBL1163125",
         "Homo sapiens",
         "IC50"
        ],
        [
         "49",
         "25574898",
         "CHEMBL5352512",
         "Inhibition of full length BRD4 (unknown origin) transfected in HEK293 cells incubated for 20 hrs measured by NanoBRET BRD4/Histone H3.3 interaction assay kit",
         "B",
         "CHEMBL2017291",
         "=",
         "nM",
         "114.2",
         "CHEMBL1163125",
         "Homo sapiens",
         "IC50"
        ]
       ],
       "shape": {
        "columns": 11,
        "rows": 3057
       }
      },
      "text/html": [
       "<div>\n",
       "<style scoped>\n",
       "    .dataframe tbody tr th:only-of-type {\n",
       "        vertical-align: middle;\n",
       "    }\n",
       "\n",
       "    .dataframe tbody tr th {\n",
       "        vertical-align: top;\n",
       "    }\n",
       "\n",
       "    .dataframe thead th {\n",
       "        text-align: right;\n",
       "    }\n",
       "</style>\n",
       "<table border=\"1\" class=\"dataframe\">\n",
       "  <thead>\n",
       "    <tr style=\"text-align: right;\">\n",
       "      <th></th>\n",
       "      <th>activity_id</th>\n",
       "      <th>assay_chembl_id</th>\n",
       "      <th>assay_description</th>\n",
       "      <th>assay_type</th>\n",
       "      <th>molecule_chembl_id</th>\n",
       "      <th>relation</th>\n",
       "      <th>standard_units</th>\n",
       "      <th>standard_value</th>\n",
       "      <th>target_chembl_id</th>\n",
       "      <th>target_organism</th>\n",
       "      <th>type</th>\n",
       "    </tr>\n",
       "  </thead>\n",
       "  <tbody>\n",
       "    <tr>\n",
       "      <th>0</th>\n",
       "      <td>25445894</td>\n",
       "      <td>CHEMBL5317664</td>\n",
       "      <td>Inhibition of BRD4-BD1 (unknown origin) by flu...</td>\n",
       "      <td>B</td>\n",
       "      <td>CHEMBL1097107</td>\n",
       "      <td>=</td>\n",
       "      <td>nM</td>\n",
       "      <td>556.200</td>\n",
       "      <td>CHEMBL1163125</td>\n",
       "      <td>Homo sapiens</td>\n",
       "      <td>IC50</td>\n",
       "    </tr>\n",
       "    <tr>\n",
       "      <th>1</th>\n",
       "      <td>12134097</td>\n",
       "      <td>CHEMBL2183681</td>\n",
       "      <td>Inhibition of BRD4 isoform 1 by AlphaScreen assay</td>\n",
       "      <td>B</td>\n",
       "      <td>CHEMBL1230189</td>\n",
       "      <td>=</td>\n",
       "      <td>nM</td>\n",
       "      <td>39000.000</td>\n",
       "      <td>CHEMBL1163125</td>\n",
       "      <td>Homo sapiens</td>\n",
       "      <td>IC50</td>\n",
       "    </tr>\n",
       "    <tr>\n",
       "      <th>2</th>\n",
       "      <td>15613371</td>\n",
       "      <td>CHEMBL3584940</td>\n",
       "      <td>Displacement of FAM-labeled ZBA248 from BRD4 B...</td>\n",
       "      <td>B</td>\n",
       "      <td>CHEMBL1232461</td>\n",
       "      <td>=</td>\n",
       "      <td>nM</td>\n",
       "      <td>98.400</td>\n",
       "      <td>CHEMBL1163125</td>\n",
       "      <td>Homo sapiens</td>\n",
       "      <td>IC50</td>\n",
       "    </tr>\n",
       "    <tr>\n",
       "      <th>3</th>\n",
       "      <td>25521641</td>\n",
       "      <td>CHEMBL5337544</td>\n",
       "      <td>Inhibition of BRD4 (unknown origin) using BET ...</td>\n",
       "      <td>B</td>\n",
       "      <td>CHEMBL1233528</td>\n",
       "      <td>=</td>\n",
       "      <td>nM</td>\n",
       "      <td>119.800</td>\n",
       "      <td>CHEMBL1163125</td>\n",
       "      <td>Homo sapiens</td>\n",
       "      <td>IC50</td>\n",
       "    </tr>\n",
       "    <tr>\n",
       "      <th>4</th>\n",
       "      <td>13972330</td>\n",
       "      <td>CHEMBL3136026</td>\n",
       "      <td>Inhibition of BRD4(1) (unknown origin) by Alph...</td>\n",
       "      <td>B</td>\n",
       "      <td>CHEMBL12543</td>\n",
       "      <td>=</td>\n",
       "      <td>nM</td>\n",
       "      <td>6000000.000</td>\n",
       "      <td>CHEMBL1163125</td>\n",
       "      <td>Homo sapiens</td>\n",
       "      <td>IC50</td>\n",
       "    </tr>\n",
       "    <tr>\n",
       "      <th>...</th>\n",
       "      <td>...</td>\n",
       "      <td>...</td>\n",
       "      <td>...</td>\n",
       "      <td>...</td>\n",
       "      <td>...</td>\n",
       "      <td>...</td>\n",
       "      <td>...</td>\n",
       "      <td>...</td>\n",
       "      <td>...</td>\n",
       "      <td>...</td>\n",
       "      <td>...</td>\n",
       "    </tr>\n",
       "    <tr>\n",
       "      <th>3052</th>\n",
       "      <td>25562269</td>\n",
       "      <td>CHEMBL5349002</td>\n",
       "      <td>Inhibition of BRD4 BD1 (unknown origin) by TR-...</td>\n",
       "      <td>B</td>\n",
       "      <td>CHEMBL5440963</td>\n",
       "      <td>=</td>\n",
       "      <td>nM</td>\n",
       "      <td>10.000</td>\n",
       "      <td>CHEMBL1163125</td>\n",
       "      <td>Homo sapiens</td>\n",
       "      <td>IC50</td>\n",
       "    </tr>\n",
       "    <tr>\n",
       "      <th>3053</th>\n",
       "      <td>20663263</td>\n",
       "      <td>CHEMBL4618785</td>\n",
       "      <td>Inhibition of BRD4 bromodomain 2 (unknown orig...</td>\n",
       "      <td>B</td>\n",
       "      <td>CHEMBL848</td>\n",
       "      <td>=</td>\n",
       "      <td>nM</td>\n",
       "      <td>5190.000</td>\n",
       "      <td>CHEMBL1163125</td>\n",
       "      <td>Homo sapiens</td>\n",
       "      <td>IC50</td>\n",
       "    </tr>\n",
       "    <tr>\n",
       "      <th>3054</th>\n",
       "      <td>25007370</td>\n",
       "      <td>CHEMBL5235458</td>\n",
       "      <td>Inhibition of BRD4 (unknown origin)</td>\n",
       "      <td>B</td>\n",
       "      <td>CHEMBL9</td>\n",
       "      <td>=</td>\n",
       "      <td>nM</td>\n",
       "      <td>980.000</td>\n",
       "      <td>CHEMBL1163125</td>\n",
       "      <td>Homo sapiens</td>\n",
       "      <td>IC50</td>\n",
       "    </tr>\n",
       "    <tr>\n",
       "      <th>3055</th>\n",
       "      <td>24661154</td>\n",
       "      <td>CHEMBL5096331</td>\n",
       "      <td>Inhibition of BRD4 (unknown origin) by ELISA</td>\n",
       "      <td>B</td>\n",
       "      <td>CHEMBL98</td>\n",
       "      <td>=</td>\n",
       "      <td>nM</td>\n",
       "      <td>43.130</td>\n",
       "      <td>CHEMBL1163125</td>\n",
       "      <td>Homo sapiens</td>\n",
       "      <td>IC50</td>\n",
       "    </tr>\n",
       "    <tr>\n",
       "      <th>3056</th>\n",
       "      <td>16844168</td>\n",
       "      <td>CHEMBL3877171</td>\n",
       "      <td>Inhibition of immobilized N-LY294002 bead bind...</td>\n",
       "      <td>B</td>\n",
       "      <td>CHEMBL98350</td>\n",
       "      <td>=</td>\n",
       "      <td>nM</td>\n",
       "      <td>12400.000</td>\n",
       "      <td>CHEMBL1163125</td>\n",
       "      <td>Homo sapiens</td>\n",
       "      <td>IC50</td>\n",
       "    </tr>\n",
       "  </tbody>\n",
       "</table>\n",
       "<p>3057 rows × 11 columns</p>\n",
       "</div>"
      ],
      "text/plain": [
       "      activity_id assay_chembl_id  \\\n",
       "0        25445894   CHEMBL5317664   \n",
       "1        12134097   CHEMBL2183681   \n",
       "2        15613371   CHEMBL3584940   \n",
       "3        25521641   CHEMBL5337544   \n",
       "4        13972330   CHEMBL3136026   \n",
       "...           ...             ...   \n",
       "3052     25562269   CHEMBL5349002   \n",
       "3053     20663263   CHEMBL4618785   \n",
       "3054     25007370   CHEMBL5235458   \n",
       "3055     24661154   CHEMBL5096331   \n",
       "3056     16844168   CHEMBL3877171   \n",
       "\n",
       "                                      assay_description assay_type  \\\n",
       "0     Inhibition of BRD4-BD1 (unknown origin) by flu...          B   \n",
       "1     Inhibition of BRD4 isoform 1 by AlphaScreen assay          B   \n",
       "2     Displacement of FAM-labeled ZBA248 from BRD4 B...          B   \n",
       "3     Inhibition of BRD4 (unknown origin) using BET ...          B   \n",
       "4     Inhibition of BRD4(1) (unknown origin) by Alph...          B   \n",
       "...                                                 ...        ...   \n",
       "3052  Inhibition of BRD4 BD1 (unknown origin) by TR-...          B   \n",
       "3053  Inhibition of BRD4 bromodomain 2 (unknown orig...          B   \n",
       "3054                Inhibition of BRD4 (unknown origin)          B   \n",
       "3055       Inhibition of BRD4 (unknown origin) by ELISA          B   \n",
       "3056  Inhibition of immobilized N-LY294002 bead bind...          B   \n",
       "\n",
       "     molecule_chembl_id relation standard_units  standard_value  \\\n",
       "0         CHEMBL1097107        =             nM         556.200   \n",
       "1         CHEMBL1230189        =             nM       39000.000   \n",
       "2         CHEMBL1232461        =             nM          98.400   \n",
       "3         CHEMBL1233528        =             nM         119.800   \n",
       "4           CHEMBL12543        =             nM     6000000.000   \n",
       "...                 ...      ...            ...             ...   \n",
       "3052      CHEMBL5440963        =             nM          10.000   \n",
       "3053          CHEMBL848        =             nM        5190.000   \n",
       "3054            CHEMBL9        =             nM         980.000   \n",
       "3055           CHEMBL98        =             nM          43.130   \n",
       "3056        CHEMBL98350        =             nM       12400.000   \n",
       "\n",
       "     target_chembl_id target_organism  type  \n",
       "0       CHEMBL1163125    Homo sapiens  IC50  \n",
       "1       CHEMBL1163125    Homo sapiens  IC50  \n",
       "2       CHEMBL1163125    Homo sapiens  IC50  \n",
       "3       CHEMBL1163125    Homo sapiens  IC50  \n",
       "4       CHEMBL1163125    Homo sapiens  IC50  \n",
       "...               ...             ...   ...  \n",
       "3052    CHEMBL1163125    Homo sapiens  IC50  \n",
       "3053    CHEMBL1163125    Homo sapiens  IC50  \n",
       "3054    CHEMBL1163125    Homo sapiens  IC50  \n",
       "3055    CHEMBL1163125    Homo sapiens  IC50  \n",
       "3056    CHEMBL1163125    Homo sapiens  IC50  \n",
       "\n",
       "[3057 rows x 11 columns]"
      ]
     },
     "execution_count": 20,
     "metadata": {},
     "output_type": "execute_result"
    }
   ],
   "source": [
    "### Unique molecule_chembl_id values\n",
    "print(\n",
    "    f\"Number of molecule_chembl_id values: {bioactivities_df['molecule_chembl_id'].nunique()}\"\n",
    ")\n",
    "\n",
    "\n",
    "### Apply the function to remove duplicates by molecule_chembl_id\n",
    "bioactivities_df = bioactivities_df.groupby(\n",
    "    \"molecule_chembl_id\", group_keys=False\n",
    ").apply(keep_closest_to_median)\n",
    "\n",
    "### Reset the index\n",
    "bioactivities_df.reset_index(drop=True, inplace=True)\n",
    "print(f\"DataFrame shape after filtering: {bioactivities_df.shape}\")\n",
    "bioactivities_df"
   ]
  },
  {
   "cell_type": "markdown",
   "id": "8e19838e-1dce-4992-aa94-6a312f2437c9",
   "metadata": {},
   "source": [
    "**6. Rename columns**"
   ]
  },
  {
   "cell_type": "code",
   "execution_count": 21,
   "id": "d8a921fc-7266-452d-97ce-90faae2a1382",
   "metadata": {
    "tags": []
   },
   "outputs": [
    {
     "name": "stdout",
     "output_type": "stream",
     "text": [
      "DataFrame shape: (3057, 11)\n"
     ]
    },
    {
     "data": {
      "application/vnd.microsoft.datawrangler.viewer.v0+json": {
       "columns": [
        {
         "name": "index",
         "rawType": "int64",
         "type": "integer"
        },
        {
         "name": "activity_id",
         "rawType": "int64",
         "type": "integer"
        },
        {
         "name": "assay_chembl_id",
         "rawType": "object",
         "type": "string"
        },
        {
         "name": "assay_description",
         "rawType": "object",
         "type": "string"
        },
        {
         "name": "assay_type",
         "rawType": "object",
         "type": "string"
        },
        {
         "name": "molecule_chembl_id",
         "rawType": "object",
         "type": "string"
        },
        {
         "name": "relation",
         "rawType": "object",
         "type": "string"
        },
        {
         "name": "units",
         "rawType": "object",
         "type": "string"
        },
        {
         "name": "IC50",
         "rawType": "float64",
         "type": "float"
        },
        {
         "name": "target_chembl_id",
         "rawType": "object",
         "type": "string"
        },
        {
         "name": "target_organism",
         "rawType": "object",
         "type": "string"
        },
        {
         "name": "type",
         "rawType": "object",
         "type": "string"
        }
       ],
       "conversionMethod": "pd.DataFrame",
       "ref": "7968ee36-d9b0-49d7-96a7-1287faa7643b",
       "rows": [
        [
         "0",
         "25445894",
         "CHEMBL5317664",
         "Inhibition of BRD4-BD1 (unknown origin) by fluorescence polarization assay",
         "B",
         "CHEMBL1097107",
         "=",
         "nM",
         "556.2",
         "CHEMBL1163125",
         "Homo sapiens",
         "IC50"
        ],
        [
         "1",
         "12134097",
         "CHEMBL2183681",
         "Inhibition of BRD4 isoform 1 by AlphaScreen assay",
         "B",
         "CHEMBL1230189",
         "=",
         "nM",
         "39000.0",
         "CHEMBL1163125",
         "Homo sapiens",
         "IC50"
        ],
        [
         "2",
         "15613371",
         "CHEMBL3584940",
         "Displacement of FAM-labeled ZBA248 from BRD4 BD2 (333 to 460 amino acid residues) (unknown origin) expressed in Rosetta2 DE3 cells after 30 mins by fluorescence polarization assay",
         "B",
         "CHEMBL1232461",
         "=",
         "nM",
         "98.4",
         "CHEMBL1163125",
         "Homo sapiens",
         "IC50"
        ],
        [
         "3",
         "25521641",
         "CHEMBL5337544",
         "Inhibition of BRD4 (unknown origin) using BET peptide as substrate preincubated for 15 mins followed by substrate addition and measured after 60 mins by HTRF assay",
         "B",
         "CHEMBL1233528",
         "=",
         "nM",
         "119.8",
         "CHEMBL1163125",
         "Homo sapiens",
         "IC50"
        ],
        [
         "4",
         "13972330",
         "CHEMBL3136026",
         "Inhibition of BRD4(1) (unknown origin) by Alpha screen binding assay",
         "B",
         "CHEMBL12543",
         "=",
         "nM",
         "6000000.0",
         "CHEMBL1163125",
         "Homo sapiens",
         "IC50"
        ]
       ],
       "shape": {
        "columns": 11,
        "rows": 5
       }
      },
      "text/html": [
       "<div>\n",
       "<style scoped>\n",
       "    .dataframe tbody tr th:only-of-type {\n",
       "        vertical-align: middle;\n",
       "    }\n",
       "\n",
       "    .dataframe tbody tr th {\n",
       "        vertical-align: top;\n",
       "    }\n",
       "\n",
       "    .dataframe thead th {\n",
       "        text-align: right;\n",
       "    }\n",
       "</style>\n",
       "<table border=\"1\" class=\"dataframe\">\n",
       "  <thead>\n",
       "    <tr style=\"text-align: right;\">\n",
       "      <th></th>\n",
       "      <th>activity_id</th>\n",
       "      <th>assay_chembl_id</th>\n",
       "      <th>assay_description</th>\n",
       "      <th>assay_type</th>\n",
       "      <th>molecule_chembl_id</th>\n",
       "      <th>relation</th>\n",
       "      <th>units</th>\n",
       "      <th>IC50</th>\n",
       "      <th>target_chembl_id</th>\n",
       "      <th>target_organism</th>\n",
       "      <th>type</th>\n",
       "    </tr>\n",
       "  </thead>\n",
       "  <tbody>\n",
       "    <tr>\n",
       "      <th>0</th>\n",
       "      <td>25445894</td>\n",
       "      <td>CHEMBL5317664</td>\n",
       "      <td>Inhibition of BRD4-BD1 (unknown origin) by flu...</td>\n",
       "      <td>B</td>\n",
       "      <td>CHEMBL1097107</td>\n",
       "      <td>=</td>\n",
       "      <td>nM</td>\n",
       "      <td>556.200</td>\n",
       "      <td>CHEMBL1163125</td>\n",
       "      <td>Homo sapiens</td>\n",
       "      <td>IC50</td>\n",
       "    </tr>\n",
       "    <tr>\n",
       "      <th>1</th>\n",
       "      <td>12134097</td>\n",
       "      <td>CHEMBL2183681</td>\n",
       "      <td>Inhibition of BRD4 isoform 1 by AlphaScreen assay</td>\n",
       "      <td>B</td>\n",
       "      <td>CHEMBL1230189</td>\n",
       "      <td>=</td>\n",
       "      <td>nM</td>\n",
       "      <td>39000.000</td>\n",
       "      <td>CHEMBL1163125</td>\n",
       "      <td>Homo sapiens</td>\n",
       "      <td>IC50</td>\n",
       "    </tr>\n",
       "    <tr>\n",
       "      <th>2</th>\n",
       "      <td>15613371</td>\n",
       "      <td>CHEMBL3584940</td>\n",
       "      <td>Displacement of FAM-labeled ZBA248 from BRD4 B...</td>\n",
       "      <td>B</td>\n",
       "      <td>CHEMBL1232461</td>\n",
       "      <td>=</td>\n",
       "      <td>nM</td>\n",
       "      <td>98.400</td>\n",
       "      <td>CHEMBL1163125</td>\n",
       "      <td>Homo sapiens</td>\n",
       "      <td>IC50</td>\n",
       "    </tr>\n",
       "    <tr>\n",
       "      <th>3</th>\n",
       "      <td>25521641</td>\n",
       "      <td>CHEMBL5337544</td>\n",
       "      <td>Inhibition of BRD4 (unknown origin) using BET ...</td>\n",
       "      <td>B</td>\n",
       "      <td>CHEMBL1233528</td>\n",
       "      <td>=</td>\n",
       "      <td>nM</td>\n",
       "      <td>119.800</td>\n",
       "      <td>CHEMBL1163125</td>\n",
       "      <td>Homo sapiens</td>\n",
       "      <td>IC50</td>\n",
       "    </tr>\n",
       "    <tr>\n",
       "      <th>4</th>\n",
       "      <td>13972330</td>\n",
       "      <td>CHEMBL3136026</td>\n",
       "      <td>Inhibition of BRD4(1) (unknown origin) by Alph...</td>\n",
       "      <td>B</td>\n",
       "      <td>CHEMBL12543</td>\n",
       "      <td>=</td>\n",
       "      <td>nM</td>\n",
       "      <td>6000000.000</td>\n",
       "      <td>CHEMBL1163125</td>\n",
       "      <td>Homo sapiens</td>\n",
       "      <td>IC50</td>\n",
       "    </tr>\n",
       "  </tbody>\n",
       "</table>\n",
       "</div>"
      ],
      "text/plain": [
       "   activity_id assay_chembl_id  \\\n",
       "0     25445894   CHEMBL5317664   \n",
       "1     12134097   CHEMBL2183681   \n",
       "2     15613371   CHEMBL3584940   \n",
       "3     25521641   CHEMBL5337544   \n",
       "4     13972330   CHEMBL3136026   \n",
       "\n",
       "                                   assay_description assay_type  \\\n",
       "0  Inhibition of BRD4-BD1 (unknown origin) by flu...          B   \n",
       "1  Inhibition of BRD4 isoform 1 by AlphaScreen assay          B   \n",
       "2  Displacement of FAM-labeled ZBA248 from BRD4 B...          B   \n",
       "3  Inhibition of BRD4 (unknown origin) using BET ...          B   \n",
       "4  Inhibition of BRD4(1) (unknown origin) by Alph...          B   \n",
       "\n",
       "  molecule_chembl_id relation units        IC50 target_chembl_id  \\\n",
       "0      CHEMBL1097107        =    nM     556.200    CHEMBL1163125   \n",
       "1      CHEMBL1230189        =    nM   39000.000    CHEMBL1163125   \n",
       "2      CHEMBL1232461        =    nM      98.400    CHEMBL1163125   \n",
       "3      CHEMBL1233528        =    nM     119.800    CHEMBL1163125   \n",
       "4        CHEMBL12543        =    nM 6000000.000    CHEMBL1163125   \n",
       "\n",
       "  target_organism  type  \n",
       "0    Homo sapiens  IC50  \n",
       "1    Homo sapiens  IC50  \n",
       "2    Homo sapiens  IC50  \n",
       "3    Homo sapiens  IC50  \n",
       "4    Homo sapiens  IC50  "
      ]
     },
     "execution_count": 21,
     "metadata": {},
     "output_type": "execute_result"
    }
   ],
   "source": [
    "bioactivities_df.rename(\n",
    "    columns={\"standard_value\": \"IC50\", \"standard_units\": \"units\"}, inplace=True\n",
    ")\n",
    "print(f\"DataFrame shape: {bioactivities_df.shape}\")\n",
    "bioactivities_df.head()"
   ]
  },
  {
   "cell_type": "markdown",
   "id": "96fc8d54-a02b-4989-9631-52baa79c964d",
   "metadata": {},
   "source": [
    "The set now has **3057** unique molecule ids with respective IC50 values for BRD4."
   ]
  },
  {
   "cell_type": "markdown",
   "id": "7b8baf69-8c64-48e4-9fd2-e37cfd7a118f",
   "metadata": {
    "toc-hr-collapsed": true
   },
   "source": [
    "## Get compound data\n",
    "\n",
    "We have a `DataFrame` containing all molecules tested against BRD4 (with the respective measured bioactivity). \n",
    "\n",
    "Now, we want to get the molecular structures of the molecules that are linked to respective bioactivity ChEMBL IDs. "
   ]
  },
  {
   "cell_type": "markdown",
   "id": "f4c3b223-c745-4c1c-97eb-9f3d2c116cfe",
   "metadata": {},
   "source": [
    "### Fetch compound data from ChEMBL\n",
    "\n",
    "Let's have a look at the compounds from ChEMBL which we have defined bioactivity data for: We fetch compound ChEMBL IDs and structures for the compounds linked to our filtered bioactivity data."
   ]
  },
  {
   "cell_type": "code",
   "execution_count": 22,
   "id": "3bfaf091-9d53-4f95-b1ae-11955fc68cf1",
   "metadata": {
    "tags": []
   },
   "outputs": [],
   "source": [
    "compounds_provider = compounds_api.filter(\n",
    "    molecule_chembl_id__in=list(bioactivities_df[\"molecule_chembl_id\"])\n",
    ").only(\"molecule_chembl_id\", \"molecule_structures\")"
   ]
  },
  {
   "cell_type": "markdown",
   "id": "d147ce22-e8ca-4228-9724-eb9888243e17",
   "metadata": {},
   "source": [
    "### Download compound data from ChEMBL\n",
    "\n",
    "Again, we want to export the `QuerySet` object into a `pandas.DataFrame`. Given the data volume, **this can take some time.**"
   ]
  },
  {
   "cell_type": "code",
   "execution_count": 23,
   "id": "e8b3cd7c-fffb-4d6b-b26c-bbf727f359b3",
   "metadata": {
    "tags": []
   },
   "outputs": [
    {
     "name": "stderr",
     "output_type": "stream",
     "text": [
      "  3%|▎         | 101/3057 [00:00<00:03, 871.04it/s]"
     ]
    },
    {
     "name": "stderr",
     "output_type": "stream",
     "text": [
      "100%|██████████| 3057/3057 [00:01<00:00, 2517.01it/s]\n"
     ]
    }
   ],
   "source": [
    "compounds = list(tqdm(compounds_provider))"
   ]
  },
  {
   "cell_type": "code",
   "execution_count": 24,
   "id": "31d6722b-dfc2-4d46-83f0-37a15d08c115",
   "metadata": {
    "tags": []
   },
   "outputs": [
    {
     "name": "stdout",
     "output_type": "stream",
     "text": [
      "DataFrame shape: (3057, 2)\n"
     ]
    },
    {
     "data": {
      "application/vnd.microsoft.datawrangler.viewer.v0+json": {
       "columns": [
        {
         "name": "index",
         "rawType": "int64",
         "type": "integer"
        },
        {
         "name": "molecule_chembl_id",
         "rawType": "object",
         "type": "string"
        },
        {
         "name": "molecule_structures",
         "rawType": "object",
         "type": "unknown"
        }
       ],
       "conversionMethod": "pd.DataFrame",
       "ref": "efffe1b4-acec-4c6c-b125-d7dea172a9df",
       "rows": [
        [
         "0",
         "CHEMBL9",
         "{'canonical_smiles': 'CCn1cc(C(=O)O)c(=O)c2cc(F)c(N3CCNCC3)cc21', 'molfile': '\\n     RDKit          2D\\n\\n 23 25  0  0  0  0  0  0  0  0999 V2000\\n    6.6500   -5.5500    0.0000 C   0  0  0  0  0  0  0  0  0  0  0  0\\n    5.4000   -5.5500    0.0000 C   0  0  0  0  0  0  0  0  0  0  0  0\\n    6.0250   -5.9042    0.0000 C   0  0  0  0  0  0  0  0  0  0  0  0\\n    5.4000   -4.8417    0.0000 C   0  0  0  0  0  0  0  0  0  0  0  0\\n    6.6500   -4.8417    0.0000 C   0  0  0  0  0  0  0  0  0  0  0  0\\n    6.0250   -4.4875    0.0000 N   0  0  0  0  0  0  0  0  0  0  0  0\\n    4.7792   -4.4875    0.0000 C   0  0  0  0  0  0  0  0  0  0  0  0\\n    4.1542   -4.8417    0.0000 C   0  0  0  0  0  0  0  0  0  0  0  0\\n    4.7792   -5.9042    0.0000 C   0  0  0  0  0  0  0  0  0  0  0  0\\n    7.2625   -5.8917    0.0000 C   0  0  0  0  0  0  0  0  0  0  0  0\\n    4.1542   -5.5500    0.0000 C   0  0  0  0  0  0  0  0  0  0  0  0\\n    3.5417   -4.4917    0.0000 N   0  0  0  0  0  0  0  0  0  0  0  0\\n    6.0250   -6.6042    0.0000 O   0  0  0  0  0  0  0  0  0  0  0  0\\n    2.2917   -3.7875    0.0000 N   0  0  0  0  0  0  0  0  0  0  0  0\\n    7.2542   -6.5875    0.0000 O   0  0  0  0  0  0  0  0  0  0  0  0\\n    3.5417   -5.8917    0.0000 F   0  0  0  0  0  0  0  0  0  0  0  0\\n    7.8500   -5.5375    0.0000 O   0  0  0  0  0  0  0  0  0  0  0  0\\n    6.0250   -3.7792    0.0000 C   0  0  0  0  0  0  0  0  0  0  0  0\\n    2.9167   -4.8625    0.0000 C   0  0  0  0  0  0  0  0  0  0  0  0\\n    3.5417   -3.7792    0.0000 C   0  0  0  0  0  0  0  0  0  0  0  0\\n    2.3042   -4.4917    0.0000 C   0  0  0  0  0  0  0  0  0  0  0  0\\n    2.9042   -3.4167    0.0000 C   0  0  0  0  0  0  0  0  0  0  0  0\\n    6.6167   -3.4167    0.0000 C   0  0  0  0  0  0  0  0  0  0  0  0\\n  2  3  1  0\\n  3  1  1  0\\n  4  6  1  0\\n  5  1  2  0\\n  6  5  1  0\\n  7  4  2  0\\n  8  7  1  0\\n  9  2  2  0\\n 10  1  1  0\\n 11  9  1  0\\n 12  8  1  0\\n 13  3  2  0\\n 14 22  1  0\\n 15 10  2  0\\n 16 11  1  0\\n 17 10  1  0\\n 18  6  1  0\\n 19 12  1  0\\n 20 12  1  0\\n 21 19  1  0\\n 22 20  1  0\\n 23 18  1  0\\n  2  4  1  0\\n 11  8  2  0\\n 14 21  1  0\\nM  END\\n> <chembl_id>\\nCHEMBL9\\n\\n> <chembl_pref_name>\\nundefined', 'standard_inchi': 'InChI=1S/C16H18FN3O3/c1-2-19-9-11(16(22)23)15(21)10-7-12(17)14(8-13(10)19)20-5-3-18-4-6-20/h7-9,18H,2-6H2,1H3,(H,22,23)', 'standard_inchi_key': 'OGJPXUAPXNRGGI-UHFFFAOYSA-N'}"
        ],
        [
         "1",
         "CHEMBL504",
         "{'canonical_smiles': 'C[S+](C)[O-]', 'molfile': '\\n     RDKit          2D\\n\\n  4  3  0  0  0  0  0  0  0  0999 V2000\\n    9.7556   -8.6604    0.0000 S   0  0  0  0  0  0  0  0  0  0  0  0\\n    9.7465   -7.8301    0.0000 O   0  0  0  0  0  0  0  0  0  0  0  0\\n   10.4732   -9.0762    0.0000 C   0  0  0  0  0  0  0  0  0  0  0  0\\n    9.0372   -9.0750    0.0000 C   0  0  0  0  0  0  0  0  0  0  0  0\\n  2  1  1  0\\n  3  1  1  0\\n  4  1  1  0\\nM  CHG  2   1   1   2  -1\\nM  END\\n> <chembl_id>\\nCHEMBL504\\n\\n> <chembl_pref_name>\\nundefined', 'standard_inchi': 'InChI=1S/C2H6OS/c1-4(2)3/h1-2H3', 'standard_inchi_key': 'IAZDPXIOMUYVGZ-UHFFFAOYSA-N'}"
        ],
        [
         "2",
         "CHEMBL12543",
         "{'canonical_smiles': 'CN1CCCC1=O', 'molfile': '\\n     RDKit          2D\\n\\n  7  7  0  0  0  0  0  0  0  0999 V2000\\n    1.0750   -0.8042    0.0000 N   0  0  0  0  0  0  0  0  0  0  0  0\\n    1.0750   -2.1125    0.0000 C   0  0  0  0  0  0  0  0  0  0  0  0\\n    0.0000   -2.9000    0.0000 O   0  0  0  0  0  0  0  0  0  0  0  0\\n    2.3292   -0.3875    0.0000 C   0  0  0  0  0  0  0  0  0  0  0  0\\n    2.3292   -2.5250    0.0000 C   0  0  0  0  0  0  0  0  0  0  0  0\\n    0.0000    0.0000    0.0000 C   0  0  0  0  0  0  0  0  0  0  0  0\\n    3.1292   -1.4500    0.0000 C   0  0  0  0  0  0  0  0  0  0  0  0\\n  2  1  1  0\\n  3  2  2  0\\n  4  1  1  0\\n  5  2  1  0\\n  6  1  1  0\\n  7  4  1  0\\n  7  5  1  0\\nM  END\\n> <chembl_id>\\nCHEMBL12543\\n\\n> <chembl_pref_name>\\nundefined', 'standard_inchi': 'InChI=1S/C5H9NO/c1-6-4-2-3-5(6)7/h2-4H2,1H3', 'standard_inchi_key': 'SECXISVLQFMRJM-UHFFFAOYSA-N'}"
        ],
        [
         "3",
         "CHEMBL98",
         "{'canonical_smiles': 'O=C(CCCCCCC(=O)Nc1ccccc1)NO', 'molfile': '\\n     RDKit          2D\\n\\n 19 19  0  0  0  0  0  0  0  0999 V2000\\n   -5.1903    0.3921    0.0000 O   0  0  0  0  0  0  0  0  0  0  0  0\\n   -3.7614    1.2171    0.0000 O   0  0  0  0  0  0  0  0  0  0  0  0\\n   -4.4759   -0.0204    0.0000 N   0  0  0  0  0  0  0  0  0  0  0  0\\n   -3.7614    0.3921    0.0000 C   0  0  0  0  0  0  0  0  0  0  0  0\\n   -3.0469   -0.0204    0.0000 C   0  0  0  0  0  0  0  0  0  0  0  0\\n   -2.3324    0.3921    0.0000 C   0  0  0  0  0  0  0  0  0  0  0  0\\n   -1.6180   -0.0204    0.0000 C   0  0  0  0  0  0  0  0  0  0  0  0\\n   -0.9035    0.3921    0.0000 C   0  0  0  0  0  0  0  0  0  0  0  0\\n   -0.1890   -0.0204    0.0000 C   0  0  0  0  0  0  0  0  0  0  0  0\\n    0.5254    0.3921    0.0000 C   0  0  0  0  0  0  0  0  0  0  0  0\\n    1.2399   -0.0204    0.0000 C   0  0  0  0  0  0  0  0  0  0  0  0\\n    1.2399   -0.8454    0.0000 O   0  0  0  0  0  0  0  0  0  0  0  0\\n    1.9544    0.3921    0.0000 N   0  0  0  0  0  0  0  0  0  0  0  0\\n    2.6689   -0.0204    0.0000 C   0  0  0  0  0  0  0  0  0  0  0  0\\n    3.3833    0.3921    0.0000 C   0  0  0  0  0  0  0  0  0  0  0  0\\n    4.0978   -0.0204    0.0000 C   0  0  0  0  0  0  0  0  0  0  0  0\\n    4.0978   -0.8454    0.0000 C   0  0  0  0  0  0  0  0  0  0  0  0\\n    3.3833   -1.2579    0.0000 C   0  0  0  0  0  0  0  0  0  0  0  0\\n    2.6689   -0.8454    0.0000 C   0  0  0  0  0  0  0  0  0  0  0  0\\n  3  1  1  0\\n  4  2  2  0\\n  4  3  1  0\\n  4  5  1  0\\n  5  6  1  0\\n  6  7  1  0\\n  7  8  1  0\\n  8  9  1  0\\n  9 10  1  0\\n 10 11  1  0\\n 11 12  2  0\\n 11 13  1  0\\n 14 13  1  0\\n 15 14  2  0\\n 19 14  1  0\\n 15 16  1  0\\n 16 17  2  0\\n 17 18  1  0\\n 18 19  2  0\\nM  END\\n> <chembl_id>\\nCHEMBL98\\n\\n> <chembl_pref_name>\\nundefined', 'standard_inchi': 'InChI=1S/C14H20N2O3/c17-13(15-12-8-4-3-5-9-12)10-6-1-2-7-11-14(18)16-19/h3-5,8-9,19H,1-2,6-7,10-11H2,(H,15,17)(H,16,18)', 'standard_inchi_key': 'WAEXFXRVDQXREF-UHFFFAOYSA-N'}"
        ],
        [
         "4",
         "CHEMBL14212",
         "{'canonical_smiles': 'Cc1cccc(Oc2nccc(-c3c(-c4ccc(F)cc4)ncn3C3CCNCC3)n2)c1C', 'molfile': '\\n     RDKit          2D\\n\\n 33 37  0  0  0  0  0  0  0  0999 V2000\\n    3.1098    3.6560    0.0000 C   0  0  0  0  0  0  0  0  0  0  0  0\\n    3.8243    3.2435    0.0000 C   0  0  0  0  0  0  0  0  0  0  0  0\\n    4.5388    3.6560    0.0000 C   0  0  0  0  0  0  0  0  0  0  0  0\\n    5.2533    3.2435    0.0000 C   0  0  0  0  0  0  0  0  0  0  0  0\\n    5.2533    2.4185    0.0000 C   0  0  0  0  0  0  0  0  0  0  0  0\\n    4.5388    2.0060    0.0000 C   0  0  0  0  0  0  0  0  0  0  0  0\\n    4.5388    1.1810    0.0000 O   0  0  0  0  0  0  0  0  0  0  0  0\\n    5.2533    0.7685    0.0000 C   0  0  0  0  0  0  0  0  0  0  0  0\\n    5.9677    1.1810    0.0000 N   0  0  0  0  0  0  0  0  0  0  0  0\\n    6.6822    0.7685    0.0000 C   0  0  0  0  0  0  0  0  0  0  0  0\\n    6.6822   -0.0565    0.0000 C   0  0  0  0  0  0  0  0  0  0  0  0\\n    5.9677   -0.4690    0.0000 C   0  0  0  0  0  0  0  0  0  0  0  0\\n    5.2533   -0.0565    0.0000 N   0  0  0  0  0  0  0  0  0  0  0  0\\n    5.9677   -1.2940    0.0000 C   0  0  0  0  0  0  0  0  0  0  0  0\\n    6.6352   -1.7789    0.0000 C   0  0  0  0  0  0  0  0  0  0  0  0\\n    6.3802   -2.5635    0.0000 N   0  0  0  0  0  0  0  0  0  0  0  0\\n    5.5552   -2.5635    0.0000 C   0  0  0  0  0  0  0  0  0  0  0  0\\n    5.3003   -1.7789    0.0000 N   0  0  0  0  0  0  0  0  0  0  0  0\\n    4.5157   -1.5239    0.0000 C   0  0  0  0  0  0  0  0  0  0  0  0\\n    3.9026   -2.0760    0.0000 C   0  0  0  0  0  0  0  0  0  0  0  0\\n    3.1180   -1.8210    0.0000 C   0  0  0  0  0  0  0  0  0  0  0  0\\n    2.9464   -1.0141    0.0000 N   0  0  0  0  0  0  0  0  0  0  0  0\\n    3.5595   -0.4620    0.0000 C   0  0  0  0  0  0  0  0  0  0  0  0\\n    4.3441   -0.7170    0.0000 C   0  0  0  0  0  0  0  0  0  0  0  0\\n    7.4198   -1.5239    0.0000 C   0  0  0  0  0  0  0  0  0  0  0  0\\n    7.5913   -0.7170    0.0000 C   0  0  0  0  0  0  0  0  0  0  0  0\\n    8.3759   -0.4620    0.0000 C   0  0  0  0  0  0  0  0  0  0  0  0\\n    8.9890   -1.0141    0.0000 C   0  0  0  0  0  0  0  0  0  0  0  0\\n    9.7737   -0.7591    0.0000 F   0  0  0  0  0  0  0  0  0  0  0  0\\n    8.8175   -1.8210    0.0000 C   0  0  0  0  0  0  0  0  0  0  0  0\\n    8.0329   -2.0760    0.0000 C   0  0  0  0  0  0  0  0  0  0  0  0\\n    3.8243    2.4185    0.0000 C   0  0  0  0  0  0  0  0  0  0  0  0\\n    3.1098    2.0060    0.0000 C   0  0  0  0  0  0  0  0  0  0  0  0\\n  1  2  1  0\\n  2  3  2  0\\n  3  4  1  0\\n  4  5  2  0\\n  5  6  1  0\\n  6  7  1  0\\n  7  8  1  0\\n  8  9  2  0\\n  9 10  1  0\\n 10 11  2  0\\n 11 12  1  0\\n 12 13  2  0\\n  8 13  1  0\\n 12 14  1  0\\n 14 15  2  0\\n 15 16  1  0\\n 16 17  2  0\\n 17 18  1  0\\n 14 18  1  0\\n 18 19  1  0\\n 19 20  1  0\\n 20 21  1  0\\n 21 22  1  0\\n 22 23  1  0\\n 23 24  1  0\\n 19 24  1  0\\n 15 25  1  0\\n 25 26  2  0\\n 26 27  1  0\\n 27 28  2  0\\n 28 29  1  0\\n 28 30  1  0\\n 30 31  2  0\\n 25 31  1  0\\n  6 32  2  0\\n  2 32  1  0\\n 32 33  1  0\\nM  END\\n> <chembl_id>\\nCHEMBL14212\\n\\n> <chembl_pref_name>\\nundefined', 'standard_inchi': 'InChI=1S/C26H26FN5O/c1-17-4-3-5-23(18(17)2)33-26-29-15-12-22(31-26)25-24(19-6-8-20(27)9-7-19)30-16-32(25)21-10-13-28-14-11-21/h3-9,12,15-16,21,28H,10-11,13-14H2,1-2H3', 'standard_inchi_key': 'YJNZNIAEANFDMJ-UHFFFAOYSA-N'}"
        ]
       ],
       "shape": {
        "columns": 2,
        "rows": 5
       }
      },
      "text/html": [
       "<div>\n",
       "<style scoped>\n",
       "    .dataframe tbody tr th:only-of-type {\n",
       "        vertical-align: middle;\n",
       "    }\n",
       "\n",
       "    .dataframe tbody tr th {\n",
       "        vertical-align: top;\n",
       "    }\n",
       "\n",
       "    .dataframe thead th {\n",
       "        text-align: right;\n",
       "    }\n",
       "</style>\n",
       "<table border=\"1\" class=\"dataframe\">\n",
       "  <thead>\n",
       "    <tr style=\"text-align: right;\">\n",
       "      <th></th>\n",
       "      <th>molecule_chembl_id</th>\n",
       "      <th>molecule_structures</th>\n",
       "    </tr>\n",
       "  </thead>\n",
       "  <tbody>\n",
       "    <tr>\n",
       "      <th>0</th>\n",
       "      <td>CHEMBL9</td>\n",
       "      <td>{'canonical_smiles': 'CCn1cc(C(=O)O)c(=O)c2cc(...</td>\n",
       "    </tr>\n",
       "    <tr>\n",
       "      <th>1</th>\n",
       "      <td>CHEMBL504</td>\n",
       "      <td>{'canonical_smiles': 'C[S+](C)[O-]', 'molfile'...</td>\n",
       "    </tr>\n",
       "    <tr>\n",
       "      <th>2</th>\n",
       "      <td>CHEMBL12543</td>\n",
       "      <td>{'canonical_smiles': 'CN1CCCC1=O', 'molfile': ...</td>\n",
       "    </tr>\n",
       "    <tr>\n",
       "      <th>3</th>\n",
       "      <td>CHEMBL98</td>\n",
       "      <td>{'canonical_smiles': 'O=C(CCCCCCC(=O)Nc1ccccc1...</td>\n",
       "    </tr>\n",
       "    <tr>\n",
       "      <th>4</th>\n",
       "      <td>CHEMBL14212</td>\n",
       "      <td>{'canonical_smiles': 'Cc1cccc(Oc2nccc(-c3c(-c4...</td>\n",
       "    </tr>\n",
       "  </tbody>\n",
       "</table>\n",
       "</div>"
      ],
      "text/plain": [
       "  molecule_chembl_id                                molecule_structures\n",
       "0            CHEMBL9  {'canonical_smiles': 'CCn1cc(C(=O)O)c(=O)c2cc(...\n",
       "1          CHEMBL504  {'canonical_smiles': 'C[S+](C)[O-]', 'molfile'...\n",
       "2        CHEMBL12543  {'canonical_smiles': 'CN1CCCC1=O', 'molfile': ...\n",
       "3           CHEMBL98  {'canonical_smiles': 'O=C(CCCCCCC(=O)Nc1ccccc1...\n",
       "4        CHEMBL14212  {'canonical_smiles': 'Cc1cccc(Oc2nccc(-c3c(-c4..."
      ]
     },
     "execution_count": 24,
     "metadata": {},
     "output_type": "execute_result"
    }
   ],
   "source": [
    "compounds_df = pd.DataFrame.from_records(\n",
    "    compounds,\n",
    ")\n",
    "print(f\"DataFrame shape: {compounds_df.shape}\")\n",
    "compounds_df.head()"
   ]
  },
  {
   "cell_type": "markdown",
   "id": "b35523c5-6638-4e14-b44a-b6aa9e392029",
   "metadata": {},
   "source": [
    "### Preprocess and filter compound data\n",
    "\n",
    "1. Remove entries with missing entries\n",
    "2. Delete duplicate molecules (by molecule_chembl_id)\n",
    "3. Get molecules with canonical SMILES"
   ]
  },
  {
   "cell_type": "markdown",
   "id": "ab8a0768-175d-4234-b27b-d4f77d9262bf",
   "metadata": {},
   "source": [
    "**1. Remove entries with missing molecule structure entry**"
   ]
  },
  {
   "cell_type": "code",
   "execution_count": 25,
   "id": "2435a061-6ad1-4487-9e9d-80daae218567",
   "metadata": {
    "tags": []
   },
   "outputs": [
    {
     "name": "stdout",
     "output_type": "stream",
     "text": [
      "molecule_chembl_id     0\n",
      "molecule_structures    1\n",
      "dtype: int64\n",
      "DataFrame shape: (3056, 2)\n"
     ]
    }
   ],
   "source": [
    "print(compounds_df.isna().sum())\n",
    "compounds_df.dropna(axis=0, how=\"any\", inplace=True)\n",
    "print(f\"DataFrame shape: {compounds_df.shape}\")"
   ]
  },
  {
   "cell_type": "markdown",
   "id": "b3378076-0f72-4194-a8c5-b98e831c0d5f",
   "metadata": {},
   "source": [
    "**2. Delete duplicate molecules**"
   ]
  },
  {
   "cell_type": "code",
   "execution_count": 26,
   "id": "a3c09d48-819e-4617-aae7-69d860fc4bc5",
   "metadata": {
    "tags": []
   },
   "outputs": [
    {
     "name": "stdout",
     "output_type": "stream",
     "text": [
      "DataFrame shape: (3056, 2)\n"
     ]
    }
   ],
   "source": [
    "compounds_df.drop_duplicates(\"molecule_chembl_id\", keep=\"first\", inplace=True)\n",
    "print(f\"DataFrame shape: {compounds_df.shape}\")"
   ]
  },
  {
   "cell_type": "markdown",
   "id": "a6a4b77c-b5c2-4aa0-b255-b8a088578915",
   "metadata": {},
   "source": [
    "**3. Get molecules with canonical SMILES**\n",
    "\n",
    "So far, we have multiple different molecular structure representations. We only want to keep the canonical SMILES."
   ]
  },
  {
   "cell_type": "code",
   "execution_count": 27,
   "id": "21c3ccb6-60f2-482e-8db5-71e0a9bf930f",
   "metadata": {
    "tags": []
   },
   "outputs": [
    {
     "data": {
      "text/plain": [
       "dict_keys(['canonical_smiles', 'molfile', 'standard_inchi', 'standard_inchi_key'])"
      ]
     },
     "execution_count": 27,
     "metadata": {},
     "output_type": "execute_result"
    }
   ],
   "source": [
    "compounds_df.iloc[0].molecule_structures.keys()"
   ]
  },
  {
   "cell_type": "code",
   "execution_count": 28,
   "id": "76e41fc8-f8b9-4c79-8aa6-f622bbc2c678",
   "metadata": {
    "tags": []
   },
   "outputs": [
    {
     "name": "stdout",
     "output_type": "stream",
     "text": [
      "DataFrame shape: (3056, 2)\n"
     ]
    }
   ],
   "source": [
    "### Extract canonical SMILES provided by ChEMBL\n",
    "compounds_df[\"can_smiles\"] = compounds_df[\"molecule_structures\"].apply(\n",
    "    lambda x: x.get(\"canonical_smiles\", None) if isinstance(x, dict) else None\n",
    ")\n",
    "\n",
    "### Drop the 'molecule_structures' column\n",
    "compounds_df.drop(\"molecule_structures\", axis=1, inplace=True)\n",
    "\n",
    "print(f\"DataFrame shape: {compounds_df.shape}\")"
   ]
  },
  {
   "cell_type": "markdown",
   "id": "173b0b51-883e-40a7-8d5c-77389c1511f4",
   "metadata": {},
   "source": [
    "Sanity check: Remove all molecules without a canonical SMILES string."
   ]
  },
  {
   "cell_type": "code",
   "execution_count": 29,
   "id": "b4602c9c-500d-414c-9028-931b2f254ef4",
   "metadata": {
    "tags": []
   },
   "outputs": [
    {
     "name": "stdout",
     "output_type": "stream",
     "text": [
      "DataFrame shape: (3056, 2)\n"
     ]
    }
   ],
   "source": [
    "compounds_df.dropna(axis=0, how=\"any\", inplace=True)\n",
    "print(f\"DataFrame shape: {compounds_df.shape}\")"
   ]
  },
  {
   "cell_type": "markdown",
   "id": "2a0e166c-2da2-4c8a-a80d-b0b8a77dc62e",
   "metadata": {
    "toc-hr-collapsed": true
   },
   "source": [
    "## Merge data\n",
    "**Summary of compound and bioactivity data**"
   ]
  },
  {
   "cell_type": "code",
   "execution_count": 30,
   "id": "d2f89345-4e44-4032-8763-7c923b01171a",
   "metadata": {
    "tags": []
   },
   "outputs": [
    {
     "name": "stdout",
     "output_type": "stream",
     "text": [
      "Bioactivities filtered: 3057\n"
     ]
    },
    {
     "data": {
      "text/plain": [
       "Index(['activity_id', 'assay_chembl_id', 'assay_description', 'assay_type',\n",
       "       'molecule_chembl_id', 'relation', 'units', 'IC50', 'target_chembl_id',\n",
       "       'target_organism', 'type'],\n",
       "      dtype='object')"
      ]
     },
     "execution_count": 30,
     "metadata": {},
     "output_type": "execute_result"
    }
   ],
   "source": [
    "print(f\"Bioactivities filtered: {bioactivities_df.shape[0]}\")\n",
    "bioactivities_df.columns"
   ]
  },
  {
   "cell_type": "code",
   "execution_count": 31,
   "id": "09826354-6870-4610-b45f-4a53af5a7005",
   "metadata": {
    "tags": []
   },
   "outputs": [
    {
     "name": "stdout",
     "output_type": "stream",
     "text": [
      "Compounds filtered: 3056\n"
     ]
    },
    {
     "data": {
      "text/plain": [
       "Index(['molecule_chembl_id', 'can_smiles'], dtype='object')"
      ]
     },
     "execution_count": 31,
     "metadata": {},
     "output_type": "execute_result"
    }
   ],
   "source": [
    "print(f\"Compounds filtered: {compounds_df.shape[0]}\")\n",
    "compounds_df.columns"
   ]
  },
  {
   "cell_type": "markdown",
   "id": "ca05a20c-7884-44dc-a724-a45eb9b63de2",
   "metadata": {},
   "source": [
    "### Merge both datasets\n",
    "\n",
    "Merge values of interest from `bioactivities_df` and `compounds_df` in an `output_df` based on the compounds' ChEMBL IDs (`molecule_chembl_id`), keeping the following columns:\n",
    "\n",
    "* ChEMBL IDs: `molecule_chembl_id`\n",
    "* SMILES: `smiles`\n",
    "* units: `units`\n",
    "* IC50: `IC50`"
   ]
  },
  {
   "cell_type": "code",
   "execution_count": 32,
   "id": "9948132a-67d1-4dfc-8797-829d3782c367",
   "metadata": {
    "tags": []
   },
   "outputs": [
    {
     "name": "stdout",
     "output_type": "stream",
     "text": [
      "Dataset with 3056 entries.\n",
      "molecule_chembl_id     object\n",
      "IC50                  float64\n",
      "units                  object\n",
      "can_smiles             object\n",
      "dtype: object\n"
     ]
    },
    {
     "data": {
      "application/vnd.microsoft.datawrangler.viewer.v0+json": {
       "columns": [
        {
         "name": "index",
         "rawType": "int64",
         "type": "integer"
        },
        {
         "name": "molecule_chembl_id",
         "rawType": "object",
         "type": "string"
        },
        {
         "name": "IC50",
         "rawType": "float64",
         "type": "float"
        },
        {
         "name": "units",
         "rawType": "object",
         "type": "string"
        },
        {
         "name": "can_smiles",
         "rawType": "object",
         "type": "string"
        }
       ],
       "conversionMethod": "pd.DataFrame",
       "ref": "51ec9e6d-beff-4894-a706-f88609883565",
       "rows": [
        [
         "0",
         "CHEMBL1097107",
         "556.2",
         "nM",
         "CC1=C(C)C(=O)O[C@@H]([C@](C)(O)[C@]2(O)CC[C@@]3(O)[C@@H]4C[C@H]5O[C@]56CC=CC(=O)[C@]6(C)[C@H]4CC[C@]23C)C1"
        ],
        [
         "1",
         "CHEMBL1230189",
         "39000.0",
         "nM",
         "CN1Cc2ccccc2NC1=O"
        ],
        [
         "2",
         "CHEMBL1232461",
         "98.4",
         "nM",
         "CCNC(=O)C[C@@H]1N=C(c2ccc(Cl)cc2)c2cc(OC)ccc2-n2c(C)nnc21"
        ],
        [
         "3",
         "CHEMBL1233528",
         "119.8",
         "nM",
         "CC[C@@H]1C(=O)N(C)c2cnc(Nc3ccc(C(=O)N[C@H]4CC[C@H](N5CCN(CC6CC6)CC5)CC4)cc3OC)nc2N1C(C)C"
        ],
        [
         "4",
         "CHEMBL12543",
         "6000000.0",
         "nM",
         "CN1CCCC1=O"
        ]
       ],
       "shape": {
        "columns": 4,
        "rows": 5
       }
      },
      "text/html": [
       "<div>\n",
       "<style scoped>\n",
       "    .dataframe tbody tr th:only-of-type {\n",
       "        vertical-align: middle;\n",
       "    }\n",
       "\n",
       "    .dataframe tbody tr th {\n",
       "        vertical-align: top;\n",
       "    }\n",
       "\n",
       "    .dataframe thead th {\n",
       "        text-align: right;\n",
       "    }\n",
       "</style>\n",
       "<table border=\"1\" class=\"dataframe\">\n",
       "  <thead>\n",
       "    <tr style=\"text-align: right;\">\n",
       "      <th></th>\n",
       "      <th>molecule_chembl_id</th>\n",
       "      <th>IC50</th>\n",
       "      <th>units</th>\n",
       "      <th>can_smiles</th>\n",
       "    </tr>\n",
       "  </thead>\n",
       "  <tbody>\n",
       "    <tr>\n",
       "      <th>0</th>\n",
       "      <td>CHEMBL1097107</td>\n",
       "      <td>556.200</td>\n",
       "      <td>nM</td>\n",
       "      <td>CC1=C(C)C(=O)O[C@@H]([C@](C)(O)[C@]2(O)CC[C@@]...</td>\n",
       "    </tr>\n",
       "    <tr>\n",
       "      <th>1</th>\n",
       "      <td>CHEMBL1230189</td>\n",
       "      <td>39000.000</td>\n",
       "      <td>nM</td>\n",
       "      <td>CN1Cc2ccccc2NC1=O</td>\n",
       "    </tr>\n",
       "    <tr>\n",
       "      <th>2</th>\n",
       "      <td>CHEMBL1232461</td>\n",
       "      <td>98.400</td>\n",
       "      <td>nM</td>\n",
       "      <td>CCNC(=O)C[C@@H]1N=C(c2ccc(Cl)cc2)c2cc(OC)ccc2-...</td>\n",
       "    </tr>\n",
       "    <tr>\n",
       "      <th>3</th>\n",
       "      <td>CHEMBL1233528</td>\n",
       "      <td>119.800</td>\n",
       "      <td>nM</td>\n",
       "      <td>CC[C@@H]1C(=O)N(C)c2cnc(Nc3ccc(C(=O)N[C@H]4CC[...</td>\n",
       "    </tr>\n",
       "    <tr>\n",
       "      <th>4</th>\n",
       "      <td>CHEMBL12543</td>\n",
       "      <td>6000000.000</td>\n",
       "      <td>nM</td>\n",
       "      <td>CN1CCCC1=O</td>\n",
       "    </tr>\n",
       "  </tbody>\n",
       "</table>\n",
       "</div>"
      ],
      "text/plain": [
       "  molecule_chembl_id        IC50 units  \\\n",
       "0      CHEMBL1097107     556.200    nM   \n",
       "1      CHEMBL1230189   39000.000    nM   \n",
       "2      CHEMBL1232461      98.400    nM   \n",
       "3      CHEMBL1233528     119.800    nM   \n",
       "4        CHEMBL12543 6000000.000    nM   \n",
       "\n",
       "                                          can_smiles  \n",
       "0  CC1=C(C)C(=O)O[C@@H]([C@](C)(O)[C@]2(O)CC[C@@]...  \n",
       "1                                  CN1Cc2ccccc2NC1=O  \n",
       "2  CCNC(=O)C[C@@H]1N=C(c2ccc(Cl)cc2)c2cc(OC)ccc2-...  \n",
       "3  CC[C@@H]1C(=O)N(C)c2cnc(Nc3ccc(C(=O)N[C@H]4CC[...  \n",
       "4                                         CN1CCCC1=O  "
      ]
     },
     "execution_count": 32,
     "metadata": {},
     "output_type": "execute_result"
    }
   ],
   "source": [
    "### Merge DataFrames\n",
    "df = pd.merge(\n",
    "    bioactivities_df[[\"molecule_chembl_id\", \"IC50\", \"units\"]],\n",
    "    compounds_df,\n",
    "    on=\"molecule_chembl_id\",\n",
    ")\n",
    "\n",
    "### Reset row indices\n",
    "df.reset_index(drop=True, inplace=True)\n",
    "\n",
    "print(f\"Dataset with {df.shape[0]} entries.\")\n",
    "print(df.dtypes)\n",
    "df.head(5)"
   ]
  },
  {
   "cell_type": "markdown",
   "id": "9be17239-d84c-44d1-81ae-76de0b69d454",
   "metadata": {},
   "source": [
    "### Remove units\n",
    "As we are only using `nM` IC50s we can drop the column and store the information in the value header. "
   ]
  },
  {
   "cell_type": "code",
   "execution_count": 33,
   "id": "ecde3857-bee6-40f0-8f94-c3787868fc6a",
   "metadata": {
    "tags": []
   },
   "outputs": [
    {
     "name": "stdout",
     "output_type": "stream",
     "text": [
      "['nM']\n"
     ]
    },
    {
     "data": {
      "application/vnd.microsoft.datawrangler.viewer.v0+json": {
       "columns": [
        {
         "name": "index",
         "rawType": "int64",
         "type": "integer"
        },
        {
         "name": "molecule_chembl_id",
         "rawType": "object",
         "type": "string"
        },
        {
         "name": "IC50_nM",
         "rawType": "float64",
         "type": "float"
        },
        {
         "name": "can_smiles",
         "rawType": "object",
         "type": "string"
        }
       ],
       "conversionMethod": "pd.DataFrame",
       "ref": "66e4c196-42b6-48b1-b5fc-1cbb7ab97a45",
       "rows": [
        [
         "0",
         "CHEMBL1097107",
         "556.2",
         "CC1=C(C)C(=O)O[C@@H]([C@](C)(O)[C@]2(O)CC[C@@]3(O)[C@@H]4C[C@H]5O[C@]56CC=CC(=O)[C@]6(C)[C@H]4CC[C@]23C)C1"
        ],
        [
         "1",
         "CHEMBL1230189",
         "39000.0",
         "CN1Cc2ccccc2NC1=O"
        ],
        [
         "2",
         "CHEMBL1232461",
         "98.4",
         "CCNC(=O)C[C@@H]1N=C(c2ccc(Cl)cc2)c2cc(OC)ccc2-n2c(C)nnc21"
        ],
        [
         "3",
         "CHEMBL1233528",
         "119.8",
         "CC[C@@H]1C(=O)N(C)c2cnc(Nc3ccc(C(=O)N[C@H]4CC[C@H](N5CCN(CC6CC6)CC5)CC4)cc3OC)nc2N1C(C)C"
        ],
        [
         "4",
         "CHEMBL12543",
         "6000000.0",
         "CN1CCCC1=O"
        ]
       ],
       "shape": {
        "columns": 3,
        "rows": 5
       }
      },
      "text/html": [
       "<div>\n",
       "<style scoped>\n",
       "    .dataframe tbody tr th:only-of-type {\n",
       "        vertical-align: middle;\n",
       "    }\n",
       "\n",
       "    .dataframe tbody tr th {\n",
       "        vertical-align: top;\n",
       "    }\n",
       "\n",
       "    .dataframe thead th {\n",
       "        text-align: right;\n",
       "    }\n",
       "</style>\n",
       "<table border=\"1\" class=\"dataframe\">\n",
       "  <thead>\n",
       "    <tr style=\"text-align: right;\">\n",
       "      <th></th>\n",
       "      <th>molecule_chembl_id</th>\n",
       "      <th>IC50_nM</th>\n",
       "      <th>can_smiles</th>\n",
       "    </tr>\n",
       "  </thead>\n",
       "  <tbody>\n",
       "    <tr>\n",
       "      <th>0</th>\n",
       "      <td>CHEMBL1097107</td>\n",
       "      <td>556.200</td>\n",
       "      <td>CC1=C(C)C(=O)O[C@@H]([C@](C)(O)[C@]2(O)CC[C@@]...</td>\n",
       "    </tr>\n",
       "    <tr>\n",
       "      <th>1</th>\n",
       "      <td>CHEMBL1230189</td>\n",
       "      <td>39000.000</td>\n",
       "      <td>CN1Cc2ccccc2NC1=O</td>\n",
       "    </tr>\n",
       "    <tr>\n",
       "      <th>2</th>\n",
       "      <td>CHEMBL1232461</td>\n",
       "      <td>98.400</td>\n",
       "      <td>CCNC(=O)C[C@@H]1N=C(c2ccc(Cl)cc2)c2cc(OC)ccc2-...</td>\n",
       "    </tr>\n",
       "    <tr>\n",
       "      <th>3</th>\n",
       "      <td>CHEMBL1233528</td>\n",
       "      <td>119.800</td>\n",
       "      <td>CC[C@@H]1C(=O)N(C)c2cnc(Nc3ccc(C(=O)N[C@H]4CC[...</td>\n",
       "    </tr>\n",
       "    <tr>\n",
       "      <th>4</th>\n",
       "      <td>CHEMBL12543</td>\n",
       "      <td>6000000.000</td>\n",
       "      <td>CN1CCCC1=O</td>\n",
       "    </tr>\n",
       "  </tbody>\n",
       "</table>\n",
       "</div>"
      ],
      "text/plain": [
       "  molecule_chembl_id     IC50_nM  \\\n",
       "0      CHEMBL1097107     556.200   \n",
       "1      CHEMBL1230189   39000.000   \n",
       "2      CHEMBL1232461      98.400   \n",
       "3      CHEMBL1233528     119.800   \n",
       "4        CHEMBL12543 6000000.000   \n",
       "\n",
       "                                          can_smiles  \n",
       "0  CC1=C(C)C(=O)O[C@@H]([C@](C)(O)[C@]2(O)CC[C@@]...  \n",
       "1                                  CN1Cc2ccccc2NC1=O  \n",
       "2  CCNC(=O)C[C@@H]1N=C(c2ccc(Cl)cc2)c2cc(OC)ccc2-...  \n",
       "3  CC[C@@H]1C(=O)N(C)c2cnc(Nc3ccc(C(=O)N[C@H]4CC[...  \n",
       "4                                         CN1CCCC1=O  "
      ]
     },
     "execution_count": 33,
     "metadata": {},
     "output_type": "execute_result"
    }
   ],
   "source": [
    "print(df[\"units\"].unique())\n",
    "\n",
    "### Drop the 'molecule_structures' column\n",
    "df.drop(\"units\", axis=1, inplace=True)\n",
    "\n",
    "### Rename the activity column\n",
    "df = df.rename(columns={\"IC50\": \"IC50_nM\"})\n",
    "df.head()"
   ]
  },
  {
   "cell_type": "markdown",
   "id": "c32ba017-b984-4870-80c7-a4df16b29435",
   "metadata": {
    "tags": []
   },
   "source": [
    "# Structure curation\n",
    "The column `molecule_chembl_id` renamed `ID` will be used as index within this project. "
   ]
  },
  {
   "cell_type": "code",
   "execution_count": 34,
   "id": "4f7bbc51-7da7-483a-a1ae-29e3222e25b4",
   "metadata": {},
   "outputs": [
    {
     "data": {
      "text/plain": [
       "True"
      ]
     },
     "execution_count": 34,
     "metadata": {},
     "output_type": "execute_result"
    }
   ],
   "source": [
    "df = df.rename(columns={\"molecule_chembl_id\": \"ID\"})\n",
    "df = df.set_index(\"ID\")\n",
    "\n",
    "### Check for index uniqueness - Follow up if False\n",
    "df.index.is_unique"
   ]
  },
  {
   "cell_type": "code",
   "execution_count": 35,
   "id": "391f10e2-96e9-492d-bf1b-eb6046178a21",
   "metadata": {
    "tags": []
   },
   "outputs": [],
   "source": [
    "### Generate the 'Mol' column from SMILES strings\n",
    "smiles_col = \"can_smiles\"\n",
    "PandasTools.AddMoleculeColumnToFrame(df, smilesCol=smiles_col, molCol=\"Mol\")"
   ]
  },
  {
   "cell_type": "markdown",
   "id": "0edaecb0-303e-4271-b37b-fa539edac30f",
   "metadata": {},
   "source": [
    "## Structure Standardization"
   ]
  },
  {
   "cell_type": "code",
   "execution_count": 36,
   "id": "e22b7815-ada9-45de-8a31-649baeed654a",
   "metadata": {},
   "outputs": [
    {
     "name": "stdout",
     "output_type": "stream",
     "text": [
      "largest_frag=True (rdMolStandardize.FragmentParent):\n"
     ]
    },
    {
     "name": "stderr",
     "output_type": "stream",
     "text": [
      "100%|██████████| 3056/3056 [00:04<00:00, 623.80it/s]\n"
     ]
    },
    {
     "name": "stdout",
     "output_type": "stream",
     "text": [
      "remove_charge=True (rdMolStandardize.Uncharger().uncharge):\n"
     ]
    },
    {
     "name": "stderr",
     "output_type": "stream",
     "text": [
      "100%|██████████| 3056/3056 [00:00<00:00, 10863.66it/s]\n"
     ]
    },
    {
     "name": "stdout",
     "output_type": "stream",
     "text": [
      "tautomerize=False (rdMolStandardize.CanonicalTautomer)\n",
      "normalize=True (rdMolStandardize.Normalize):\n"
     ]
    },
    {
     "name": "stderr",
     "output_type": "stream",
     "text": [
      "100%|██████████| 3056/3056 [00:02<00:00, 1110.55it/s]\n"
     ]
    },
    {
     "name": "stdout",
     "output_type": "stream",
     "text": [
      "remove_stereo=False (rdMolStandardize.Normalize):\n",
      "cal_2D_coord_default=True (rdDepictor.Compute2DCoords):\n"
     ]
    },
    {
     "name": "stderr",
     "output_type": "stream",
     "text": [
      "100%|██████████| 3056/3056 [00:01<00:00, 2114.96it/s]\n"
     ]
    },
    {
     "name": "stdout",
     "output_type": "stream",
     "text": [
      "cal_2D_coord_deep=False (rdCoordGen.AddCoords):\n",
      "cleanup=True (rdMolStandardize.Cleanup):\n"
     ]
    },
    {
     "name": "stderr",
     "output_type": "stream",
     "text": [
      "100%|██████████| 3056/3056 [00:04<00:00, 634.15it/s]\n"
     ]
    }
   ],
   "source": [
    "### Overwrite the 'Mol' column with a standardized 'Mol' column using default settings\n",
    "df[\"Mol\"] = pd_mol.standardize_mol_col(df[\"Mol\"])"
   ]
  },
  {
   "cell_type": "markdown",
   "id": "328148ca-3c8b-472a-a872-70d6a0cba588",
   "metadata": {
    "editable": true,
    "slideshow": {
     "slide_type": ""
    },
    "tags": []
   },
   "source": [
    "## Remove duplicates & standardized smiles\n",
    "- Overwrites the smiles column with smiles generated from the standardized 'Mol' column in order to create standardized smiles\n",
    "- Standardaized smiles are used to identify and drop duplicated structures"
   ]
  },
  {
   "cell_type": "code",
   "execution_count": 37,
   "id": "d73ab329-640d-4a9e-b36e-92159ed30cf6",
   "metadata": {
    "editable": true,
    "slideshow": {
     "slide_type": ""
    },
    "tags": []
   },
   "outputs": [
    {
     "name": "stdout",
     "output_type": "stream",
     "text": [
      "1 duplicated rows found\n"
     ]
    }
   ],
   "source": [
    "### Generate standardized SMILES from Mol\n",
    "df[\"smiles\"] = df[\"Mol\"].apply(lambda x: Chem.MolToSmiles(x))\n",
    "df[\"smiles\"] = df[\"smiles\"].apply(\n",
    "    lambda x: Chem.MolStandardize.rdMolStandardize.StandardizeSmiles(x)\n",
    ")\n",
    "print(\"{} duplicated rows found\".format(df.duplicated(subset=\"smiles\").sum()))"
   ]
  },
  {
   "cell_type": "code",
   "execution_count": 38,
   "id": "fa9b73a3-226e-4b05-a6db-5fd06f13ea15",
   "metadata": {
    "scrolled": true,
    "tags": []
   },
   "outputs": [
    {
     "name": "stdout",
     "output_type": "stream",
     "text": [
      "2\n"
     ]
    },
    {
     "data": {
      "application/vnd.microsoft.datawrangler.viewer.v0+json": {
       "columns": [
        {
         "name": "ID",
         "rawType": "object",
         "type": "string"
        },
        {
         "name": "IC50_nM",
         "rawType": "float64",
         "type": "float"
        },
        {
         "name": "can_smiles",
         "rawType": "object",
         "type": "string"
        },
        {
         "name": "Mol",
         "rawType": "object",
         "type": "unknown"
        },
        {
         "name": "smiles",
         "rawType": "object",
         "type": "string"
        }
       ],
       "conversionMethod": "pd.DataFrame",
       "ref": "b8321a7b-8dfa-499a-9c58-71d55f3a987c",
       "rows": [
        [
         "CHEMBL4752538",
         "100.0",
         "Cc1sc2c(c1C)C(c1ccc(Cl)cc1)=N[C@@H](CC(=O)N1CCC(CN3CCN(Cc4ccc(-n5c(O)nnc5-c5cc(C(C)C)c(O)cc5O)cc4)CC3)CC1)c1nnc(C)n1-2.O=C(O)C(F)(F)F",
         "<rdkit.Chem.rdchem.Mol object at 0x72970ca7bc30>",
         "Cc1sc2c(c1C)C(c1ccc(Cl)cc1)=N[C@@H](CC(=O)N1CCC(CN3CCN(Cc4ccc(-n5c(O)nnc5-c5cc(C(C)C)c(O)cc5O)cc4)CC3)CC1)c1nnc(C)n1-2"
        ],
        [
         "CHEMBL4778627",
         "100.0",
         "Cc1sc2c(c1C)C(c1ccc(Cl)cc1)=N[C@@H](CC(=O)N1CCC(CN3CCN(Cc4ccc(-n5c(O)nnc5-c5cc(C(C)C)c(O)cc5O)cc4)CC3)CC1)c1nnc(C)n1-2.Cl",
         "<rdkit.Chem.rdchem.Mol object at 0x72970ca79380>",
         "Cc1sc2c(c1C)C(c1ccc(Cl)cc1)=N[C@@H](CC(=O)N1CCC(CN3CCN(Cc4ccc(-n5c(O)nnc5-c5cc(C(C)C)c(O)cc5O)cc4)CC3)CC1)c1nnc(C)n1-2"
        ]
       ],
       "shape": {
        "columns": 4,
        "rows": 2
       }
      },
      "text/html": [
       "<div>\n",
       "<style scoped>\n",
       "    .dataframe tbody tr th:only-of-type {\n",
       "        vertical-align: middle;\n",
       "    }\n",
       "\n",
       "    .dataframe tbody tr th {\n",
       "        vertical-align: top;\n",
       "    }\n",
       "\n",
       "    .dataframe thead th {\n",
       "        text-align: right;\n",
       "    }\n",
       "</style>\n",
       "<table border=\"1\" class=\"dataframe\">\n",
       "  <thead>\n",
       "    <tr style=\"text-align: right;\">\n",
       "      <th></th>\n",
       "      <th>IC50_nM</th>\n",
       "      <th>can_smiles</th>\n",
       "      <th>Mol</th>\n",
       "      <th>smiles</th>\n",
       "    </tr>\n",
       "    <tr>\n",
       "      <th>ID</th>\n",
       "      <th></th>\n",
       "      <th></th>\n",
       "      <th></th>\n",
       "      <th></th>\n",
       "    </tr>\n",
       "  </thead>\n",
       "  <tbody>\n",
       "    <tr>\n",
       "      <th>CHEMBL4752538</th>\n",
       "      <td>100.000</td>\n",
       "      <td>Cc1sc2c(c1C)C(c1ccc(Cl)cc1)=N[C@@H](CC(=O)N1CC...</td>\n",
       "      <td style=\"text-align: center;\"><div style=\"width: 200px; height: 200px\" data-content=\"rdkit/molecule\"><img src=\"data:image/png;base64,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\" alt=\"Mol\"/></div></td>\n",
       "      <td>Cc1sc2c(c1C)C(c1ccc(Cl)cc1)=N[C@@H](CC(=O)N1CC...</td>\n",
       "    </tr>\n",
       "    <tr>\n",
       "      <th>CHEMBL4778627</th>\n",
       "      <td>100.000</td>\n",
       "      <td>Cc1sc2c(c1C)C(c1ccc(Cl)cc1)=N[C@@H](CC(=O)N1CC...</td>\n",
       "      <td style=\"text-align: center;\"><div style=\"width: 200px; height: 200px\" data-content=\"rdkit/molecule\"><img src=\"data:image/png;base64,iVBORw0KGgoAAAANSUhEUgAAAMgAAADICAIAAAAiOjnJAAAABmJLR0QA/wD/AP+gvaeTAAAgAElEQVR4nO2deVzN2f/H37d7227dSotitEhZkmQZjMgWg8nYR0MxlrnZpmaIa36kjJqJ+RrLF6MYZIumsQ0ZkxozZPi6hVIqa1EptNGi5b5/f5xcjbjd+7mfTzfmPB/+IOd8zvveXp+zvt/vw0NEoFDYRkvTBlDeTaiwKJxAhUXhBCosCidQYVE4gQqLwglUWBROoMKicAIVFoUTqLAonECFReEEKiwKJ1BhUTiBCovCCVRYFE6gwqJwAhUWhROosCicQIVF4QQqLAonUGFROIEKi8IJVFgUTqDConACFRaFE6iwKJxAhUXhBCosCidQYVE4gQqLwglUWBROoMKicAIVFoUTqLAonECFReEEKiwKJ1BhUTiBCovCCVRYFE6gwqJwAhUWhROosCicQIVF4QQqLAonUGFROIEKi8IJVFgUTqDConACFRaFE6iwKJxAhUXhhBYvrN9+q//L6dMAAAkJ8O238NdfGrSIogwtXlgnTrz8y+XLcPEifP01xMdDSopGzaI0gUDTBjRFRQWEhgIAlJfD33/D2LHA48HYsXDxIri4aNo4yhtp8T2WUAjLl8Py5WBgAHZ2cOsWAEBWFtjZadgwDpg0adLXX39dXFysaUNYoMULy8Hh5V88PSEtDb79FrKzwd1do2axT1ZW1uHDh7du3aqrq6tpW9gA3zoSE7FnT5w1S9N2sMzSpUsBwNfXV9OGsAMPETWtbRW5eRM6dQKRCPLzQSjUtDXsUFtba2Njk5+ff/Hixb59+2raHBZo8UNhYxwdoW9fKCuDY8c0bQprxMbG5ufnd+rU6d1QFTS/sI4dAy8vAIAvv1TjKdOnAwDs2cOKSS2BXbt2AcCcOXM0bQhrsCyshAQAgMJCyMt7+cOyMkhKgkOHICQEHj0CS0s4eVK9Zry8MoYMmZefn9ewmbeWwsLCkydPCgQCb29vTdmQk5PD7gNZFtaiRRAXB2lpsH8/zJoFAweClRUYG0Pv3uDlBYGBcPs2TJwIv/4KVVVqNNOq1QpT023Xrh04cIA10zXHnj17ampqPD09raysNGJAREREx44do6OjWXwmy8IaNgx++QWqqqCkBHbtgvPnoaAAhEJwcYGJE0EiAfLVLVoEZ86o1dD06dMBYPfu3SwYrWn27NkDADNnzmz+pisrK2fMmOHr61tdXX39+nU2H83uInPxYkxPx1GjcNcujIjAhAS8f/8fBQoLsbgYa2txzRr87jvmDdXU1FhaWgLAzp07S0pK1DRbg1y8eBEALC0tq6ur1XlObW1RXl7ww4frlK+Sk5Pz/vvvA4ChoeGhQ4fUab0xLAtrxQpExMBAjI19Y5n9+9HBAfl81NV9VXbKI5PJnJ2dbWxsyOvRqlUrNzc3Pz+/8PDwc+fOPXv2jOFzm5Gamprz58/36dMHAJYsWaLm0woKNj59miiT1ShZPiEhoXXr1gDg6OiYmpqqZuuNYVlY06bh5Mm4dCkeP/7GMrNmIQDa2yMAfvEFw4aCg4MBQF9f397evvFWNZ/Pd3BwmDBhwty5c+Pi4hi2wQ0ZGbh9e/THH39sZGRErDUxMVlB3kg1eP48+949cX7+d8XFxzIyBubnh5aXJyHKGpeUyWRhYWF8Ph8APvroo+LiYjWbfi1sCksmQ5EIARAAHR3fWOzWLRQIUCBALS3U08MHD1RuKCYmhsfjaWlp/frrr+4vznYMDAysra3t7e2tra11dHTkItPW1k5OTlbnczHG3x8LCjA/HyMjMSoKZ81CGxsEwEGDFhPbrKyshg8fDgBCofDWrVvqt3j/fsCdO95SKZA/165ZxsdLDhw48PjxY1KgrKxs4sSJAMDj8SQSSV1dnfqNvhY2hXXnDgJgq1YIgOPHKyo5fTq2bZvj5LTfzW1vYOB/VGolOTnZwMAAANavX4+IX3/99eDBg83MzBpPH+3s7Nq1awcAq1evVudzMWbOHFy0CO/cQV/f+vcNAI2N0dV1prm5OTEyPDzcy8sLAIYOHSqTvaaDUQJZeXlSWVlCXl5wfn5oXd2z0tK4nBy/lBRbqRR8fXuSLrxv374LFiywt7cHAFNT01OnTrH8af8Jm8I6fvzlGBcYqKhkVtZjfX19bW1tHo+nr6//8OFDJZvIy8sjWvnss89e+a+ioqJz586Fh4f7+fm5ubmJRCIPD4/Tp0+TaQTT35laLF6MO3fizp24di06OqK1NWppIQD26zcJAMzNzadMmXLmzJnCwkILCwsTk/YHDqjeeyMWFm6RSrXy8oIb/1dlZfqWLRuGDx+up6dHdKyvr9+9e/fbt2+r/eGagE1h/fe/9x0cqnr0ODh48IUjRx4pLjx16lQAaN++PQAEBAQo8/zKykpy4jFgwICqqirFhWUyWXFxcV1dHRHihQsXlP0Y7LF4McpkOHEirl+Pw4YhAOrp4bBhuGXLFalU2nAYion529KyzsQEc3NVa+L587tXroikUigqilFQrLy8/OTJkyKRCABYGXObhE1hTZs2DQDIWuP69euKC6enp2tpaeno6PB4PKFQ+Pvvv5eXlysoL5PJiBbt7OwKCwuVt4p4DcybN0/5Kmzxyy9YUIBJSXjuHCYk4G+/oYKPOG4cAqCnp0otyLKyhkulcOfOp4rLLVy4UCgUkl9NVlaWSm0wg01hubi4AACRy/Pnz5ss/8MPP1y4cKF169a2trako27Tpo2np6dEIomMjJRKpZWVlfLCZBkoEolSUlJUsiotLY3sRzTZybHOoUMIgJMnK1U4L69+eqr8jlJExI8hIe5Xr1rV1DQxPixYsAAA3nvvPQC4evWqsg2oAWvCqqmp0dXV1dLSAgAXFxdlqpSUlHzwwQdkLtm1a9eGSzn5gq5bt25eXl5Tp06VLwMZ2NazZ08AiIlRNFhwwY4dCKCC51hEBFpb4++/K1X49u3bZBETH//mrZ0XBAQEAADZ9vv777+VNUgNWPN5P3HixPPnzy0sLH744QeyR6KYkpKSkSNHXrp0ydbWNj4+vkOHDrW1tTk5OWlpaenp6WlpaUlJSZmZmampqampqQBgaGgokUjatm1bU1Ojra2tkm3Tp09PTk7es2cPWWk3G0+fAgCIRMqWnzMHRo+GsWPB3R0OHIABA8DR8fUlZTLZrFmzysvLp02bNnTomCafLBQKAYD8XioqKpQ1SB3U12ZKSoqPj4+WlhY5Y3FycoqOjla8CissxKFDK21thzk4OGRnZ7+pWHl5uVQq3b17d8eOHQHA1dUVABh0WoWFhdra2gKBQPnlJyt88w0CoEp7n0VFOH06fvst/vgjrlmDvXq9/DN16rf9+/f38PDw8PDo1q0bALRu3To7O/vGjRtNPva7774DgA4dOjD7AhmgnrAuX/5+9mwejwcA+vr6np6edi9iHPr163fu3L3XVnr4EJ2dEQDd3StzlVsFHTp0CADI+m6yknOWfzJmzBgA2LhxI4O6jFmyBAFwzRoVqhQV4Tff4KpVGBCAAQEvd78AcOBA34Y9grGxsbOzc9euXa2trQsKChQ/duPGjQDg4OAAAKwfC74WpsK6cgUnT0YeL7dvXwMDAz8/PyKR6urq8PDwNm3aWFq21dev8PDAy5f/US8/H7t2RQDs0kWFpXVlZaWJiQkAaGlp6enpFRUVqWTszZs3f/75ZwDo3Llzamqqmse9yjN3LgLg1q0qVCHCKi/HLl3w3DmUSl/+uXIlOzExMS4uLi4u7tChQ2R8INOmIUOG1NQoOiXcvn07ADg6OgLArl271PxcyqBQWGS2m52N//sfVlTg+vUYEoLXr+PMmfUvkaEhSiSFjV6XZ8+ebd58haxxeDycOBFPnMBHjxARt2xBHR10da3/p/KIxWJ4se+1bds25Svu27dPIBAsX77c0NDQ1NQUALS1tZ2dnZfOno2hoXjkCN66hWRLKTUVQ0Nx/36UyV6eop88qZqhDYiMxNmz8exZZcsvWIDbtmFaGiLi9etYVqaocGJiItlhJh9K8V7g/v375cLasmWLsgapgUJhLVyIiHjpEkZG4ooVePMm1tTgjBm4aRMaGqKfH+bnK6hdVoZhYfWnhz4+uGgRIuKXX+Lp06hij4OIeP78eQBo1aoVAPTv31/JWlKplMxbiQ+dra2tg4MDWboG9OjxcpgRCvG//8XPP8faWjx5Erdvr//siLhggcq2IiLiTz/VV/X3R5kMV6xAqVRR+S1b6g1R/vB03bp1ACAUCslq5uDBg28qeeTIEflQ+P333yv/KRijUFgDB2JICM6di5GRKA9L+uYbvHsXnzxRsoG8PNy2DZctwx078MwZ/PJL5raSKTwRSkZGRpPlc3Nzyc4NGS+cnJyI51ZFRYVUKk05dAiXLMGRI9HaGgFw7VrcuRMRUSZDX1+cMQNDQjAkBOfMYWbtTz+hvz9euID+/nj2bL2AXVxwwwZ89OjVF+v8edTRQR4PDxxQrRXi8EiGRQMDgzc5wDx+/PjSpUsff/wxACyUvzNconSPtWQJkiHv889R9TnKsmX4/DmKxYzff8QXe6RkabNy5UrFhSsqKogXG9GWmZmZoqOM4mK8fRuXL0dEvH0bQ0JY6bFSUnDOHFy4ECdNQhsbNDJCAOzYsVJHR8fT0zM6OppMjLKzs4cPPwaADJyynj175uzsLH95HB0dG7vBpKenBwUFkXWVnZ2dQCCQSCRcTzQVCmvHDkTEmzfx7Fl88gSDgzE4WIUpQwNWrcLqakxNRR8fRmYiIuLdu3d5PB45T7W1tVXg8iGTyaZMmQIAFhYWZFL1xx9/NN1AZCR+8w2uXImlpbhpU/0PmS4kf/oJr1/Hy5fR1bV+S524NnTvfkq+z+fm5lZRUdGzZ08ejzd37v7aWiYN3bx5k6xsyCvk7e1Nfl5YWLhx48ZevXrJF5KOjo4DBw4kq/g+ffqkkdkcNzRfJPTJkzh+fL1WGTNw4EAAMDc319PTS09Pf1Ox5cuXk6GBTD4iIiLUapURublI/FhTU7GoCMPDkUzqevR4AgDW1tZt2rRZunTpZ599RhYlcpcpBvz6669aWlp8Pr979+7p6enHjx+fPHmy/CTD2NjYx8cnLi6ObC7+/vvvpHvT09MLCwurZSbnpmg+YYWHIwDOnKnWQ8iyuX379snJyW/qsaKjo3k8Hp/PNzY2Bja8flnk8mVcufIE6WAAgPzuRSJRk2f2TRIYGEjeJfnDtbW1yYDb8MiVUFpaKhaLSdfVt29fBa8oY5pPWAkJCIADBqj1kOLiYpFIRIYSHR0dJyenyZMnBwUFHT9+/Pbt2+SNjIqK0tPTa9OmDQCMHDmSozdSHaqqqqKjoz09Pfl8vqWl5XfqRJW8oK6urnv37tbW1mSZEhYW1uQxw+nTp7nruppPWA8eIABaWqr7nNjYWBcXF3kYRUNatWo1cOBAX19fMp/t0qVLCw/gmTVrFgCEhYWx8rTBgwcDwCb57FAJGnZd/fr1U+Z0SEmaT1gyGVpYyDp1qigtZcd9pbS0VCqVRkZGSiQST09P0kURbG1tDQwMmsejTR327dsHAGPHjlX/UdXV1UKhkMfjqeSsRjh16hQ5LltENhvZoFnTGBGHLanijUI1ePjwYVxcXHBwsJaWlq6uLkfxJyxy69YtAGjdurX6jyLxiU5OTsyql5SUSCQSxb6WKtGswiJeK1FRUVw3REJfwsPDuW5IfcjepvpO6P/5z38AQCwWs2KV+jRrthlyVnXz5k2uGyL70XvehnQ0xIv/77//VvM5iYmJAODm5saCTWzQrMIiM+4zZ85UqZUSpGkmTJggEokSExMzMzM5bUh9iA8tGcgYg4hEWAMGDGDHLLVpPmHdunVr48aNZmZmf/31l5WVla+v77Vr1zhqSygUkmG35aejIcJSs8fKysoqLCy0srIiYYMtguYZcU+cqN8VtLGxafjhBwwYEBkZWVFRwXqLCQkJAGBra6uRiELlKS8vFwgEAoFAnXwTO3bsAIBPPvmERcPUhHNhkUwBxFNlzJgxDx8+NDEx4fP5dnZ2hoaGRF7GxsZisZjd6BGZTEact/78808WH8sFPXr0YGzno0ePEJGkQGpm/1jFcCus0tLScePGAQCfzw8KCqqrq7t///64ceMEgvogDgsLC7KDQnBzcwsNDWVrC5icGM6ePZuVp3HH/PnzAWDVqlUq1bp3756fn59QKPzjjz/IqigpKYkjCxnAobBu3LjRuXNnADAzMzt9+nTD/8rPzw8LC5OPiQ07MB0dnc8//5wVA7Kysng8npGREYvbM1ywevVqXV1dPT29oKAgZbyur1/HWbPmk5dTS0urT58+pqamOjo6mZmZzWCtknAlrAMHDpCotx49ety5c+e1Zerq6k6dOjV+/Hh5BzZq1CgA6NWrF1tm9OvXDwCWL1/+SFVX6OYiNzd30KBB3bt3J9+AiYlJYGDgkyevl1dyMvr4IJ+P7u4HBAKBvb09OTYlMw1TU9NXXmANwr6wampqiC8UAMyaNavx0Xpj8vLyQkJCPDw8srOzAaBNmzZsGTNmzBh5Yk+SnE0sFm/YsCEuLq4lSO377783MTGJjY1FxHPnznl6ehKVuLik+vlhXt4/Cnt71zt16eqis3NZ795BAKCtre3j43P58uUJEyaQvj8sLKwlrFfYF9bu3bv5fL5AINiwYYOqdWUymb6+PgCUKQ4kUI5Dhw6R+GkXFxfiQtMQHo9nZ2fn6em5bNkyLvxGFJOXlzdkyBALC4tX4pITExPF4jC5I/5XX2F6en3gycqVqK+P7drVy6tbt3I/Pz95VGbDRZKXl5cyo/+9e/eCg4Pfe++9nj17NhlApirsC2v9+vUA0KVLl/nz5zOIaieOCVeuXFHTjKSkJOIdL9d3bm5uXFzchg0bxGKxm5ubsMGtFr8rGdbOEj/++KONjU3Hjh3f5E1w9SoJrkMA9PLCsWNRJsO5c9HMrN4N9f/+D1+rhBMnTpBXyNXV9e7du699eFVV1cGDB0eMGEFUSFwbbGxs2J37sy8sqVQKL9xkGdwMM378eACIjo5WxwZ5Gq2Zb3YsrK2tzczMjImJCQ4OZuARwIyHDx9+9NFHhoaG3bp1u99UAtarV3HGDNy+Hdetw1278MsvcdMm/O47LC1VVCszM5OsmczNzePj4xv+V1pamkQiIe7aAKCrqzt58uR169aRVZSenh6LIYfsC6u0tJQYDQBDhw5VtTrJOhQaGsrYgIqKCpIxdsCAAcokvWk2IiIiHB0deTxe//79lfe82LsXk5PR3x8bpZp7I6WlpSQgRyAQhIWFlZSUhIeHNzxGJJ6AZJY5ZMgQeBGwCQBisVhx7KuScLIqJHmYAMDa2lrVusT5uHHCPiWRyWSffvop+aaarR9ShpCQEDLhGzFihEonDURYeXnYs6cKzdXW1i5dupQMc/IcKqampl988cUr04w///yT/L5at25NSg4aNEj9r44TYZGXQyAQ8Hg8VY9rzp49S3ZKmTUdFBQEACKRiIsU0+pAsie0b9+elf5ASbZt2yYSiYRCoZubW3h4+Jtm9Dk5OSSYRygUkpO3Dh06qPkFciIsEnlC1vmq2pebmwtMfd8aZlNmUJ1TYmNjAWD48OHN2eiff/4JAI6OjiEhIYrXQ5WVlT4+PmQuT3xxDQ0N1ckoxomwQkND4UVk6eHDh5WvWFVVJZPJyM6qqu7qr2RTbmkQLzQ7O7vmbDQ8PBxeuMH9+OOPigs3zP9Olj48Hm/GjBnMmubEbcaxQb4w4n2rDBkZGT169Ni7dy9JVX358mWVGjU2Nrazs/vss8++VOvGOq6ws7PT1tbOycnh2hetIcQdrbq6GgDIUlEBJPP7sWPHjI2NHzx48OGHH/J4vKioKIZtM9OjYq5cuQIApEdV8uDv4MGDpL+xt7cn+ytnVQ+5Li0tbVHLwFcg71tzbsaSIzKSLDlfYQaXhmRkZHz66afkl2hra8usaU6E9ezZMx6PR6Ixx4wZo7hwTU2NRCKRb9MBgJaWloL9p7eX0aNHA8CxY8earUX5JoKJiYmqdUmCmtGjRzNrmpOh0MDAwMzMrLq6eu3atUePHlVQ8vHjxyNHjlyzZg3JNJmTk2NkZBQTE7Nz504uDNMszebyT6iqqsrJySEH/E2Og43JyMhgVpHAlWuys7Ozjo7O0qVLra2tly1bRk6XXyEpKal3797x8fGmpqb6+voFBQWdO3e+dOkS2Xx/9yDpqZpNWJmZmXV1dWTCylhYnTp1YtY6V8L6+eefFyxY4ODgkJeXt2bNmg4dOowdO/bkyZN1dXWkQGRkpJubW3Z2to2NTUlJybNnz7y8vKRSKeNXpOXTzD0WUQaZuTZ/j8W5a7JUKhWLxcRnAQDatm0rkUju3bsXFxfH5/PJspacPHBtica5ffs2ALRp04a7O7caQtKJkXPAo0ePqlqd7JQy9npopmCKgoKCNWvWkLEAAPh8/uDBg8lJgqWlZct3S2eF2tpasqCRv12cNkeOtsiXrEwCxIaQW9xNTU0Zt96skdD4zw5MJBK5uroqyPP+jnH06NGGVysIBIIlPj548iRy04E5ODjw+fyFCxempKSoeo5EYpyUz/XamOYWFqGgoID0XmfOnNGIAc1MTU1NQEAA2VIBAKFQaG9vr62tHT94MAJg27YokSDbHdjChQtJc1999ZXywqquri4pKdm6dSuoF4eiGWHhi6ysO9TM8KcJ4uLiduzY8fTpUyXLFxbiyJHjAEBbW3vGjBnyYGWBllZR585oYVHvEioQ4NmzWFCAOTlsmbpnzx6SWdPd3b3J2VJGRoZEIrG0tFy0aJG/vz8ArF27lnHTGhPW6tWrAUAikWjKAAaQ0zQdHR0jIyORSCQWi5vMnJOUhHZ26OZ2u3Xr1gkJCeSHaWlp/v7+a4YMeZkMvEsXtLTEiAhcswa3bkU13NFeITExkRyBWFtbv9basrKyHTt29O/fXz5GOzo6mpub83i84ODXXK6pJBoT1sGDBwFgwoQJmjJAVYqKisjWOZ/Pb9u2rfzX8NFHUyIi8LX91/btqKtbn8cwP7+R32dVFUZHo4dHvQ/yV1+hPFeMWIzsBUTk5uaS1CN6enp79+6V/5zMd+Vhw0KhkBxoyqeAfD6fcaelMWElJSUBQLdu3TRlgEpcvXqVOGuYmZkRB/nMzEyJRGJubj5o0DoAFIlQLEapFK9fRxKXFBpa3x998UVT+cvT0/GrrzAz8x/CYpWqqiqSPVB+x7h8Bsbj8dq3by/3V9bS0vLw8Ni9e/fq1avJoe2UKVMYBGZqTFhlZWUAoK+v3zybOurQMEbylQiFysrKqKhyd/eXd1xMmoRkS27BAvzgg/o7CZRlzx789lvctAm5uTwiPDycdEijRo3at29fq1at2rdvT9RDxkqJRNLwAx49elQkEpk5mI1IHXHvuWprC40JC1/kHGsypkCDkANy8r37+Pgo8IYlnY6HBy5ejKGhmJmJ/v6MthGePHk1npBV4uPjySGPfONDX1/f29s7ISHhtdGIaWlpo/83GpLA4prF2acq+JtoUlhkfSSf0qpEeXl5YGDgtGnTuNsGKywsHDp0KADo6uoqHyO5eDFWVOD8+ejvz5Fd6nL37l0bGxs+n9+5c+ewsLAm88sX1xaPujkKkkA7WXtz4WYlW9GksMiozyChY3Z2du/evUlgIJkTREdHs3uHR1RUFJmhv/feeyrddbt4MSLiiRM4fz6L5rBPnir9ogxlQXlBvCReaH7okeIjQXlBux/vXpGr6IZPTQqLXPup+D60xsTGxpI7wNq1azds2DASZ0YUEBgYyMo5SWVlpYGBAY/Hc3d3V94/Ts4vv+DUqfjbb+ob0rL46+lfd5/fDXgQgIgFNQWL7itKsaxJYZEcoZaWlkpe6iKT4bp1j3V0hAAwduzY0tJSRCwuLg4PDydX2bLVgRUVFZG7LZhdfL9iBQJgU7dIvZXElcUdKqq/oLXlCuvq1avkEkcA6NWrl4L4JEQsKcGPP0YAHDLkckhIyCszTZlMdvbs2WnTppGNZnLQO3v2bAb9DYFc8fCmPDmKiYxEAPz0U2Ytt2iyn2eTHqtGVtNyhYWIly5dmjt3rpGREVHDqFGb/P2xcf914wZ26YIAaGraxBDTsAPT1dUdN24cM8PItJ1ZVqALFxAAe/dm1nJL52jJ0aC8oC2FWw4WvfHeTdS4sAhPnz7dvn17//4DWrV6QnaD3NwwMhLXrUOZDDMzccQIcm8WKt+DkLS2VlZWzEzy9fUFgM2blV0ENeTRI9TWxm7dms7f9A7TIoQlJy0NJRI0NUUA7NMH3d1x50787Tc8eBCXLEGVYqrVzIhE8vH7M90zsLBoA2p4yb0DNGue9yZxcoKwMMjJgR07YMUKeP99SE2FJ09AJIK1a+GFF6pS8Hg8cgijfGBjQ9T0T7eza8e46XeDliUsgoEBzJ4NY8YAAEgksHkzw+eo42Oupn96M7u3t0BaorDkODqCpSXMnQtmZkyq9+mzsmvXS/fujWZQt0OHDnw+/+7duzU1NQyqE08VKqwWiq8vDB4MYjE0yNitAubmrmlpfdLTDRnU1dXVbdeuXW1t7WsD1xSTlZV18OBBPT294uJiBk2/G7RoYQFAbS08fw7M5iokgwTjeQ6z4ezw4cPvv/9+bm5u27Zt582bx7Dtt5+WLiwiDmZDijp1AYA4X8TExCg5GtbV1QUHB0+ePLmsrMzLyyslJYXkU/2XoullaRMQd7mlS5nUlcnQxQVHj27Kz+51xMbGikQikknVyspKIpEovq/18ePHI0aMgH9NjGSTtHRhHTlS9MEH0X5+PzOoe+sWTpmCiLhhQxMJYRsik8lWrVpF3N969erl5ORE3kCS5TEmJqbxKWRycjJJv2FhYfEviTtqkpYuLJJMx9nZmUHd9HT85BOMisKgIFQyl2xpaSnJHCG//Adf+IYTJ1IAsLS0bNiB7d27lzjw9O7dm+sY1LeIlsbX5HoAAALGSURBVC6sp0+f8ng8Zh7M6ekYEYELF+KiRRgdjQsW4LVrisrfuHGjS5cu8LrLfxCxqKho48aNXbt2lXdgw4YNI1eqAMC8efNacmqu5qelCwsRSS7THFWi7Z4+RW9vjI7GiAjMycG2bXHYsHqf9H79cOdOLC9/VaZRUVGkT3J1dVXs1NCwA+Pz+bq6um9jdCTXvAXCGjhwIAB4e3srczMWImZmYteuCIBOTkiy58XHY0oKSiT1Nzvo6aGNjatYLE5OTsZ/OrZ7e3srGZFSXFy8ePHiSZMmqXnXwbvKWyCsgIAA4iZKblKIi4tTcAnR8eMyY2MEwK5dsfEta+XluGsXTp+eIV8U9+jRg8y7dXR0tm7dyu0n+TfxFgirrq5uy5YtH374oTxQycnJaf369U+ePGlYjIQp9+0bwuPh2LFNLANv3LghkUjMzMyIXq2srC5cuMDtx/iX8RYIS86DBw/CwsJIntJXOrAnT56MHDmSbCNt23ZdySjiioqKzZs3L168uKXdNvAO8DYJi1BTU3P48OGRI0fKOzA7OzsSXmFhYcEsmIzCOjxEZG8bv1nJzc3dt2/f1q1bc3JyzM3NbWxsfvnlFzs7O03bRQEAeIuFRaitrV23bp2RkdHMmTPlkRQUjfPWC4vSMmnp3g2UtxQqLAonUGFROIEKi8IJVFgUTqDConACFRaFE6iwKJxAhUXhBCosCidQYVE4gQqLwglUWBROoMKicAIVFoUTqLAonECFReEEKiwKJ1BhUTiBCovCCVRYFE6gwqJwAhUWhROosCicQIVF4QQqLAonUGFROIEKi8IJVFgUTqDConACFRaFE6iwKJxAhUXhBCosCidQYVE4gQqLwglUWBROoMKicAIVFoUTqLAonECFReEEKiwKJ1BhUTiBCovCCVRYFE6gwqJwAhUWhROosCicQIVF4QQqLAon/D+4BqQaK8HKuwAABCF6VFh0cmRraXRQS0wgcmRraXQgMjAyNC4wOS40AAB4nIWTe0xbVRzHzz23vW3p+gBKO8rrtl1LWx7CgEKha08RqIkYx/4wUaa5i6/rI2Rz7p/5gCW4CZlOB8PEMA0aTZappClDYyecbmZoxsTNCEMZGUvm1ESWuaVxbIq9v1IkQOJNTn6fc36/8z3f88s910c+nUWJT58YGCW/QGKEEqOD4ZCQiAzLEWcisjJ9MuLUfE1M1aPVeVGKLLMCkpl0xEs71hYokhIsx1dKBcySNsYpbWUy4uXC5fzKyDKpuQJOWlO2evl/HSvI0nkk5QMKGCaVWF2wjuTKbrH/dXlVt5eV1+xcL5OCdduwIq66xhq3SyZS62rEIAYLmBVYmYhlckHOIZmCVyh5pUrEqjQhTS1i9Qak1ggarYgVOifW6ZE+XcakZ6CMTCfOMPCGLJRlREYTMm1EG7NRthmZc1BOLsrNQ3n5KL9AxAW8wFtEbLHyVptg28Tb7CK2OwRHoYgLnbzTJWKXW3AXoaJiVFSC3KUiLr2HLy0TyspFXL6Zt1QIFZUizq1CVR5kqkbVNUjvRd5aEdfWCXU+Efu2IJ9fkDMi1iqFGgPyewU/y3uyUWW+UGgVyp1CvSpxXTmDWZmcU6WpNVqlQqeQsX6vnssymqprDJw5J7fKk80VJE6rzJfbrIUOO+dyl5aVO+W1Xr+vzvRP4gExKPWIuouzgycneok0OdXCBb/0tgHvemGWXHN1Ao+dOk20r9cAf7xnjsx4f5IeH8okiqC3WQvrbEVOcGw6DOv7Xp0kM8/v9Ut8efIOef+DzaMS9z55i+xsV1OJF2Y3BK9+FwKeuNcW7AnZgRevVwVV7+wA3nPXEeybOwh7G7cagq1Z1hGJSwqOk/DZs8AR1EF0A6/BWaG+SrL7jBvqm1rqyZ9DKtCJRN8gXdtKgJvH/wiEzY3AFWjeb37FAvz0J57R6SvbgS90LI6Ybh5NehieHI1/FAV+ZF8DLZo6lmTfNoqOvwi8JXyEPqtpAT73VJT2evcDX7p9jb79owj86NQ89V1I+hm3fEvvXOwHn82LE5QOd4L/7Yfv0uj5rdDD+c+Z2NfVmdDbGzeNsb9uBYD7XyqODXZlAb97OSMmu+8QcHcgTjvtfcBXVXO0tfgh4MdOhunibCPwF5sG6N89U6C/47PHacPtYWBjez09933EJ7Hum7HRwdY26O3Pv7dTGX0LfB6td9CmBjvo5D54aPS3uAH4110h2vRwO/DLXA9t+eEAsOW9D+n5S0PAcVt6bMH1y1cSe05oYvc/Mw6aD3QN0UD0RLKH8QM0rXsM2HjxicCV2CCwY0BGWN1h4IOe58ib0zPg+Uh3OrkR0YP+3jYjUfXuBC7kd5OFM8n/9likm8T7w8DM6R6yP88LbPwX9txHWlncAGkAAAVqelRYdE1PTCByZGtpdCAyMDI0LjA5LjQAAHicfVfLbhxHDLzrK/oHdtB89eOQgy05RhBYAhLH/xAgx/w/UtUj94wRJrtaanbAYRfJ4mOfCl+/vfz6599lv/Tl6amU+j9/c87yzWqtT18KL8rHT59/eS3PXz98/H7n+e2P16+/l2alC57B+0fdD1/fvny/I+W5zCO6WffiR4tqMUo96npdTyr0xmHTZ5NiR1fVbomeFRx8zBDvFfbEqkgkeg577RDpoa3oMYZZ9UQvoNeP6tFEihy9+piS6LWFz8PEDfZUzasmen352xDFcNizMT31dyx8vep0mlH3iJbozYVvwOCo5VFhufeZOSJ1aTbEGbcfekifLbIQiixfRnW3Xh52iGqtqSazIkBXvUbQaAz1/Hgrz3/B9GFd6jSaDfXhqVk/zbq1ZjArh9TaLDUbK57aZsxB/wUIRpZwaeW1xGHeGUhoGiJmWeiFOfJ1ezDk2kD69HAmCdxRaV1X8FuvKTuEabKjWlNEl8EPaW1mPK/lDYe7TkH9QLPXwatEU+CQHCOQ8JWmiv+R4VSmCeFsiPeZJTVtGU5FluhIF4s2aNRDzDPiqZ+qPmfF14cf02Jqej6ThCy23kGp8gjwFSRM3WeWli/VZlDVakesMlWmCao6fIIbuBqqE4xNVJkoIASAAXLwodbcU6yTAIAwmqLT4SFBhWqGlZ2uPDpqc2oIrTYDpTLymZyqjvIb8ySAeWRYjcl6NLgV1hvDpoqrrJeYnapIwRQ6o0hATY36ef6YOhqDOSQ6Ff6tGfR/oOLQJwLsRqvXnrrPlveYqNLVmvQACtP09A5OP1DQfVTpg0at/UdMB4+fbE4DUFAIHZzOqGorUWhoMxTHI7n0PbPp73mqpuy1hh7Q8tj7SlMcEY6Gy4Kd0i0jn+upiXR3ZAzcHq7pAHE7aRoBHg9oorR9ZOl0PzXB/HpmUWVGliR/L6ho8NhYhSjonnLE22kU8wG9afVSQ1tLra6CQneYHS2nrGauMzU6VkIxPmfDlEM+tYNPmeY8jxf0MHADOMYcaZOIetZooNyQB18jL+08qLU3xl7gCQZYYGlA5rN8hp4UrV30HI8iaul4iJWmwbrvOJ7BnW2mjTf8zH1z6Qgkr/qUtO4iTqcw6UYdq6zRWGvG52irSY9pE/0aRtFVXLL5FH2NndoVZbRC1twsRTrW2GlYciq3jY5OMrISCRYTthbU/FjrC0beyCzCXypaVDRd7mEx847XZB2NMh4of3RRuJMe3XRNWzOMBimsveqSUQm5eGWZY2VDBpS9zNN28+n15YcV81w6P769vlxLJ9967ZawV+xaIZ2fa1PkO66FEF9Ku/Y+wadf6x18KOPa4gSfeS1rjo/cdzKnELntXk4hGxx2LFli4xMC5J0NUYgQQjZK7EXK0zdOIVCKDVWIlQIk+fnzTxcEgqbYsLG96BL3LUXWnf2Uroji74oqgUPoBo7tQih0A0cnEArdwLErCIVu5ErkXNI3ciVyCN1xVmKG0I0Z00Uo7D6upaxZfJvKTmEbs5EKEHaRYbEBVN+YjZghbGPmoKKwjdmIGcI2ZhbBurMxY9Q5hW3MRn5Q3EeXUPjGzNa4xMbsxEyxMTvjDOEXh4kZwjdmj/c7GzN6ra+nNmZnnCF8Y3Zi5p2N2YkZIu6NXChiY44VZ5TNxhzEDBEbc9iZr9iY+fuIIq7Si5MtsTEH4wwRG3O8szo25iBmiNiYg5gh2r2tOUXbmBv5DNE25kbMvLMxN3KjXX2krTKMq94bAQPRVSaNQcZzF7xGwO3Wbxq5HPcKaAuv3ZjbV1uqNw52xjjuTGEbvDc9fv/+Kx3XT/8AEp/0dZWq/8oAAAK/elRYdFNNSUxFUyByZGtpdCAyMDI0LjA5LjQAAHicJVS7jtxIDPwVhzNAq9F8kycYMKDE0Tq66OBIqbGJAyf++Cu2BtiBplRkV7HYe910v673zffrN72Pz/3r8/Om/65v33++ruv19cf7gy48XB9yXR+v69b7vl/Hp92vH0214zYAILzRCNh9W3/p+7oEf/T++HoxzmnSL7ygL39fNS1EYuh0W+LjzCml5UNmMHM0oCakgyez6DhrelXZoClZioqYS80JQCzNGqdPojBBRaZI/y4j7TNIFvE4cRgI1oRiBQOHVaY2Q4urGSKKNzbNltI4eQoeqmVZLW2AQ1e2LF+V3cPDuFWwyW6x8KmxNqF2STJ5jGNN91hFXQTTTOPgSdbvUKZc5I3ESjycNNMixwFuVNg411TXVGuOsTA4aBkk5pumhseNadWScegssYLxgyAyVMdhM10XFOy2ayOy2kAjnFrSrZK5laMD6jDbfueuDaGD+W5OhYSAxGRMz5rkkj0kQOoS9fiTTutwdDeBUEKghugbglCMA6OCzBW7ENFkAEqyBnLSit4CWYsx7qOmCnIHgtqO+SAMIRc3R3wrqkkIVpCrRtgjyMswMRjCSbmRJay9cNC3FXboygoEGcXjdQn2FOF66jMisydtpKX5jFFqtYfFVLZHS9N8tXsYE454KqsyqO1jG7PPQ4oV2bqt570LiaqtoWq7FwAOk6jOSt6JGMbeK8uqZlskoaNhZ90ea4VoCcPC+UQsaXuOiA2mWlx5PX5dKbxXwKOIdnfWTKhEWlir3rksKeYmIeQeAqN738iW4toJYIU0wMZ5UrkQMu5erF6h9cjc1zVxgbcor4heL4QiLYk7Lre+81ifXlP4xpknkuW+hsceEa7hSbj+AamdBKTq5qi478Guhc3Efwpug+0eVXD/Hn/+/YfQ0/7+D+vqA56lD9QWAAAAAElFTkSuQmCC\" alt=\"Mol\"/></div></td>\n",
       "      <td>Cc1sc2c(c1C)C(c1ccc(Cl)cc1)=N[C@@H](CC(=O)N1CC...</td>\n",
       "    </tr>\n",
       "  </tbody>\n",
       "</table>\n",
       "</div>"
      ],
      "text/plain": [
       "               IC50_nM                                         can_smiles  \\\n",
       "ID                                                                          \n",
       "CHEMBL4752538  100.000  Cc1sc2c(c1C)C(c1ccc(Cl)cc1)=N[C@@H](CC(=O)N1CC...   \n",
       "CHEMBL4778627  100.000  Cc1sc2c(c1C)C(c1ccc(Cl)cc1)=N[C@@H](CC(=O)N1CC...   \n",
       "\n",
       "                                                            Mol  \\\n",
       "ID                                                                \n",
       "CHEMBL4752538  <rdkit.Chem.rdchem.Mol object at 0x72970ca7bc30>   \n",
       "CHEMBL4778627  <rdkit.Chem.rdchem.Mol object at 0x72970ca79380>   \n",
       "\n",
       "                                                          smiles  \n",
       "ID                                                                \n",
       "CHEMBL4752538  Cc1sc2c(c1C)C(c1ccc(Cl)cc1)=N[C@@H](CC(=O)N1CC...  \n",
       "CHEMBL4778627  Cc1sc2c(c1C)C(c1ccc(Cl)cc1)=N[C@@H](CC(=O)N1CC...  "
      ]
     },
     "execution_count": 38,
     "metadata": {},
     "output_type": "execute_result"
    }
   ],
   "source": [
    "### Visualizing structural duplicates with different ChEMBL IDs for inspection\n",
    "duplicate_structures_df = df[df.duplicated(subset=\"smiles\", keep=False)]\n",
    "print(len(duplicate_structures_df))\n",
    "render_mol(duplicate_structures_df.sort_values(\"smiles\"))"
   ]
  },
  {
   "cell_type": "code",
   "execution_count": 39,
   "id": "de72e896-bf3c-4fe6-bbf9-3642185d7101",
   "metadata": {},
   "outputs": [
    {
     "data": {
      "application/vnd.microsoft.datawrangler.viewer.v0+json": {
       "columns": [
        {
         "name": "ID",
         "rawType": "object",
         "type": "string"
        },
        {
         "name": "IC50_nM",
         "rawType": "float64",
         "type": "float"
        },
        {
         "name": "Mol",
         "rawType": "object",
         "type": "unknown"
        }
       ],
       "conversionMethod": "pd.DataFrame",
       "ref": "a92576b9-9c73-400a-bdab-5e5d08a71b58",
       "rows": [
        [
         "CHEMBL1097107",
         "556.2",
         "<rdkit.Chem.rdchem.Mol object at 0x72970ca94dd0>"
        ],
        [
         "CHEMBL1230189",
         "39000.0",
         "<rdkit.Chem.rdchem.Mol object at 0x72970ca94d60>"
        ],
        [
         "CHEMBL1232461",
         "98.4",
         "<rdkit.Chem.rdchem.Mol object at 0x72970ca94cf0>"
        ],
        [
         "CHEMBL1233528",
         "119.8",
         "<rdkit.Chem.rdchem.Mol object at 0x72970ca94c80>"
        ],
        [
         "CHEMBL12543",
         "6000000.0",
         "<rdkit.Chem.rdchem.Mol object at 0x72970ca94c10>"
        ]
       ],
       "shape": {
        "columns": 2,
        "rows": 5
       }
      },
      "text/html": [
       "<div>\n",
       "<style scoped>\n",
       "    .dataframe tbody tr th:only-of-type {\n",
       "        vertical-align: middle;\n",
       "    }\n",
       "\n",
       "    .dataframe tbody tr th {\n",
       "        vertical-align: top;\n",
       "    }\n",
       "\n",
       "    .dataframe thead th {\n",
       "        text-align: right;\n",
       "    }\n",
       "</style>\n",
       "<table border=\"1\" class=\"dataframe\">\n",
       "  <thead>\n",
       "    <tr style=\"text-align: right;\">\n",
       "      <th></th>\n",
       "      <th>IC50_nM</th>\n",
       "      <th>Mol</th>\n",
       "    </tr>\n",
       "    <tr>\n",
       "      <th>ID</th>\n",
       "      <th></th>\n",
       "      <th></th>\n",
       "    </tr>\n",
       "  </thead>\n",
       "  <tbody>\n",
       "    <tr>\n",
       "      <th>CHEMBL1097107</th>\n",
       "      <td>556.200</td>\n",
       "      <td style=\"text-align: center;\"><div style=\"width: 200px; height: 200px\" data-content=\"rdkit/molecule\"><img src=\"data:image/png;base64,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\" alt=\"Mol\"/></div></td>\n",
       "    </tr>\n",
       "    <tr>\n",
       "      <th>CHEMBL1230189</th>\n",
       "      <td>39000.000</td>\n",
       "      <td style=\"text-align: center;\"><div style=\"width: 200px; height: 200px\" data-content=\"rdkit/molecule\"><img src=\"data:image/png;base64,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\" alt=\"Mol\"/></div></td>\n",
       "    </tr>\n",
       "    <tr>\n",
       "      <th>CHEMBL1232461</th>\n",
       "      <td>98.400</td>\n",
       "      <td style=\"text-align: center;\"><div style=\"width: 200px; height: 200px\" data-content=\"rdkit/molecule\"><img src=\"data:image/png;base64,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\" alt=\"Mol\"/></div></td>\n",
       "    </tr>\n",
       "    <tr>\n",
       "      <th>CHEMBL1233528</th>\n",
       "      <td>119.800</td>\n",
       "      <td style=\"text-align: center;\"><div style=\"width: 200px; height: 200px\" data-content=\"rdkit/molecule\"><img src=\"data:image/png;base64,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\" alt=\"Mol\"/></div></td>\n",
       "    </tr>\n",
       "    <tr>\n",
       "      <th>CHEMBL12543</th>\n",
       "      <td>6000000.000</td>\n",
       "      <td style=\"text-align: center;\"><div style=\"width: 200px; height: 200px\" data-content=\"rdkit/molecule\"><img src=\"data:image/png;base64,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\" alt=\"Mol\"/></div></td>\n",
       "    </tr>\n",
       "  </tbody>\n",
       "</table>\n",
       "</div>"
      ],
      "text/plain": [
       "                  IC50_nM                                               Mol\n",
       "ID                                                                         \n",
       "CHEMBL1097107     556.200  <rdkit.Chem.rdchem.Mol object at 0x72970ca94dd0>\n",
       "CHEMBL1230189   39000.000  <rdkit.Chem.rdchem.Mol object at 0x72970ca94d60>\n",
       "CHEMBL1232461      98.400  <rdkit.Chem.rdchem.Mol object at 0x72970ca94cf0>\n",
       "CHEMBL1233528     119.800  <rdkit.Chem.rdchem.Mol object at 0x72970ca94c80>\n",
       "CHEMBL12543   6000000.000  <rdkit.Chem.rdchem.Mol object at 0x72970ca94c10>"
      ]
     },
     "execution_count": 39,
     "metadata": {},
     "output_type": "execute_result"
    }
   ],
   "source": [
    "### Remove duplicated rows - keeping the more active records\n",
    "df = df.drop_duplicates(subset=\"smiles\", keep=\"first\")\n",
    "df.drop(columns=[\"can_smiles\", \"smiles\"], inplace=True)\n",
    "render_mol(df.head())"
   ]
  },
  {
   "cell_type": "markdown",
   "id": "8a8d25fb-43c1-42b2-a610-b1287a2028a3",
   "metadata": {},
   "source": [
    "## Molecular weight\n",
    "- A range from 250 to 600 g/mol was defined for this project. \n",
    "- ChEMBL data with less than 250 g/mol are all can be considered chemical probes rather than inhibitors.\n",
    "- ChEMBL data with more than 600 g/mol are all heterobifunctional degraders (PROTACs). "
   ]
  },
  {
   "cell_type": "code",
   "execution_count": 40,
   "id": "98184f53-e322-4b90-b3cf-62db9472edd0",
   "metadata": {
    "scrolled": true,
    "tags": []
   },
   "outputs": [
    {
     "name": "stdout",
     "output_type": "stream",
     "text": [
      "25 cmpds are too light (chemical probes).\n",
      "110 cmpds are too heavy (PROTAC degrader).\n",
      "2920 cmpds in data set remaining.\n"
     ]
    }
   ],
   "source": [
    "### Calculating molecular weights\n",
    "df[\"MW\"] = df[\"Mol\"].apply(Descriptors.MolWt)\n",
    "\n",
    "### Defining cut-offs from visual inspection\n",
    "lower_cut_off = 200  # cmpds below this threshold can be considered chemical probes, but are not feasible as inhibitors\n",
    "upper_cut_off = 650  # cmpds above this threshold are exclusively heterobifunctional degraders (PROTACs), and would bias the result\n",
    "\n",
    "# Saving light and heavy cmpds\n",
    "df_too_light = df[df[\"MW\"] < lower_cut_off]\n",
    "df_too_heavy = df[df[\"MW\"] > upper_cut_off]\n",
    "\n",
    "# subsetting df\n",
    "df = df[(df[\"MW\"] >= lower_cut_off) & (df[\"MW\"] <= upper_cut_off)]\n",
    "\n",
    "print(f\"{len(df_too_light)} cmpds are too light (chemical probes).\")\n",
    "\n",
    "print(f\"{len(df_too_heavy)} cmpds are too heavy (PROTAC degrader).\")\n",
    "\n",
    "print(f\"{len(df)} cmpds in data set remaining.\")"
   ]
  },
  {
   "cell_type": "code",
   "execution_count": 41,
   "id": "67d59085-f3ed-4cd7-9ab0-56f9e523f68d",
   "metadata": {
    "scrolled": true,
    "tags": []
   },
   "outputs": [
    {
     "data": {
      "application/vnd.microsoft.datawrangler.viewer.v0+json": {
       "columns": [
        {
         "name": "ID",
         "rawType": "object",
         "type": "string"
        },
        {
         "name": "IC50_nM",
         "rawType": "float64",
         "type": "float"
        },
        {
         "name": "Mol",
         "rawType": "object",
         "type": "unknown"
        },
        {
         "name": "MW",
         "rawType": "float64",
         "type": "float"
        }
       ],
       "conversionMethod": "pd.DataFrame",
       "ref": "6a144c66-3614-409d-a31d-25826f2791b9",
       "rows": [
        [
         "CHEMBL1230189",
         "39000.0",
         "<rdkit.Chem.rdchem.Mol object at 0x72970ca94d60>",
         "162.19199999999995"
        ],
        [
         "CHEMBL12543",
         "6000000.0",
         "<rdkit.Chem.rdchem.Mol object at 0x72970ca94c10>",
         "99.133"
        ],
        [
         "CHEMBL1454910",
         "980.0",
         "<rdkit.Chem.rdchem.Mol object at 0x72970ca94740>",
         "190.158"
        ]
       ],
       "shape": {
        "columns": 3,
        "rows": 3
       }
      },
      "text/html": [
       "<div>\n",
       "<style scoped>\n",
       "    .dataframe tbody tr th:only-of-type {\n",
       "        vertical-align: middle;\n",
       "    }\n",
       "\n",
       "    .dataframe tbody tr th {\n",
       "        vertical-align: top;\n",
       "    }\n",
       "\n",
       "    .dataframe thead th {\n",
       "        text-align: right;\n",
       "    }\n",
       "</style>\n",
       "<table border=\"1\" class=\"dataframe\">\n",
       "  <thead>\n",
       "    <tr style=\"text-align: right;\">\n",
       "      <th></th>\n",
       "      <th>IC50_nM</th>\n",
       "      <th>Mol</th>\n",
       "      <th>MW</th>\n",
       "    </tr>\n",
       "    <tr>\n",
       "      <th>ID</th>\n",
       "      <th></th>\n",
       "      <th></th>\n",
       "      <th></th>\n",
       "    </tr>\n",
       "  </thead>\n",
       "  <tbody>\n",
       "    <tr>\n",
       "      <th>CHEMBL1230189</th>\n",
       "      <td>39000.000</td>\n",
       "      <td style=\"text-align: center;\"><div style=\"width: 200px; height: 200px\" data-content=\"rdkit/molecule\"><img src=\"data:image/png;base64,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\" alt=\"Mol\"/></div></td>\n",
       "      <td>162.192</td>\n",
       "    </tr>\n",
       "    <tr>\n",
       "      <th>CHEMBL12543</th>\n",
       "      <td>6000000.000</td>\n",
       "      <td style=\"text-align: center;\"><div style=\"width: 200px; height: 200px\" data-content=\"rdkit/molecule\"><img src=\"data:image/png;base64,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\" alt=\"Mol\"/></div></td>\n",
       "      <td>99.133</td>\n",
       "    </tr>\n",
       "    <tr>\n",
       "      <th>CHEMBL1454910</th>\n",
       "      <td>980.000</td>\n",
       "      <td style=\"text-align: center;\"><div style=\"width: 200px; height: 200px\" data-content=\"rdkit/molecule\"><img src=\"data:image/png;base64,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\" alt=\"Mol\"/></div></td>\n",
       "      <td>190.158</td>\n",
       "    </tr>\n",
       "  </tbody>\n",
       "</table>\n",
       "</div>"
      ],
      "text/plain": [
       "                  IC50_nM                                               Mol  \\\n",
       "ID                                                                            \n",
       "CHEMBL1230189   39000.000  <rdkit.Chem.rdchem.Mol object at 0x72970ca94d60>   \n",
       "CHEMBL12543   6000000.000  <rdkit.Chem.rdchem.Mol object at 0x72970ca94c10>   \n",
       "CHEMBL1454910     980.000  <rdkit.Chem.rdchem.Mol object at 0x72970ca94740>   \n",
       "\n",
       "                   MW  \n",
       "ID                     \n",
       "CHEMBL1230189 162.192  \n",
       "CHEMBL12543    99.133  \n",
       "CHEMBL1454910 190.158  "
      ]
     },
     "execution_count": 41,
     "metadata": {},
     "output_type": "execute_result"
    }
   ],
   "source": [
    "### Chemical probes dropped because of MW filter for visual inspection\n",
    "render_mol(df_too_light.head(3))"
   ]
  },
  {
   "cell_type": "code",
   "execution_count": 42,
   "id": "818754b8-506d-4b97-8610-a539abea6b28",
   "metadata": {
    "scrolled": true,
    "tags": []
   },
   "outputs": [
    {
     "data": {
      "application/vnd.microsoft.datawrangler.viewer.v0+json": {
       "columns": [
        {
         "name": "ID",
         "rawType": "object",
         "type": "string"
        },
        {
         "name": "IC50_nM",
         "rawType": "float64",
         "type": "float"
        },
        {
         "name": "Mol",
         "rawType": "object",
         "type": "unknown"
        },
        {
         "name": "MW",
         "rawType": "float64",
         "type": "float"
        }
       ],
       "conversionMethod": "pd.DataFrame",
       "ref": "2b576d7d-1ac1-4048-81b4-dc13db0b62ea",
       "rows": [
        [
         "CHEMBL2326966",
         "5300.0",
         "<rdkit.Chem.rdchem.Mol object at 0x72970ca81930>",
         "852.855"
        ],
        [
         "CHEMBL4077359",
         "3.1",
         "<rdkit.Chem.rdchem.Mol object at 0x72970cc30120>",
         "1136.2389999999996"
        ],
        [
         "CHEMBL4303781",
         "80.53",
         "<rdkit.Chem.rdchem.Mol object at 0x72970ca8d620>",
         "841.391"
        ]
       ],
       "shape": {
        "columns": 3,
        "rows": 3
       }
      },
      "text/html": [
       "<div>\n",
       "<style scoped>\n",
       "    .dataframe tbody tr th:only-of-type {\n",
       "        vertical-align: middle;\n",
       "    }\n",
       "\n",
       "    .dataframe tbody tr th {\n",
       "        vertical-align: top;\n",
       "    }\n",
       "\n",
       "    .dataframe thead th {\n",
       "        text-align: right;\n",
       "    }\n",
       "</style>\n",
       "<table border=\"1\" class=\"dataframe\">\n",
       "  <thead>\n",
       "    <tr style=\"text-align: right;\">\n",
       "      <th></th>\n",
       "      <th>IC50_nM</th>\n",
       "      <th>Mol</th>\n",
       "      <th>MW</th>\n",
       "    </tr>\n",
       "    <tr>\n",
       "      <th>ID</th>\n",
       "      <th></th>\n",
       "      <th></th>\n",
       "      <th></th>\n",
       "    </tr>\n",
       "  </thead>\n",
       "  <tbody>\n",
       "    <tr>\n",
       "      <th>CHEMBL2326966</th>\n",
       "      <td>5300.000</td>\n",
       "      <td style=\"text-align: center;\"><div style=\"width: 200px; height: 200px\" data-content=\"rdkit/molecule\"><img src=\"data:image/png;base64,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\" alt=\"Mol\"/></div></td>\n",
       "      <td>852.855</td>\n",
       "    </tr>\n",
       "    <tr>\n",
       "      <th>CHEMBL4077359</th>\n",
       "      <td>3.100</td>\n",
       "      <td style=\"text-align: center;\"><div style=\"width: 200px; height: 200px\" data-content=\"rdkit/molecule\"><img src=\"data:image/png;base64,iVBORw0KGgoAAAANSUhEUgAAAMgAAADICAIAAAAiOjnJAAAABmJLR0QA/wD/AP+gvaeTAAAVaElEQVR4nO3de1xTZ5rA8eeQhFzkJuhAECEDiKBoV0HQwQvYoaj1QvvRqbafrlOp2JaqowgIRfDS1lJm0Go7VWeol126WqeiHZl6Gy0oC4zVKlaCLWJFUu6iQoAkJM/+cZwYk2AD5rWzu8/3L3renLwn5GdOcs4J5RARCLE3h597A8j/TRQWYYLCIkxQWIQJCoswQWERJigswgSFRZigsAgTFBZhgsIiTFBYhAkKizBBYREmKCzCBIVFmKCwCBMUFmGCwiJMUFiECQqLMEFhESYoLMIEhUWYoLAIExQWYYLCIkxQWIQJCoswQWERJigswgSFRZigsAgTFBZhgsIiTFBYhAkKizBBYREmKCzCBIVFmKCwCBMUFmGCwiJMUFiECQqLMEFhESYoLMIEhUWYoLAIExQWYYLCIkxQWIQJCoswQWERJigswgSFRZigsAgTFBZhgsIiTFBYhAkKizBBYREmKCzCBIVFmKCwCBMUFmGCwiJMUFiECQqLMEFhESYoLMIEhUWYoLAIExQWYYLCIkxQWIQJCoswIXwCc6h0quKO4gmDJvxD/Y+X3F96AjMSq3SoK7pbJHOQDXcc3m3oHi8bz24u5q9Yt3tvp6nSwmRhyh7lxa6LrKcjj7C6frWH0AMAvtN8V6+rZzoX87DOd52Pd4sfKRk513Uu67nIo/VgzxSnKc+4POMmcGM9F/Ow3IXuTbom1rMQW2gN2ic2F/P3WCGSkMI7hRsbNnoIPVwELqynI4+wYPCCFFWKiBNFyiKlDlKmczEPa+Wtlac6Tu3y3RXnEsd6LvJos11nizhRYl1ik64p3y+f6Vxsd4UNDQ0XVlzwv+Lv4+DDdCJiIx8HH/8r/hfWXGhoaGA6EYeI9r3HysrKioqK0tLSsrKy7777Ti6Xq9XqyspKPz8/+05EBkClUo0aNUosFre0tAQGBkZFRUVFRUVGRo4dO9bOM6FdFRYWenp6Gu980KBBzs7OABAcHNza2mrfuUh/tba2jho1CgCcnJxMG/D09CwsLLTvXHbeFR4+fLipqcnT0zM3N/frr7+uq6vz8PAAgOrq6hkzZnR0dNh3OmK7rq6uuXPnVlVVhYaGbtq0KTIyUigUAoBMJmtqajp8+LCd57NjpL29ve7u7gAglUq7u7v5hdevXze+hk2ePLmnp8eOMxIb9fT0TJkyBQACAgJ+/PFHfmFXV1dJScnevXsBwMPDQ6fT2XFGe4ZVXFzMB/T888+bLr98+bKrq6tQKPT09Dxx4oQdZyQ2OnHihJeXl1gs3rFjh+VoUFAQAJSUlNhxRnvuCo8cOcL/MG/ePNPlY8eOLS4udnR0bGlp4ffx5AkLDQ1tamrSaDQffPCB5ejcuXPB5OmzC3uGVV5e7uDg4OvrO2vWLLOh2trarq6uiIiIYcOG2XFGYiO5XD5hwgQAUCqV33//velQRUVFUVGRQCAoKyuz44wDD2vXrl2ZmZnXrl0zLgkICDAYDDqd7t69e6a31Ol0/L8Gs1cy8iTFx8fzP/z1r381Lrxy5UpcXJxSqdTr9QEBAcbl165dy8zM3LVr18DnG/BO9Fe/+hUAnDx50rhEo9HExcUBgL+/f01NzZEjR9LS0qKiosRiMX/Qoaqqyh67bzIQV69eBQCO45YtW9bb24uINTU1xs9V0dHRxs9biHjixAkAiIqKGvB0AwxLq9VKpVKO49rb202Xq9VqPjizw6EymSw8PHzAW0nsIiwszMXFBQBcXFzi4uLmz5/PcRwAhIeH37t3z/SWd+7ccXBwkEgkWq12YHMNMKwLFy4AQHBwsOVQa2vrL3/5yyFDhhir8vX1fe6555RK5cDmIvaiVCqfe+45hUJhfGpcXV39/PysHrseOXIkAFy8eHFgc/3Ee6y8vDz+JdQM/1IZERFhOeTh4REWFtba2jp58uSDBw+qVKqbN28eOnQoODj40XMR1oKDgw8dOnTjxg2VSnXw4MGoqKi7d+9GRETwB7HN8E8u/0SbuXr1al5e3k9M9ojoysvLOY4TCoWJiYnNzc38wkuXLiUmJopEIoVCERMTY7lWb28v/3JVXV09sNjJk6FUKqHvQ6PPPPOMj4+PUChcsGBBeXk5v/D27dtpaWmOjo4cx507d+4Rd/6osFpbW5OSkvgD/+7u7klJSTExMcYi+eXZ2dlma505cwYARowY0b9HSX4O/P7uq6++MluenZ1tfIp5MTExSUlJ/JkVoVCYlJT06JO/P/0eq7q6mj8uZXp22cXFZd26dfzE27ZtM95Yo9EsXrwYABITEwf2UMmTlJKSAgC//e1vNRqNceHOnTsBQCAQpKenu7q6Gp90uVwOANOnT798+fJP3rOtb95XrFgBAN7e3gqFYuvWrZ2dnYiYn5/PcZxAIJg3b97MmTMDAwP51IRCoZOTU3MzXc7wr27z5s2DBg3in7LAwMCZM2fOmzdPIBBwHJefn4+I3d3de/fuHTlypLe3NwCsXLnSxnu2NawbN77as2fcV1/F6/V60+Wvvvoqv2XG/ePgwYMBOC+v3YsX9+chkifuz3/GMWPyAGDo0KGmez0nJ6eQkJCrV68ab6nX6//+9/g9e8bduGG+0+yLrWH19NRUV0++eXO56UK9Xh8WFgYAsbGxhYWFVVVVGo2mtbV1woQWAHzqKayoQET8/e8t7i4/HzdtwowMfPgwGLGb9nZ86y3ctAnz881GcnKQP6odH48AvQrFjNTUVI1GU1VVVVhYGBsby+cVGxtrulZd3UqlMqqnp8bG+W0NS6/vuH59QWNjXk9PrXHhn/70JwDw8fHh94xGBw5gfj6uWoWvvYY6Hf7udw/fV10dZmUhItbW4oYNNm4A6Z/16/GHHxARMzPx1i3TkeRkTErC7m5cuRLT03H1aq3BYDCOdnV1DR8+nG/riy++4Beq1Rd/+GFJY+P7BoOtx0tt/TIFYi+i1tV1BgD++ON6g2GSTheUlZUFALm5uaZ7QwD4zW8AAJKTISEBPv7Y4r5UKuCP0SkUwPjK6/+/GhvB1xcAwN8fVCrweeg7B2++CVu2AAC8+y4AiEyHpFJpTk7Oiy++CADZ2dnjxjk6OJRJpSEODjJ393/nuIdu/Ai2noQWCNx8fXe2te1rbt7W0LDh7Nn3/P39GxoaJk6c+MILL/S1Vng4NDaCwfDw0lGjoLQUdDr44guYONHGDSD9ExEBR4+CTgelpWBxqVJwMOj1oFZbX3XhwoWRkZEA8M0335w9+15Dwwa9vnPo0KT6+tU6ncrG+W0NS6dr6uws5jhHR8fhXl6p9fXDxWKxRCIZP348f77J0qRJ8MknMGkSzJ798ICLC8ycCXPmwJkzsGiRjRtA+ufFF+HUKZgzB2bNAmdn05FZs6C4GIYMgalTra/KcVxYWJhUKhWLxfX1w728Uh0cZBpNDYADos7WDbB9r93drezufnAw/dSpkujozIkTbzz8MfGB48cRAB9+C/hPc+YgAAJgQ4PtG4DNzZibi1u3YkdHP9Z6BIMBCwrwnXfw0iX73CEiXrqE77yDBQVo8sblsXR04NatmJuLLS39WKuh4f5veM4cy8Ff/xoBsK+LefV6nDixOzr61KlT94+tGww6tfqiVquyff5+XI8lkQRLJCON/zl9+pSWlk0BAYqODmhrs3J7lWqfp6e3v3+q5dCHnp6xUumLvr7tFq92BoOhpKSEP8ltLiMDli6F+fMhI8NykP/CmdUtVyqVX375pcF8lwywezcMHgxr18JHH0F7u9lgbW3tsWPHOjs7Le+ws7Pz2LFjtbW15gPt7fDxx7B2Lbi4wJ49lg/tyy+/5E+kWCorKystLbUy8NZbsGABJCTA2rWWgxcuXCgpKbF8aO0cl+DrGy2RbDc5rG0UEPCup+e/1df/p+VQYyN0dMCIEZKWlqenT4/iF3KcUCYbJxJ5W91y6/rxj8DCtm342muIiJaHzcrLy319fYcMGbJo0SKzoZMnT7q7u3Mcx3Hc+vV/M331KS01TJ48VaFQiMXil19+uamp6cGYwXB/MkRctsz09aC+vv7ll192cnKSy+XbFy/GK1cerNXa+rf16yUSibe39/jx4x+6rJu/Q/5+9u5FkzNfWq1269atrq6uI0aMCPLz0+7b92A6g6Fn3z6Fn19gYKCTk1N2dvZDXw85exb37UNE1Ovx9ddNN7KiomLSpEleXl4SieTr9evR9HzIlStpixfL5XJnZ+fZs2ffuHHjoY1ctuz+z8atRUTEtra2FStWiMVihUIxeXJsaemDoY4O3LDhP/jfsJub22effWb2FKSlpQ0bNszb29vyOvcpU/D0afz+ezQ5nzIQjxXW9u2YnY1nzuDKlXj27P0dlEajSU9P5w+4BQcHL168OCQk5NNPPzUYDEqlcsaMGXzQgwcPdnEZPmSIPjQUMzIQERMSkOMwOjrLxcWFX93NzW3Lli2NjY3dKSn4yiu4ZAkaDKjTYWIizprVsHlzc3Nzdna2TCYDAIlE4ubs3B0UhJMm4aZNuGkTrl6Na9Z0SaXD5XI3NzcA4Dhu4cKFN2/eVB08iGPG4Lp1eO0aIuK6dZiXh3Fx15XKoqIi/gwaAHh4eBRNm4YCAe7ejWvXYloa7t6NAkHqtGnGKwJGjhxZVFRUq1RiXBz+4Q/3j6RUV2NWFo4Zc/3gwZs3by5cuJB/J+rm5hYhl6NUimvWYHLy/e2cNOlyUJCzs7NEIgEAmUyWnZ3d3Nx8d/NmnDULly5FnQ4NBkxIwFdeuZ2S0tjYuGXLFv4RCYVCFxeX6OjTHIcREahS4aVLGBqKQ4Y0ubi48qf2AGDGjBn8ZUstLS2HDx8+cuRISEgIv3p6ejp/PqejA8+exVWrcNky/PZb3L79Zw3r+nVcuhSXLkWpFMeNK4uJiQkMDAQAgUCQmprK/2s+c+aMp6fnL37xC4FAwP9y8/LytFrt+fO3IyMxORlfeQUvXMCVK3H6dNywoauzs7OqqsqYoEQi+a+pU1EkwsOH8a23cO1a/Owz5Lg5ERF8UnwudXV13a2t+Oab+Mkn+Mc/IiJWVeE77+CiRd1VVWq1OisrSyqVAoBIJArx8DA4OeH69ZiVhRs34p49OGrUwYkTHRwcTHMxGAy6ggLMzsaEhPuPOSEBs7M1BQUGg8E0QQcHh1sTJ+KoUbh7N27ciFlZuGHDPSenIR4eIpEIAKRSaVZWllqt7qmqwkWL8O23kb/648MPcc8efPPN7tbWuro6Y4IymWxTRARyHB44gGvXYkYGHjmCItHrU6fy/fG5VFVVdXZ2btignT4dExNxxQqsqMDkZIyMxPPnW7RabV5eHp+gSCTKzc19//33+ZPHPT09qamp/DMSGBgYExMzbtxdqRSXL8dvv8Vly36+sNracNs2rK3Fy5dx3DiMisLo6BQAGDp0qK+vb3FxsemN1Wp1fHy8QCAw28Hx757Ly/HVV3H5cvP3uydPngwKCho9evSM2NjeykrToXtlZeHh4UFBQU899ZT56/mxY3joECLinTuYlmY6wu80FQqFn5/ftwcOoOnnjpaWjSkpoaGhw4YNe++998y//2jcCxt/QERErVa7c+dOHx+f0NDQvJSUh95f6/XnDxzw8/NTKBTmOzhETE3Fu3cREQ8dwuPHTUcqKiomTJgQFBQUHh7eWVZmOtRbWflMbOzo0aP9/f3NdnAGAyYnY0EBbtxo/smB32nGx8dbfqmzrKwsICCAv8wpOvpoVBQuWYKImJaG27ZhWxsO2ADD0ul0sbG6adPuH9TlL9bKyMjg/3WaXghvqq6uznJhQQF+/TWePYtjxlhZRaPRtPXx+Hp7e9va2qxcS9TWhgkJ2NCAOTl4+rTliu3t7X19b/bu3btqtdrKwKpV+M03ePEirlplOahWq+/ylVjo6elpt3ra6tQpzM3FhgZcsgRv3zYb1Ol0bW1t/JXpltra2kwvRjBKTkaDAWfPxoICK2vp+/j0zl/KJxKJMjIyEO+/97t5E6dNw9jYOwP+FqutR95v376dnp7e29vLf02+pqZGpRIEBxdKJF4AwqFDAQCcnJYNGvSaVsuJRNb/tozxXIGp4GCQy0Euh6wsK6s4Ojoa3yiYEQgE1ofc3SEzE44ehehosHaNK79rsIq/JNyKnBz4/HPgOMjJsRzk98hWicVisVhsZeDpp8HJCY4ehawsGDzYbFAoFPb1qAGgr6Hp04HjIC8PrP4lA+Ne3oyjY6xUekksVjo5jQIA/q2jTNaLWHTp0usREV78extnZ2ehULh58+ZHbNhDbAzw1q1bZitKpVJnZ9ecnP823mb/fpw2DRct6vMAiVU7dtz/GJeU1I+1iCX+F3jlClr7tnOfPv8cFy3Cp5/G/fsfLMzJqXZ29uLfkpqqr6+38W5tfcVyd3ffuXOnUCjkv8h17dq1v/zlSmVlWnX1g7+8K5EAx8GePZCaCv88R26T/ftBLoeamn6sQizV1MBHH0FDA1jbMfQpOxu2bQMAMP0yaHX1yM7O62PHbp8/X8d/QOno6Ojt7R1s8eLaF1vDkslkiYmJpkvc3aGpCUaPBgDYvx88PKCxERYsuL+V/fLssxASApWV/V6RmPLzg5deAqWyf7/J2FjYvx+efx4aG+HkSTh3DrKyICUFhg+XeXqmvfHGADdm4N+EfuMNiIiAHTtApYKSEpgzB44fh9BQuHcP6vv5l56dncHNDUS2njgn1olE4OZmdmLwp3EcLF8OH34Ix4/D7NlQXAy7dkF9PUREwICrgsf8i35FRaDTwenTIBCAwQC9vfDSSzBmDMycCefO2XonBgNwHHAc6PUgEAx4W8j9XyAiIEIf79StyMyEt9+G9HS4dw+EQhCJQCCA0FBwd4dnnx34xjxuWFIpNDbCBx9ARcXAN4L861izBjIy4NlnITPzscJ6rL+aLJeDoyPExEAf51XJ/z5jx4K7O6SkgFz+WPdj/z9uSwjQ//2LMEJhESYoLMIEhUWYoLAIExQWYYLCIkxQWIQJCoswQWERJigswgSFRZigsAgTFBZhgsIiTFBYhAkKizBBYREmKCzCBIVFmKCwCBMUFmGCwiJMUFiECQqLMEFhESYoLMIEhUWYoLAIExQWYYLCIkxQWIQJCoswQWERJigswgSFRZigsAgTFBZhgsIiTFBYhAkKizBBYREmKCzCBIVFmKCwCBMUFmGCwiJMUFiECQqLMEFhESYoLMIEhUWYoLAIExQWYYLCIkxQWIQJCoswQWERJigswgSFRZigsAgTFBZhgsIiTFBYhAkKizBBYREmKCzCBIVFmKCwCBMUFmGCwiJMUFiECQqLMEFhESYoLMIEhUWYoLAIE/8D9hM2DCBjVhUAAAO+elRYdHJka2l0UEtMIHJka2l0IDIwMjQuMDkuNAAAeJzNU01MVFcUPu/O+5sCMwMoP+LPAwUH+YcpzDCM712YAZyBkBg2urAvKUlfiQuTJkbahtSkTTd2YdOGdGiMPzC6UEvTkLowwG1duNAYXWnS0uiymugWQ2LvuzP3zS3ElRtf8nK+993vnnvOud97uXJjHegToi+C/DNO30n6fiWpYNMo+VQI0+iTi5HzbvRJHm/x6LiRLhRBfqUcDHfndoGWT+FTjYgrkApnIMRz6/mINGA7kFQU5KPOUqP3lxYq/39LnpD1jiTZG8a7z7W4NR9DVuFMa8tVbvnWrEIJb+G3rRfiW9e35i1YJ5SfVQlIICEdIR8gGWQFFNVQNQdpuq37HeT/APwldkmpg5SyMCoLQCAoS8EQhMrDKFRhVFRC5Q7YsRN2VkFVNVTXQE0t1O6CXXVQtxt274E9e2HvPthngFEP9Q3QsB/2H4ADjdDYBE0H4WAYws3QfAgOtRgtrWHU0gbtbTJq74COzjDq7DK6uh3U3WP3RBwU+RAivXZvn4M6o0Y05qBYv90ft+MDEE84KHEYYqZhWraFwRp00OCQPZR0UCAFqWEHDY/YI6MOGj0Co2k7nYHMGIxJkJGhVLWT7ZBO2X1ddiJqJ017UKdTUSQkZ8ZUTfeXlKpamSJn0qmA1tGeNGPRTrW7J9Lb16X0x6KJuGKZyaFBZTiVHh2pzvnooIH/zP/q98n1zaDlfny58Ac5trFqurjy5u/ksq4x/kTHMpl7OcXw2dwv5OSdWaZ5ePcKefVmnuFJ8yIxbjczzbFzP5D7NSbDf6Hz5Ivp7xg+3voTiWaXGP778o9k7Mw6w5P/LJBnzxcZfuhcIz/XnWL46WaWLFmZwy7+7Nk8+TyQW3WxMnueJDTfmovnar/1eBf3nJtg+qPTM57m9KUpT5N9POHxK8G4xz8dbvJ4Zbbc449Ob6xxPvv4wVpRn/N4epbAN3k81axyHuDFVYE3Bb0l5LGE/JZwriXUYwl1YiEPFvrCQr9YmAMu5pnBwgyxMEPMZ0jn7Gno/ItnbWYxvxfqASx4AHMP0HvE/B7p/WJ+v9QDWPAA5h6gPsHcJ9Q/mPuH+g1zv53NLeOb38+vuPijjwn+Ztw34GLqW8x9S/2MuZ+ph7HgYcw93Jb8Fb++8IT1MtN6C/85EWc91rfewZ+sDjD8aGMJvwh+zfBvFxbxQs2nDF+7t4in6vwcE46phnAN3Uv4XpqfCPkJz09rILwG2hcR+iK8r6r/AGCHd9oKfQQZAAAFDnpUWHRNT0wgcmRraXQgMjAyNC4wOS40AAB4nI2YS44cNwyG93MKXSCC+NJjkYXtcYwgcA8QO7lDgCxzf+SnqoZVBsrV6p7+MSOwWZ9IUaLmJfnrz9c//vkvxYtfX15SKjc/Y4z0t5RSXr4m/yV9/Pzl90f69P3Dx/eRT29/Pb5/S62lrvgO3j/afvj+9vV9hNKn9AtbrjzEJHFmHW20VHKZr+O7PC01ixQhS5R1/MRSpiXnYYCt8EmgLnxhqbtl1U48kmRrjVguLG1aEnxW8fE8hlG3C8s6LUvWJsUUnEy9ab+wbLtlkTKYwFmNqVzNqLsl9Wy1m4cij269jwvLsVsSV0FwNCsNvnw6lWk6MmmtVpNlTKhzvTJFlv6dbltRQ3wq4sDX0yfeZ1XLKHiwZdgV1StT2YNajKgTwt+M6rVXTY8JK020OSONrpcRINvnpd2sMX7NPJrQVVypvoerVxMBTC76M9uZLqq5I53D7v329Ha2LZkL1361sGjMmSH6vau1WwTeUqaZ+0BebxF4VhZhqYwiCO6tX564lOsgUbn3O5NGJctgLPB7v7O+Ri5DuLZ7t+YILbehjEq89TqTVlH/RoPuvc6cYQmOSsb3XmfKJPfRCKvt1ussMs42esFavPMqW8bgy7Nw61XIAWL81qvX2JpTz9YaqeLxS9MXL7ClmIpnailR0vD0peyL74VLS0o8TWsLVQsev7b+1etqrax0pmmpWvHQR1rbBNSLam0bUi+qpV1IPVNr+6B6Ta1tr9j+H2lp01bP1dKhaWWzfH5ommdq6XQx3nw+P7JMtsk/PzMxC5yZS0em2R78p2e27Wl63gdY2yb/vF8xLyj0QK1MS+xAaLDg/sp0pG/Y1DM1Md76qV7oKk51ZmmlWaszSysNYOUN9HlbV2WzfN7WVe8rYEnWUaW+mFspVC+n5FliyYWp0dxOBnYgvfRat9kj4aazmocO6peobQdg1AaqSX0VjGuvXk1Ypa0gRORnVVX2+V2Y7uXUYCnzLCHfWK+i2srer63YkvcqawjYGh6zt16YWdsawaXYNt3vAQvBbfbO8Dy9re53gYU6wM3m22R4XgifH68/3He2G9DHt8frcQPyNx/XHH/LcZfBzpX0uLD4n3bcSgifelw9CJ923C8Un35cIhSfcdwUFB863wdoCp3afp0jAYfmXl0o+NDDsz83CMkRXQLS638KIvzbl18P947rEsA4RNiFghmNNM2RwMZBSi587orJhcMzz4ji54gq+wgiG+DskYVwkLOTQzjI2ckhHBFmZ4ZwMKPFJBcOZnZmCAczO7NvROe+kNJs+k7tH7lIMIszQ+RYDHM1CHq1U9dGLhLM4swQCWZxZogEszgzRIJZnBkiwSzODNFzk0QuGszqzBANZnVmiAazOjNEjzWMELtoMKsz+0gwqzOjunVbM4e3to8HOc5JdtEgVyeH2LlnUBcLcvOlDbEgN1/aEItnmZNDLMhxpuscOQrQfMRwMJ+O6O3pEW3zOoRYMJuXIsSC2bwaIfV8gpJLDebqzD4SzNWjDanBXCdzx7l2OuHUpQZz9WhD6rFvVLfBSDBXZ4bUYK7ODKnBXMdW1+18lqhLC+bmzJAWzM3jDGnB3JwZ0oK5ObOPBHNzZkgL5uZxhrRju/O1ATke1TeTw4tHGTtWfKXPIGP0GJnA50n1uTDqaTmhg1YP+5HiPoM8TmH3ff+8y/vf7/8jw+8v/wP9UZrnbqaIfAAAAhx6VFh0U01JTEVTIHJka2l0IDIwMjQuMDkuNAAAeJxtVD2LHDEM/SspZ8AW+vKHLhwcOEWqTRFShVTThmtSXHM/PprxcsycFhZ2/PT8/CRLHoOexzLWwWPZZNu2Zfxdt03W59vv8fLy/c8yxvL8Y72N8ePR73ZEx+TKzbU2/VDR1RfLP1/5x1jzq+6fr6+beET8f1/J4J/05X3JXKCyaWJgtZ6+ZlYQQUkEahNgsOpxQrO5rNopCZTWiHeEwEqVhGBWqJcdQtAm5CJMvd0RFDTXqYWJHKEOpTrb5XvpNhHiqklByXjfRQaktaUCLtxlchpqSdXPdO2pXF24gB+NOv1gcWcCrVC1KSNNijsk69rvkPZSU3aL1oTvx/daUmZAvUMV+u7/zLpDCIxcpye31/t1owJ3L+t5oydqbvDMIqhGcmEhiLGcWQZowu3MatBMr6zq91XIziwviVW6+BLo1rz8JxZDsY794suDh9UPFp7CMRol4jnRTHQc04q5xwLFKsZSx/uIlxYvO9517JHYSLHbwjiEaQg9+7mrwySEQQjTEwYsDqoPc0NHshcVpRfX9fmn6R6xIynagV3ehM+PxvWJCC+EA1T6cUENkaojAsjU9jIa16bHEZ7GUVhToylKzCnrnpbpUZKGnpg3cVUmmYg72DfR3jfHY/AAue7KQTlHPzkayjGP/KCA+UEF1/T27Um94Wt6+/XkzUjl/T9bGjrj2lpSQAAAAABJRU5ErkJggg==\" alt=\"Mol\"/></div></td>\n",
       "      <td>1136.239</td>\n",
       "    </tr>\n",
       "    <tr>\n",
       "      <th>CHEMBL4303781</th>\n",
       "      <td>80.530</td>\n",
       "      <td style=\"text-align: center;\"><div style=\"width: 200px; height: 200px\" data-content=\"rdkit/molecule\"><img src=\"data:image/png;base64,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\" alt=\"Mol\"/></div></td>\n",
       "      <td>841.391</td>\n",
       "    </tr>\n",
       "  </tbody>\n",
       "</table>\n",
       "</div>"
      ],
      "text/plain": [
       "               IC50_nM                                               Mol  \\\n",
       "ID                                                                         \n",
       "CHEMBL2326966 5300.000  <rdkit.Chem.rdchem.Mol object at 0x72970ca81930>   \n",
       "CHEMBL4077359    3.100  <rdkit.Chem.rdchem.Mol object at 0x72970cc30120>   \n",
       "CHEMBL4303781   80.530  <rdkit.Chem.rdchem.Mol object at 0x72970ca8d620>   \n",
       "\n",
       "                    MW  \n",
       "ID                      \n",
       "CHEMBL2326966  852.855  \n",
       "CHEMBL4077359 1136.239  \n",
       "CHEMBL4303781  841.391  "
      ]
     },
     "execution_count": 42,
     "metadata": {},
     "output_type": "execute_result"
    }
   ],
   "source": [
    "### Bifunctional degraders dropped because of MW filter\n",
    "render_mol(df_too_heavy.head(3))"
   ]
  },
  {
   "cell_type": "code",
   "execution_count": 43,
   "id": "cbfca467-50d8-4b0a-aa50-1176d499e7b7",
   "metadata": {
    "scrolled": true,
    "tags": []
   },
   "outputs": [],
   "source": [
    "### Dropping MW column\n",
    "del df[\"MW\"]"
   ]
  },
  {
   "cell_type": "markdown",
   "id": "fb45ee5a-4f5e-4063-9afc-2e0f9dca8c37",
   "metadata": {},
   "source": [
    "# Activity labeling\n",
    "A classification model does not predict the expected IC50 conentration, but classifies molecules in active (1) and inactive (0). Therefore, the training data has to be split accordingly. "
   ]
  },
  {
   "cell_type": "markdown",
   "id": "5bfd39ed-ff65-49c3-9d90-85f022c0ae39",
   "metadata": {},
   "source": [
    "## Add pIC50 values\n",
    "Logarythmic IC50 are easier to visualize. "
   ]
  },
  {
   "cell_type": "code",
   "execution_count": 44,
   "id": "b1782b6a-55c5-45b8-bd69-e55294c1bbf1",
   "metadata": {
    "tags": []
   },
   "outputs": [],
   "source": [
    "### Apply log conversion\n",
    "df[\"pIC50\"] = df[\"IC50_nM\"].apply(pd_mol.convert_ic50nM_to_pic50)\n",
    "del df[\"IC50_nM\"]"
   ]
  },
  {
   "cell_type": "code",
   "execution_count": 45,
   "id": "41fc5eea-0a50-485e-8f3e-3659bb232724",
   "metadata": {
    "tags": []
   },
   "outputs": [
    {
     "data": {
      "text/plain": [
       "count   2920.000\n",
       "mean       6.401\n",
       "std        1.140\n",
       "min        2.155\n",
       "25%        5.526\n",
       "50%        6.439\n",
       "75%        7.184\n",
       "max        9.620\n",
       "Name: pIC50, dtype: float64"
      ]
     },
     "execution_count": 45,
     "metadata": {},
     "output_type": "execute_result"
    }
   ],
   "source": [
    "df[\"pIC50\"].describe()"
   ]
  },
  {
   "cell_type": "markdown",
   "id": "ce25efa9-ce17-4cee-969a-d00101559c4c",
   "metadata": {
    "tags": []
   },
   "source": [
    "## Choosing cutoffs"
   ]
  },
  {
   "cell_type": "code",
   "execution_count": 46,
   "id": "0ba11cbd-3b47-4a66-b5db-3268b0a7efaf",
   "metadata": {
    "tags": []
   },
   "outputs": [
    {
     "name": "stdout",
     "output_type": "stream",
     "text": [
      "Upper cut-off: 6.75 (0.18 µM)\n",
      "Lower cut-off: 6.15 (0.71 µM)\n",
      "----------\n",
      "4.0-fold cut-off gap\n",
      "----------\n",
      "1188 (41%) active cmpds\n",
      "1209 (41%) inactive cmpds\n",
      "523 (18%) cmpds not assigned\n"
     ]
    },
    {
     "data": {
      "image/png": "[encoded data removed]",
      "text/plain": [
       "<Figure size 500x500 with 1 Axes>"
      ]
     },
     "metadata": {},
     "output_type": "display_data"
    }
   ],
   "source": [
    "upper_log_cut_off = 6.75\n",
    "lower_log_cut_off = 6.15\n",
    "\n",
    "actives = df[\"pIC50\"] >= upper_log_cut_off\n",
    "inactives = df[\"pIC50\"] <= lower_log_cut_off\n",
    "dropped = np.logical_and(~actives, ~inactives)\n",
    "\n",
    "print(\n",
    "    \"Upper cut-off: {:.2f} ({:.2f} µM)\".format(\n",
    "        upper_log_cut_off, 10 ** (6 - upper_log_cut_off)\n",
    "    )\n",
    ")\n",
    "print(\n",
    "    \"Lower cut-off: {:.2f} ({:.2f} µM)\".format(\n",
    "        lower_log_cut_off, 10 ** (6 - lower_log_cut_off)\n",
    "    )\n",
    ")\n",
    "print(\"----------\")\n",
    "print(\"{:.1f}-fold cut-off gap\".format(10 ** (upper_log_cut_off - lower_log_cut_off)))\n",
    "print(\"----------\")\n",
    "print(\"{} ({:.0f}%) active cmpds\".format(actives.sum(), 100 * actives.mean()))\n",
    "print(\"{} ({:.0f}%) inactive cmpds\".format(inactives.sum(), 100 * inactives.mean()))\n",
    "print(\"{} ({:.0f}%) cmpds not assigned\".format(dropped.sum(), 100 * dropped.mean()))\n",
    "\n",
    "### Distribution of activity by IC50\n",
    "sns.displot(x=\"pIC50\", data=df, kind=\"kde\")\n",
    "plt.axvline(x=upper_log_cut_off, linestyle=\"dotted\")\n",
    "plt.axvline(x=lower_log_cut_off, linestyle=\"dotted\")\n",
    "plt.show()"
   ]
  },
  {
   "cell_type": "markdown",
   "id": "45338ecd",
   "metadata": {},
   "source": [
    "**Comments**\n",
    "\n",
    "Choosing a cut-off is not an obvious task. \n",
    "\n",
    "- On one hand \"only\" a 4-fold IC50-gap between actives and inactives is quite narrow and will cause some raised eye-brows among MedChemists. \n",
    "- On the other dropping 18% of precious training data hurts (especially in ML engeneers hearts). \n",
    "- So with no-one happy, we found a good compromise. \n",
    "- Splitting actives and inactives into two groups of equal size, will make things with QSAR model construction. \n",
    "\n",
    "`Note:` for a new data set or with little understanding of the distribution IC50 (pIC50) values of 5.3 (5 µM) and 4.7 (20 µM) are good starting points to use as cut-offs. "
   ]
  },
  {
   "cell_type": "markdown",
   "id": "3723b96d-fda6-441d-9f76-e18bb5e9f51e",
   "metadata": {
    "tags": []
   },
   "source": [
    "## Adding a boolean activity classifier"
   ]
  },
  {
   "cell_type": "code",
   "execution_count": 47,
   "id": "43dd3bd6-88d3-4628-89b8-43c91a276478",
   "metadata": {
    "tags": []
   },
   "outputs": [
    {
     "name": "stdout",
     "output_type": "stream",
     "text": [
      "1188 active cmpds\n",
      "1209 inactive cmpds\n",
      "523 compds not assigned\n"
     ]
    },
    {
     "data": {
      "application/vnd.microsoft.datawrangler.viewer.v0+json": {
       "columns": [
        {
         "name": "ID",
         "rawType": "object",
         "type": "string"
        },
        {
         "name": "Mol",
         "rawType": "object",
         "type": "unknown"
        },
        {
         "name": "pIC50",
         "rawType": "float64",
         "type": "float"
        },
        {
         "name": "active",
         "rawType": "float64",
         "type": "float"
        }
       ],
       "conversionMethod": "pd.DataFrame",
       "ref": "ed009c6f-e756-4f37-a574-2597c7ca7f3c",
       "rows": [
        [
         "CHEMBL1097107",
         "<rdkit.Chem.rdchem.Mol object at 0x72970ca94dd0>",
         "6.25476901547186",
         null
        ],
        [
         "CHEMBL1232461",
         "<rdkit.Chem.rdchem.Mol object at 0x72970ca94cf0>",
         "7.007004901568658",
         "1.0"
        ],
        [
         "CHEMBL1233528",
         "<rdkit.Chem.rdchem.Mol object at 0x72970ca94c80>",
         "6.921543181946707",
         "1.0"
        ],
        [
         "CHEMBL1287853",
         "<rdkit.Chem.rdchem.Mol object at 0x72970ca94e40>",
         "6.537602002101044",
         null
        ],
        [
         "CHEMBL1313432",
         "<rdkit.Chem.rdchem.Mol object at 0x72970ca94eb0>",
         "5.180456064458131",
         "0.0"
        ],
        [
         "CHEMBL1344420",
         "<rdkit.Chem.rdchem.Mol object at 0x72970ca94ba0>",
         "4.808828544271441",
         "0.0"
        ],
        [
         "CHEMBL1361699",
         "<rdkit.Chem.rdchem.Mol object at 0x72970ca94b30>",
         "6.995678626217357",
         "1.0"
        ],
        [
         "CHEMBL1362741",
         "<rdkit.Chem.rdchem.Mol object at 0x72970ca94ac0>",
         "5.070581074285707",
         "0.0"
        ],
        [
         "CHEMBL1363184",
         "<rdkit.Chem.rdchem.Mol object at 0x72970ca94a50>",
         "5.043351420794797",
         "0.0"
        ],
        [
         "CHEMBL1381011",
         "<rdkit.Chem.rdchem.Mol object at 0x72970ca949e0>",
         "4.959397659885927",
         "0.0"
        ],
        [
         "CHEMBL13880",
         "<rdkit.Chem.rdchem.Mol object at 0x72970ca94970>",
         "5.537602002101044",
         "0.0"
        ],
        [
         "CHEMBL14212",
         "<rdkit.Chem.rdchem.Mol object at 0x72970ca94900>",
         "5.6020599913279625",
         "0.0"
        ],
        [
         "CHEMBL1443641",
         "<rdkit.Chem.rdchem.Mol object at 0x72970ca94890>",
         "4.1487416512809245",
         "0.0"
        ],
        [
         "CHEMBL1444120",
         "<rdkit.Chem.rdchem.Mol object at 0x72970ca94820>",
         "5.6020599913279625",
         "0.0"
        ],
        [
         "CHEMBL1452711",
         "<rdkit.Chem.rdchem.Mol object at 0x72970ca947b0>",
         "5.6777807052660805",
         "0.0"
        ],
        [
         "CHEMBL14682",
         "<rdkit.Chem.rdchem.Mol object at 0x72970ca946d0>",
         "4.619788758288394",
         "0.0"
        ],
        [
         "CHEMBL1480862",
         "<rdkit.Chem.rdchem.Mol object at 0x72970ca94660>",
         "5.270835210307229",
         "0.0"
        ],
        [
         "CHEMBL1481742",
         "<rdkit.Chem.rdchem.Mol object at 0x72970ca945f0>",
         "5.318758762624412",
         "0.0"
        ],
        [
         "CHEMBL1485571",
         "<rdkit.Chem.rdchem.Mol object at 0x72970ca94580>",
         "6.0",
         "0.0"
        ],
        [
         "CHEMBL1497792",
         "<rdkit.Chem.rdchem.Mol object at 0x72970ca94510>",
         "4.7447274948966935",
         "0.0"
        ],
        [
         "CHEMBL1507539",
         "<rdkit.Chem.rdchem.Mol object at 0x72970ca944a0>",
         "4.876148359032914",
         "0.0"
        ],
        [
         "CHEMBL1535485",
         "<rdkit.Chem.rdchem.Mol object at 0x72970ca94430>",
         "4.801342913045577",
         "0.0"
        ],
        [
         "CHEMBL1620811",
         "<rdkit.Chem.rdchem.Mol object at 0x72970ca943c0>",
         "5.1249387366083",
         "0.0"
        ],
        [
         "CHEMBL1673039",
         "<rdkit.Chem.rdchem.Mol object at 0x72970ca94350>",
         "6.051587034221399",
         "0.0"
        ],
        [
         "CHEMBL1673048",
         "<rdkit.Chem.rdchem.Mol object at 0x72970ca942e0>",
         "5.379863945026242",
         "0.0"
        ],
        [
         "CHEMBL1698814",
         "<rdkit.Chem.rdchem.Mol object at 0x72970ca94270>",
         "4.159705668388564",
         "0.0"
        ],
        [
         "CHEMBL1708496",
         "<rdkit.Chem.rdchem.Mol object at 0x72970ca94200>",
         "5.542118103266008",
         "0.0"
        ],
        [
         "CHEMBL1719168",
         "<rdkit.Chem.rdchem.Mol object at 0x72970ca94190>",
         "4.958607314841775",
         "0.0"
        ],
        [
         "CHEMBL1722357",
         "<rdkit.Chem.rdchem.Mol object at 0x72970ca94120>",
         "5.954677021213342",
         "0.0"
        ],
        [
         "CHEMBL1738926",
         "<rdkit.Chem.rdchem.Mol object at 0x72970ca940b0>",
         "6.853871964321762",
         "1.0"
        ],
        [
         "CHEMBL1828978",
         "<rdkit.Chem.rdchem.Mol object at 0x72970ca94040>",
         "5.154901959985743",
         "0.0"
        ],
        [
         "CHEMBL1828980",
         "<rdkit.Chem.rdchem.Mol object at 0x72970ca83f40>",
         "4.609064892896621",
         "0.0"
        ],
        [
         "CHEMBL1828981",
         "<rdkit.Chem.rdchem.Mol object at 0x72970ca83ed0>",
         "4.634512015109101",
         "0.0"
        ],
        [
         "CHEMBL1828982",
         "<rdkit.Chem.rdchem.Mol object at 0x72970ca83e60>",
         "5.013228265733755",
         "0.0"
        ],
        [
         "CHEMBL1828983",
         "<rdkit.Chem.rdchem.Mol object at 0x72970ca83df0>",
         "5.113509274827518",
         "0.0"
        ],
        [
         "CHEMBL1828984",
         "<rdkit.Chem.rdchem.Mol object at 0x72970ca83d80>",
         "4.29073003902417",
         "0.0"
        ],
        [
         "CHEMBL1828985",
         "<rdkit.Chem.rdchem.Mol object at 0x72970ca83d10>",
         "5.1249387366083",
         "0.0"
        ],
        [
         "CHEMBL1828986",
         "<rdkit.Chem.rdchem.Mol object at 0x72970ca83ca0>",
         "5.318758762624412",
         "0.0"
        ],
        [
         "CHEMBL188678",
         "<rdkit.Chem.rdchem.Mol object at 0x72970ca83c30>",
         "6.0",
         "0.0"
        ],
        [
         "CHEMBL1950956",
         "<rdkit.Chem.rdchem.Mol object at 0x72970ca83bc0>",
         "5.0",
         "0.0"
        ],
        [
         "CHEMBL1950957",
         "<rdkit.Chem.rdchem.Mol object at 0x72970ca83b50>",
         "4.522878745280337",
         "0.0"
        ],
        [
         "CHEMBL1957266",
         "<rdkit.Chem.rdchem.Mol object at 0x72970ca83ae0>",
         "7.161150909262744",
         "1.0"
        ],
        [
         "CHEMBL1968380",
         "<rdkit.Chem.rdchem.Mol object at 0x72970ca83a70>",
         "7.6020599913279625",
         "1.0"
        ],
        [
         "CHEMBL1995703",
         "<rdkit.Chem.rdchem.Mol object at 0x72970ca83990>",
         "6.886056647693163",
         "1.0"
        ],
        [
         "CHEMBL2017291",
         "<rdkit.Chem.rdchem.Mol object at 0x72970cbdce40>",
         "6.942333896090171",
         "1.0"
        ],
        [
         "CHEMBL2094361",
         "<rdkit.Chem.rdchem.Mol object at 0x72970ca83920>",
         "6.0",
         "0.0"
        ],
        [
         "CHEMBL2094437",
         "<rdkit.Chem.rdchem.Mol object at 0x72970ca838b0>",
         "6.4723700991286615",
         null
        ],
        [
         "CHEMBL2094636",
         "<rdkit.Chem.rdchem.Mol object at 0x72970ca83840>",
         "5.366531544420413",
         "0.0"
        ],
        [
         "CHEMBL2103840",
         "<rdkit.Chem.rdchem.Mol object at 0x72970ca837d0>",
         "4.721246399047171",
         "0.0"
        ],
        [
         "CHEMBL2132936",
         "<rdkit.Chem.rdchem.Mol object at 0x72970ca83760>",
         "7.167491087293763",
         "1.0"
        ]
       ],
       "shape": {
        "columns": 3,
        "rows": 2920
       }
      },
      "text/html": [
       "<div>\n",
       "<style scoped>\n",
       "    .dataframe tbody tr th:only-of-type {\n",
       "        vertical-align: middle;\n",
       "    }\n",
       "\n",
       "    .dataframe tbody tr th {\n",
       "        vertical-align: top;\n",
       "    }\n",
       "\n",
       "    .dataframe thead th {\n",
       "        text-align: right;\n",
       "    }\n",
       "</style>\n",
       "<table border=\"1\" class=\"dataframe\">\n",
       "  <thead>\n",
       "    <tr style=\"text-align: right;\">\n",
       "      <th></th>\n",
       "      <th>Mol</th>\n",
       "      <th>pIC50</th>\n",
       "      <th>active</th>\n",
       "    </tr>\n",
       "    <tr>\n",
       "      <th>ID</th>\n",
       "      <th></th>\n",
       "      <th></th>\n",
       "      <th></th>\n",
       "    </tr>\n",
       "  </thead>\n",
       "  <tbody>\n",
       "    <tr>\n",
       "      <th>CHEMBL1097107</th>\n",
       "      <td>&lt;rdkit.Chem.rdchem.Mol object at 0x72970ca94dd0&gt;</td>\n",
       "      <td>6.255</td>\n",
       "      <td>NaN</td>\n",
       "    </tr>\n",
       "    <tr>\n",
       "      <th>CHEMBL1232461</th>\n",
       "      <td>&lt;rdkit.Chem.rdchem.Mol object at 0x72970ca94cf0&gt;</td>\n",
       "      <td>7.007</td>\n",
       "      <td>1.000</td>\n",
       "    </tr>\n",
       "    <tr>\n",
       "      <th>CHEMBL1233528</th>\n",
       "      <td>&lt;rdkit.Chem.rdchem.Mol object at 0x72970ca94c80&gt;</td>\n",
       "      <td>6.922</td>\n",
       "      <td>1.000</td>\n",
       "    </tr>\n",
       "    <tr>\n",
       "      <th>CHEMBL1287853</th>\n",
       "      <td>&lt;rdkit.Chem.rdchem.Mol object at 0x72970ca94e40&gt;</td>\n",
       "      <td>6.538</td>\n",
       "      <td>NaN</td>\n",
       "    </tr>\n",
       "    <tr>\n",
       "      <th>CHEMBL1313432</th>\n",
       "      <td>&lt;rdkit.Chem.rdchem.Mol object at 0x72970ca94eb0&gt;</td>\n",
       "      <td>5.180</td>\n",
       "      <td>0.000</td>\n",
       "    </tr>\n",
       "    <tr>\n",
       "      <th>...</th>\n",
       "      <td>...</td>\n",
       "      <td>...</td>\n",
       "      <td>...</td>\n",
       "    </tr>\n",
       "    <tr>\n",
       "      <th>CHEMBL5440963</th>\n",
       "      <td>&lt;rdkit.Chem.rdchem.Mol object at 0x72970ca4b060&gt;</td>\n",
       "      <td>8.000</td>\n",
       "      <td>1.000</td>\n",
       "    </tr>\n",
       "    <tr>\n",
       "      <th>CHEMBL848</th>\n",
       "      <td>&lt;rdkit.Chem.rdchem.Mol object at 0x72970ca4aff0&gt;</td>\n",
       "      <td>5.285</td>\n",
       "      <td>0.000</td>\n",
       "    </tr>\n",
       "    <tr>\n",
       "      <th>CHEMBL9</th>\n",
       "      <td>&lt;rdkit.Chem.rdchem.Mol object at 0x72970ca4af80&gt;</td>\n",
       "      <td>6.009</td>\n",
       "      <td>0.000</td>\n",
       "    </tr>\n",
       "    <tr>\n",
       "      <th>CHEMBL98</th>\n",
       "      <td>&lt;rdkit.Chem.rdchem.Mol object at 0x72970ca4af10&gt;</td>\n",
       "      <td>7.365</td>\n",
       "      <td>1.000</td>\n",
       "    </tr>\n",
       "    <tr>\n",
       "      <th>CHEMBL98350</th>\n",
       "      <td>&lt;rdkit.Chem.rdchem.Mol object at 0x72970ca4aea0&gt;</td>\n",
       "      <td>4.907</td>\n",
       "      <td>0.000</td>\n",
       "    </tr>\n",
       "  </tbody>\n",
       "</table>\n",
       "<p>2920 rows × 3 columns</p>\n",
       "</div>"
      ],
      "text/plain": [
       "                                                            Mol  pIC50  active\n",
       "ID                                                                            \n",
       "CHEMBL1097107  <rdkit.Chem.rdchem.Mol object at 0x72970ca94dd0>  6.255     NaN\n",
       "CHEMBL1232461  <rdkit.Chem.rdchem.Mol object at 0x72970ca94cf0>  7.007   1.000\n",
       "CHEMBL1233528  <rdkit.Chem.rdchem.Mol object at 0x72970ca94c80>  6.922   1.000\n",
       "CHEMBL1287853  <rdkit.Chem.rdchem.Mol object at 0x72970ca94e40>  6.538     NaN\n",
       "CHEMBL1313432  <rdkit.Chem.rdchem.Mol object at 0x72970ca94eb0>  5.180   0.000\n",
       "...                                                         ...    ...     ...\n",
       "CHEMBL5440963  <rdkit.Chem.rdchem.Mol object at 0x72970ca4b060>  8.000   1.000\n",
       "CHEMBL848      <rdkit.Chem.rdchem.Mol object at 0x72970ca4aff0>  5.285   0.000\n",
       "CHEMBL9        <rdkit.Chem.rdchem.Mol object at 0x72970ca4af80>  6.009   0.000\n",
       "CHEMBL98       <rdkit.Chem.rdchem.Mol object at 0x72970ca4af10>  7.365   1.000\n",
       "CHEMBL98350    <rdkit.Chem.rdchem.Mol object at 0x72970ca4aea0>  4.907   0.000\n",
       "\n",
       "[2920 rows x 3 columns]"
      ]
     },
     "execution_count": 47,
     "metadata": {},
     "output_type": "execute_result"
    }
   ],
   "source": [
    "df[\"active\"] = np.nan\n",
    "df.loc[actives, \"active\"] = 1\n",
    "df.loc[inactives, \"active\"] = 0\n",
    "\n",
    "print(\"{} active cmpds\".format(int(df[\"active\"].sum())))\n",
    "print(\"{} inactive cmpds\".format(int((df[\"active\"] == 0).sum())))\n",
    "print(\"{} compds not assigned\".format(df[\"active\"].isna().sum()))\n",
    "df"
   ]
  },
  {
   "cell_type": "markdown",
   "id": "250c8da6-94a6-4405-a6f0-d0c6f5942305",
   "metadata": {
    "tags": []
   },
   "source": [
    "# Export Data Sets"
   ]
  },
  {
   "cell_type": "markdown",
   "id": "27f9045c-3ae5-4a91-82ae-d642918dd925",
   "metadata": {
    "tags": []
   },
   "source": [
    "## All cmpds"
   ]
  },
  {
   "cell_type": "code",
   "execution_count": 48,
   "id": "6b70d7ab-442a-4a9c-8571-6a5989e7149a",
   "metadata": {
    "tags": []
   },
   "outputs": [],
   "source": [
    "### Write Data to SD-file for inspection with other software\n",
    "EDA_all_df = copy.deepcopy(df)\n",
    "EDA_all_df = EDA_all_df.reset_index()\n",
    "PandasTools.WriteSDF(\n",
    "    EDA_all_df,\n",
    "    \"../data/01_brd4_all_inhibitors.sdf\",\n",
    "    molColName=\"Mol\",\n",
    "    idName=\"ID\",\n",
    "    properties=list(EDA_all_df.columns),\n",
    ")"
   ]
  },
  {
   "cell_type": "code",
   "execution_count": 49,
   "id": "a7160cbd-5c82-40bd-9b59-330da654b529",
   "metadata": {
    "tags": []
   },
   "outputs": [],
   "source": [
    "### Write pickled file for code development\n",
    "EDA_all_df.to_pickle(\"temp/01_brd4_all_inhibitors.pkl\")"
   ]
  },
  {
   "cell_type": "markdown",
   "id": "f0c417b9-cadd-4cec-8509-f23a21c1077c",
   "metadata": {
    "tags": []
   },
   "source": [
    "### Drop cmpds without labels"
   ]
  },
  {
   "cell_type": "code",
   "execution_count": 50,
   "id": "5c8f1372-9f19-4de0-ba9e-8eb85da36dcc",
   "metadata": {
    "scrolled": true,
    "tags": []
   },
   "outputs": [
    {
     "name": "stdout",
     "output_type": "stream",
     "text": [
      "2397 unique inhibitors\n",
      "1188 (50%) labelled as active\n"
     ]
    }
   ],
   "source": [
    "df = df.dropna()\n",
    "print(\"{} unique inhibitors\".format(len(df)))\n",
    "print(\n",
    "    \"{} ({}%) labelled as active\".format(\n",
    "        int(df[\"active\"].sum()), round(100 * df[\"active\"].mean())\n",
    "    )\n",
    ")"
   ]
  },
  {
   "cell_type": "code",
   "execution_count": 51,
   "id": "b6b2f7f3-274d-47be-ab8b-42e2dff08cdb",
   "metadata": {
    "tags": []
   },
   "outputs": [],
   "source": [
    "### Write pickled file for next step\n",
    "df.to_pickle(\"../data/01_brd4_inhibitors_2k.pkl\")"
   ]
  }
 ],
 "metadata": {
  "kernelspec": {
   "display_name": "brd4",
   "language": "python",
   "name": "python3"
  },
  "language_info": {
   "codemirror_mode": {
    "name": "ipython",
    "version": 3
   },
   "file_extension": ".py",
   "mimetype": "text/x-python",
   "name": "python",
   "nbconvert_exporter": "python",
   "pygments_lexer": "ipython3",
   "version": "3.11.11"
  },
  "toc-autonumbering": true,
  "toc-showcode": false,
  "toc-showmarkdowntxt": false,
  "toc-showtags": false
 },
 "nbformat": 4,
 "nbformat_minor": 5
}
